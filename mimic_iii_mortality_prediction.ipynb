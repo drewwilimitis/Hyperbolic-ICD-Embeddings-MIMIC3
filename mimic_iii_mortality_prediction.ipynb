{
 "cells": [
  {
   "cell_type": "markdown",
   "metadata": {},
   "source": [
    "# MIMIC: Mortality Prediction with ICD Hyperbolic Embedding Features\n",
    "by: Drew Wilimitis <br>\n",
    "\n",
    "**Purpose:** Test the effect of using hyperbolically embedded ICD code features in the mortality prediction problem.<br>\n",
    "\n",
    "**Outline:**\n",
    "\n",
    "Part A: Training Embeddings <br>\n",
    "1. Build co-occurrence relations based on combinations of icd codes listed within each hospital admission <br>\n",
    "2. Train embeddings of icd codes in poincare disk <br>\n",
    "3. Use the co-occurrence relations and train euclidean embeddings with word2vec and GloVe algorithms <br>\n",
    "4. Evaluate and compare embeddings with distance ratios and other metrics\n",
    "\n",
    "Part B: Clustering <br>\n",
    "1. Fit hyperbolic k-means to poincare embeddings and compare to euclidean clustering (on poincare and euclidean embeddings) <br>\n",
    "2. Evaluate unsupervised clustering performance and compare mortality/other variables across clusters <br>\n",
    "\n",
    "Part C: Mortality Prediction <br>\n",
    "1. Define sensible features and pre-process data for prediction task <br>\n",
    "2. Train models and analyze performance effect of using euclidean vs. hyperbolic embedding features <br>\n",
    "\n",
    "Note: For euclidean embeddings, reference https://arxiv.org/pdf/1804.01486.pdf <br>\n",
    "\n",
    "Note: Also compare to https://github.com/brettbj/PoincareEmbeddings"
   ]
  },
  {
   "cell_type": "markdown",
   "metadata": {},
   "source": [
    "## Importing Libraries and Loading Data"
   ]
  },
  {
   "cell_type": "code",
   "execution_count": 40,
   "metadata": {
    "ExecuteTime": {
     "end_time": "2020-08-21T04:44:30.392741Z",
     "start_time": "2020-08-21T04:44:30.383269Z"
    }
   },
   "outputs": [],
   "source": [
    "# import libraries\n",
    "import numpy as np\n",
    "import pandas as pd\n",
    "import matplotlib.pyplot as plt\n",
    "import seaborn as sns\n",
    "plt.style.use('seaborn')\n",
    "%matplotlib inline\n",
    "import networkx as nx\n",
    "import sys\n",
    "import os\n",
    "import json\n",
    "\n",
    "# import locally stored library\n",
    "sys.path.append('/Users/drew/Desktop')\n",
    "sys.path.append('/Users/drew/Desktop/vu_informatics')\n",
    "from icd9 import icd9\n",
    "\n",
    "# ignore warnings\n",
    "import warnings\n",
    "warnings.filterwarnings('ignore');\n",
    "\n",
    "# display multiple outputs within a cell\n",
    "from IPython.core.interactiveshell import InteractiveShell\n",
    "InteractiveShell.ast_node_interactivity = \"all\";"
   ]
  },
  {
   "cell_type": "code",
   "execution_count": 41,
   "metadata": {
    "ExecuteTime": {
     "end_time": "2020-08-21T04:44:30.668053Z",
     "start_time": "2020-08-21T04:44:30.395441Z"
    }
   },
   "outputs": [
    {
     "data": {
      "text/html": [
       "<div>\n",
       "<style scoped>\n",
       "    .dataframe tbody tr th:only-of-type {\n",
       "        vertical-align: middle;\n",
       "    }\n",
       "\n",
       "    .dataframe tbody tr th {\n",
       "        vertical-align: top;\n",
       "    }\n",
       "\n",
       "    .dataframe thead th {\n",
       "        text-align: right;\n",
       "    }\n",
       "</style>\n",
       "<table border=\"1\" class=\"dataframe\">\n",
       "  <thead>\n",
       "    <tr style=\"text-align: right;\">\n",
       "      <th></th>\n",
       "      <th>ROW_ID</th>\n",
       "      <th>SUBJECT_ID</th>\n",
       "      <th>HADM_ID</th>\n",
       "      <th>ADMITTIME</th>\n",
       "      <th>DISCHTIME</th>\n",
       "      <th>DEATHTIME</th>\n",
       "      <th>ADMISSION_TYPE</th>\n",
       "      <th>ADMISSION_LOCATION</th>\n",
       "      <th>DISCHARGE_LOCATION</th>\n",
       "      <th>INSURANCE</th>\n",
       "      <th>LANGUAGE</th>\n",
       "      <th>RELIGION</th>\n",
       "      <th>MARITAL_STATUS</th>\n",
       "      <th>ETHNICITY</th>\n",
       "      <th>EDREGTIME</th>\n",
       "      <th>EDOUTTIME</th>\n",
       "      <th>DIAGNOSIS</th>\n",
       "      <th>HOSPITAL_EXPIRE_FLAG</th>\n",
       "      <th>HAS_CHARTEVENTS_DATA</th>\n",
       "    </tr>\n",
       "  </thead>\n",
       "  <tbody>\n",
       "    <tr>\n",
       "      <th>0</th>\n",
       "      <td>21</td>\n",
       "      <td>22</td>\n",
       "      <td>165315</td>\n",
       "      <td>2196-04-09 12:26:00</td>\n",
       "      <td>2196-04-10 15:54:00</td>\n",
       "      <td>NaN</td>\n",
       "      <td>EMERGENCY</td>\n",
       "      <td>EMERGENCY ROOM ADMIT</td>\n",
       "      <td>DISC-TRAN CANCER/CHLDRN H</td>\n",
       "      <td>Private</td>\n",
       "      <td>NaN</td>\n",
       "      <td>UNOBTAINABLE</td>\n",
       "      <td>MARRIED</td>\n",
       "      <td>WHITE</td>\n",
       "      <td>2196-04-09 10:06:00</td>\n",
       "      <td>2196-04-09 13:24:00</td>\n",
       "      <td>BENZODIAZEPINE OVERDOSE</td>\n",
       "      <td>0</td>\n",
       "      <td>1</td>\n",
       "    </tr>\n",
       "    <tr>\n",
       "      <th>1</th>\n",
       "      <td>22</td>\n",
       "      <td>23</td>\n",
       "      <td>152223</td>\n",
       "      <td>2153-09-03 07:15:00</td>\n",
       "      <td>2153-09-08 19:10:00</td>\n",
       "      <td>NaN</td>\n",
       "      <td>ELECTIVE</td>\n",
       "      <td>PHYS REFERRAL/NORMAL DELI</td>\n",
       "      <td>HOME HEALTH CARE</td>\n",
       "      <td>Medicare</td>\n",
       "      <td>NaN</td>\n",
       "      <td>CATHOLIC</td>\n",
       "      <td>MARRIED</td>\n",
       "      <td>WHITE</td>\n",
       "      <td>NaN</td>\n",
       "      <td>NaN</td>\n",
       "      <td>CORONARY ARTERY DISEASE\\CORONARY ARTERY BYPASS...</td>\n",
       "      <td>0</td>\n",
       "      <td>1</td>\n",
       "    </tr>\n",
       "    <tr>\n",
       "      <th>2</th>\n",
       "      <td>23</td>\n",
       "      <td>23</td>\n",
       "      <td>124321</td>\n",
       "      <td>2157-10-18 19:34:00</td>\n",
       "      <td>2157-10-25 14:00:00</td>\n",
       "      <td>NaN</td>\n",
       "      <td>EMERGENCY</td>\n",
       "      <td>TRANSFER FROM HOSP/EXTRAM</td>\n",
       "      <td>HOME HEALTH CARE</td>\n",
       "      <td>Medicare</td>\n",
       "      <td>ENGL</td>\n",
       "      <td>CATHOLIC</td>\n",
       "      <td>MARRIED</td>\n",
       "      <td>WHITE</td>\n",
       "      <td>NaN</td>\n",
       "      <td>NaN</td>\n",
       "      <td>BRAIN MASS</td>\n",
       "      <td>0</td>\n",
       "      <td>1</td>\n",
       "    </tr>\n",
       "    <tr>\n",
       "      <th>3</th>\n",
       "      <td>24</td>\n",
       "      <td>24</td>\n",
       "      <td>161859</td>\n",
       "      <td>2139-06-06 16:14:00</td>\n",
       "      <td>2139-06-09 12:48:00</td>\n",
       "      <td>NaN</td>\n",
       "      <td>EMERGENCY</td>\n",
       "      <td>TRANSFER FROM HOSP/EXTRAM</td>\n",
       "      <td>HOME</td>\n",
       "      <td>Private</td>\n",
       "      <td>NaN</td>\n",
       "      <td>PROTESTANT QUAKER</td>\n",
       "      <td>SINGLE</td>\n",
       "      <td>WHITE</td>\n",
       "      <td>NaN</td>\n",
       "      <td>NaN</td>\n",
       "      <td>INTERIOR MYOCARDIAL INFARCTION</td>\n",
       "      <td>0</td>\n",
       "      <td>1</td>\n",
       "    </tr>\n",
       "    <tr>\n",
       "      <th>4</th>\n",
       "      <td>25</td>\n",
       "      <td>25</td>\n",
       "      <td>129635</td>\n",
       "      <td>2160-11-02 02:06:00</td>\n",
       "      <td>2160-11-05 14:55:00</td>\n",
       "      <td>NaN</td>\n",
       "      <td>EMERGENCY</td>\n",
       "      <td>EMERGENCY ROOM ADMIT</td>\n",
       "      <td>HOME</td>\n",
       "      <td>Private</td>\n",
       "      <td>NaN</td>\n",
       "      <td>UNOBTAINABLE</td>\n",
       "      <td>MARRIED</td>\n",
       "      <td>WHITE</td>\n",
       "      <td>2160-11-02 01:01:00</td>\n",
       "      <td>2160-11-02 04:27:00</td>\n",
       "      <td>ACUTE CORONARY SYNDROME</td>\n",
       "      <td>0</td>\n",
       "      <td>1</td>\n",
       "    </tr>\n",
       "  </tbody>\n",
       "</table>\n",
       "</div>"
      ],
      "text/plain": [
       "   ROW_ID  SUBJECT_ID  HADM_ID            ADMITTIME            DISCHTIME  \\\n",
       "0      21          22   165315  2196-04-09 12:26:00  2196-04-10 15:54:00   \n",
       "1      22          23   152223  2153-09-03 07:15:00  2153-09-08 19:10:00   \n",
       "2      23          23   124321  2157-10-18 19:34:00  2157-10-25 14:00:00   \n",
       "3      24          24   161859  2139-06-06 16:14:00  2139-06-09 12:48:00   \n",
       "4      25          25   129635  2160-11-02 02:06:00  2160-11-05 14:55:00   \n",
       "\n",
       "  DEATHTIME ADMISSION_TYPE         ADMISSION_LOCATION  \\\n",
       "0       NaN      EMERGENCY       EMERGENCY ROOM ADMIT   \n",
       "1       NaN       ELECTIVE  PHYS REFERRAL/NORMAL DELI   \n",
       "2       NaN      EMERGENCY  TRANSFER FROM HOSP/EXTRAM   \n",
       "3       NaN      EMERGENCY  TRANSFER FROM HOSP/EXTRAM   \n",
       "4       NaN      EMERGENCY       EMERGENCY ROOM ADMIT   \n",
       "\n",
       "          DISCHARGE_LOCATION INSURANCE LANGUAGE           RELIGION  \\\n",
       "0  DISC-TRAN CANCER/CHLDRN H   Private      NaN       UNOBTAINABLE   \n",
       "1           HOME HEALTH CARE  Medicare      NaN           CATHOLIC   \n",
       "2           HOME HEALTH CARE  Medicare     ENGL           CATHOLIC   \n",
       "3                       HOME   Private      NaN  PROTESTANT QUAKER   \n",
       "4                       HOME   Private      NaN       UNOBTAINABLE   \n",
       "\n",
       "  MARITAL_STATUS ETHNICITY            EDREGTIME            EDOUTTIME  \\\n",
       "0        MARRIED     WHITE  2196-04-09 10:06:00  2196-04-09 13:24:00   \n",
       "1        MARRIED     WHITE                  NaN                  NaN   \n",
       "2        MARRIED     WHITE                  NaN                  NaN   \n",
       "3         SINGLE     WHITE                  NaN                  NaN   \n",
       "4        MARRIED     WHITE  2160-11-02 01:01:00  2160-11-02 04:27:00   \n",
       "\n",
       "                                           DIAGNOSIS  HOSPITAL_EXPIRE_FLAG  \\\n",
       "0                            BENZODIAZEPINE OVERDOSE                     0   \n",
       "1  CORONARY ARTERY DISEASE\\CORONARY ARTERY BYPASS...                     0   \n",
       "2                                         BRAIN MASS                     0   \n",
       "3                     INTERIOR MYOCARDIAL INFARCTION                     0   \n",
       "4                            ACUTE CORONARY SYNDROME                     0   \n",
       "\n",
       "   HAS_CHARTEVENTS_DATA  \n",
       "0                     1  \n",
       "1                     1  \n",
       "2                     1  \n",
       "3                     1  \n",
       "4                     1  "
      ]
     },
     "execution_count": 41,
     "metadata": {},
     "output_type": "execute_result"
    },
    {
     "data": {
      "text/plain": [
       "(58976, 19)"
      ]
     },
     "execution_count": 41,
     "metadata": {},
     "output_type": "execute_result"
    },
    {
     "data": {
      "text/plain": [
       "SUBJECT_ID    46520\n",
       "HADM_ID       58976\n",
       "DIAGNOSIS     15691\n",
       "dtype: int64"
      ]
     },
     "execution_count": 41,
     "metadata": {},
     "output_type": "execute_result"
    },
    {
     "data": {
      "text/plain": [
       "SUBJECT_ID     0\n",
       "HADM_ID        0\n",
       "DIAGNOSIS     25\n",
       "dtype: int64"
      ]
     },
     "execution_count": 41,
     "metadata": {},
     "output_type": "execute_result"
    },
    {
     "data": {
      "text/plain": [
       "EMERGENCY    0.713358\n",
       "NEWBORN      0.133325\n",
       "ELECTIVE     0.130663\n",
       "URGENT       0.022653\n",
       "Name: ADMISSION_TYPE, dtype: float64"
      ]
     },
     "execution_count": 41,
     "metadata": {},
     "output_type": "execute_result"
    },
    {
     "data": {
      "text/plain": [
       "0.09926071622354857"
      ]
     },
     "execution_count": 41,
     "metadata": {},
     "output_type": "execute_result"
    },
    {
     "data": {
      "text/plain": [
       "0.9730059685295713"
      ]
     },
     "execution_count": 41,
     "metadata": {},
     "output_type": "execute_result"
    }
   ],
   "source": [
    "adm = pd.read_csv('data/mimic-iii/ADMISSIONS.csv')\n",
    "adm.head()\n",
    "adm.shape\n",
    "adm[['SUBJECT_ID', 'HADM_ID', 'DIAGNOSIS']].nunique()\n",
    "adm[['SUBJECT_ID', 'HADM_ID', 'DIAGNOSIS']].isna().sum()\n",
    "adm['ADMISSION_TYPE'].value_counts() / adm.shape[0]\n",
    "adm['HOSPITAL_EXPIRE_FLAG'].mean()\n",
    "adm['HAS_CHARTEVENTS_DATA'].mean()"
   ]
  },
  {
   "cell_type": "code",
   "execution_count": 42,
   "metadata": {
    "ExecuteTime": {
     "end_time": "2020-08-21T04:44:30.815159Z",
     "start_time": "2020-08-21T04:44:30.670821Z"
    }
   },
   "outputs": [
    {
     "data": {
      "text/html": [
       "<div>\n",
       "<style scoped>\n",
       "    .dataframe tbody tr th:only-of-type {\n",
       "        vertical-align: middle;\n",
       "    }\n",
       "\n",
       "    .dataframe tbody tr th {\n",
       "        vertical-align: top;\n",
       "    }\n",
       "\n",
       "    .dataframe thead th {\n",
       "        text-align: right;\n",
       "    }\n",
       "</style>\n",
       "<table border=\"1\" class=\"dataframe\">\n",
       "  <thead>\n",
       "    <tr style=\"text-align: right;\">\n",
       "      <th></th>\n",
       "      <th>ROW_ID</th>\n",
       "      <th>SUBJECT_ID</th>\n",
       "      <th>HADM_ID</th>\n",
       "      <th>ICUSTAY_ID</th>\n",
       "      <th>DBSOURCE</th>\n",
       "      <th>FIRST_CAREUNIT</th>\n",
       "      <th>LAST_CAREUNIT</th>\n",
       "      <th>FIRST_WARDID</th>\n",
       "      <th>LAST_WARDID</th>\n",
       "      <th>INTIME</th>\n",
       "      <th>OUTTIME</th>\n",
       "      <th>LOS</th>\n",
       "    </tr>\n",
       "  </thead>\n",
       "  <tbody>\n",
       "    <tr>\n",
       "      <th>0</th>\n",
       "      <td>365</td>\n",
       "      <td>268</td>\n",
       "      <td>110404</td>\n",
       "      <td>280836</td>\n",
       "      <td>carevue</td>\n",
       "      <td>MICU</td>\n",
       "      <td>MICU</td>\n",
       "      <td>52</td>\n",
       "      <td>52</td>\n",
       "      <td>2198-02-14 23:27:38</td>\n",
       "      <td>2198-02-18 05:26:11</td>\n",
       "      <td>3.2490</td>\n",
       "    </tr>\n",
       "    <tr>\n",
       "      <th>1</th>\n",
       "      <td>366</td>\n",
       "      <td>269</td>\n",
       "      <td>106296</td>\n",
       "      <td>206613</td>\n",
       "      <td>carevue</td>\n",
       "      <td>MICU</td>\n",
       "      <td>MICU</td>\n",
       "      <td>52</td>\n",
       "      <td>52</td>\n",
       "      <td>2170-11-05 11:05:29</td>\n",
       "      <td>2170-11-08 17:46:57</td>\n",
       "      <td>3.2788</td>\n",
       "    </tr>\n",
       "    <tr>\n",
       "      <th>2</th>\n",
       "      <td>367</td>\n",
       "      <td>270</td>\n",
       "      <td>188028</td>\n",
       "      <td>220345</td>\n",
       "      <td>carevue</td>\n",
       "      <td>CCU</td>\n",
       "      <td>CCU</td>\n",
       "      <td>57</td>\n",
       "      <td>57</td>\n",
       "      <td>2128-06-24 15:05:20</td>\n",
       "      <td>2128-06-27 12:32:29</td>\n",
       "      <td>2.8939</td>\n",
       "    </tr>\n",
       "    <tr>\n",
       "      <th>3</th>\n",
       "      <td>368</td>\n",
       "      <td>271</td>\n",
       "      <td>173727</td>\n",
       "      <td>249196</td>\n",
       "      <td>carevue</td>\n",
       "      <td>MICU</td>\n",
       "      <td>SICU</td>\n",
       "      <td>52</td>\n",
       "      <td>23</td>\n",
       "      <td>2120-08-07 23:12:42</td>\n",
       "      <td>2120-08-10 00:39:04</td>\n",
       "      <td>2.0600</td>\n",
       "    </tr>\n",
       "    <tr>\n",
       "      <th>4</th>\n",
       "      <td>369</td>\n",
       "      <td>272</td>\n",
       "      <td>164716</td>\n",
       "      <td>210407</td>\n",
       "      <td>carevue</td>\n",
       "      <td>CCU</td>\n",
       "      <td>CCU</td>\n",
       "      <td>57</td>\n",
       "      <td>57</td>\n",
       "      <td>2186-12-25 21:08:04</td>\n",
       "      <td>2186-12-27 12:01:13</td>\n",
       "      <td>1.6202</td>\n",
       "    </tr>\n",
       "  </tbody>\n",
       "</table>\n",
       "</div>"
      ],
      "text/plain": [
       "   ROW_ID  SUBJECT_ID  HADM_ID  ICUSTAY_ID DBSOURCE FIRST_CAREUNIT  \\\n",
       "0     365         268   110404      280836  carevue           MICU   \n",
       "1     366         269   106296      206613  carevue           MICU   \n",
       "2     367         270   188028      220345  carevue            CCU   \n",
       "3     368         271   173727      249196  carevue           MICU   \n",
       "4     369         272   164716      210407  carevue            CCU   \n",
       "\n",
       "  LAST_CAREUNIT  FIRST_WARDID  LAST_WARDID               INTIME  \\\n",
       "0          MICU            52           52  2198-02-14 23:27:38   \n",
       "1          MICU            52           52  2170-11-05 11:05:29   \n",
       "2           CCU            57           57  2128-06-24 15:05:20   \n",
       "3          SICU            52           23  2120-08-07 23:12:42   \n",
       "4           CCU            57           57  2186-12-25 21:08:04   \n",
       "\n",
       "               OUTTIME     LOS  \n",
       "0  2198-02-18 05:26:11  3.2490  \n",
       "1  2170-11-08 17:46:57  3.2788  \n",
       "2  2128-06-27 12:32:29  2.8939  \n",
       "3  2120-08-10 00:39:04  2.0600  \n",
       "4  2186-12-27 12:01:13  1.6202  "
      ]
     },
     "execution_count": 42,
     "metadata": {},
     "output_type": "execute_result"
    },
    {
     "data": {
      "text/plain": [
       "(61532, 12)"
      ]
     },
     "execution_count": 42,
     "metadata": {},
     "output_type": "execute_result"
    },
    {
     "data": {
      "text/plain": [
       "SUBJECT_ID    46476\n",
       "HADM_ID       57786\n",
       "ICUSTAY_ID    61532\n",
       "dtype: int64"
      ]
     },
     "execution_count": 42,
     "metadata": {},
     "output_type": "execute_result"
    },
    {
     "data": {
      "text/plain": [
       "SUBJECT_ID    0\n",
       "HADM_ID       0\n",
       "ICUSTAY_ID    0\n",
       "dtype: int64"
      ]
     },
     "execution_count": 42,
     "metadata": {},
     "output_type": "execute_result"
    },
    {
     "data": {
      "text/plain": [
       "4.91797158089793"
      ]
     },
     "execution_count": 42,
     "metadata": {},
     "output_type": "execute_result"
    }
   ],
   "source": [
    "icu = pd.read_csv('data/mimic-iii/ICUSTAYS.csv')\n",
    "icu.head()\n",
    "icu.shape\n",
    "icu[['SUBJECT_ID', 'HADM_ID', 'ICUSTAY_ID']].nunique()\n",
    "icu[['SUBJECT_ID', 'HADM_ID', 'ICUSTAY_ID']].isna().sum()\n",
    "icu['LOS'].mean()"
   ]
  },
  {
   "cell_type": "code",
   "execution_count": 43,
   "metadata": {
    "ExecuteTime": {
     "end_time": "2020-08-21T04:44:30.856759Z",
     "start_time": "2020-08-21T04:44:30.817064Z"
    }
   },
   "outputs": [
    {
     "data": {
      "text/html": [
       "<div>\n",
       "<style scoped>\n",
       "    .dataframe tbody tr th:only-of-type {\n",
       "        vertical-align: middle;\n",
       "    }\n",
       "\n",
       "    .dataframe tbody tr th {\n",
       "        vertical-align: top;\n",
       "    }\n",
       "\n",
       "    .dataframe thead th {\n",
       "        text-align: right;\n",
       "    }\n",
       "</style>\n",
       "<table border=\"1\" class=\"dataframe\">\n",
       "  <thead>\n",
       "    <tr style=\"text-align: right;\">\n",
       "      <th></th>\n",
       "      <th>ROW_ID</th>\n",
       "      <th>ICD9_CODE</th>\n",
       "      <th>SHORT_TITLE</th>\n",
       "      <th>LONG_TITLE</th>\n",
       "    </tr>\n",
       "  </thead>\n",
       "  <tbody>\n",
       "    <tr>\n",
       "      <th>0</th>\n",
       "      <td>174</td>\n",
       "      <td>01166</td>\n",
       "      <td>TB pneumonia-oth test</td>\n",
       "      <td>Tuberculous pneumonia [any form], tubercle bac...</td>\n",
       "    </tr>\n",
       "    <tr>\n",
       "      <th>1</th>\n",
       "      <td>175</td>\n",
       "      <td>01170</td>\n",
       "      <td>TB pneumothorax-unspec</td>\n",
       "      <td>Tuberculous pneumothorax, unspecified</td>\n",
       "    </tr>\n",
       "    <tr>\n",
       "      <th>2</th>\n",
       "      <td>176</td>\n",
       "      <td>01171</td>\n",
       "      <td>TB pneumothorax-no exam</td>\n",
       "      <td>Tuberculous pneumothorax, bacteriological or h...</td>\n",
       "    </tr>\n",
       "    <tr>\n",
       "      <th>3</th>\n",
       "      <td>177</td>\n",
       "      <td>01172</td>\n",
       "      <td>TB pneumothorx-exam unkn</td>\n",
       "      <td>Tuberculous pneumothorax, bacteriological or h...</td>\n",
       "    </tr>\n",
       "    <tr>\n",
       "      <th>4</th>\n",
       "      <td>178</td>\n",
       "      <td>01173</td>\n",
       "      <td>TB pneumothorax-micro dx</td>\n",
       "      <td>Tuberculous pneumothorax, tubercle bacilli fou...</td>\n",
       "    </tr>\n",
       "  </tbody>\n",
       "</table>\n",
       "</div>"
      ],
      "text/plain": [
       "   ROW_ID ICD9_CODE               SHORT_TITLE  \\\n",
       "0     174     01166     TB pneumonia-oth test   \n",
       "1     175     01170    TB pneumothorax-unspec   \n",
       "2     176     01171   TB pneumothorax-no exam   \n",
       "3     177     01172  TB pneumothorx-exam unkn   \n",
       "4     178     01173  TB pneumothorax-micro dx   \n",
       "\n",
       "                                          LONG_TITLE  \n",
       "0  Tuberculous pneumonia [any form], tubercle bac...  \n",
       "1              Tuberculous pneumothorax, unspecified  \n",
       "2  Tuberculous pneumothorax, bacteriological or h...  \n",
       "3  Tuberculous pneumothorax, bacteriological or h...  \n",
       "4  Tuberculous pneumothorax, tubercle bacilli fou...  "
      ]
     },
     "execution_count": 43,
     "metadata": {},
     "output_type": "execute_result"
    },
    {
     "data": {
      "text/plain": [
       "(14567, 4)"
      ]
     },
     "execution_count": 43,
     "metadata": {},
     "output_type": "execute_result"
    }
   ],
   "source": [
    "ref_icd = pd.read_csv('data/mimic-iii/D_ICD_DIAGNOSES.csv')\n",
    "ref_icd.head()\n",
    "ref_icd.shape\n",
    "icd_code_to_name = dict(zip(ref_icd.ICD9_CODE.values, ref_icd.SHORT_TITLE.values))"
   ]
  },
  {
   "cell_type": "code",
   "execution_count": 44,
   "metadata": {
    "ExecuteTime": {
     "end_time": "2020-08-21T04:44:31.558483Z",
     "start_time": "2020-08-21T04:44:30.858192Z"
    }
   },
   "outputs": [
    {
     "data": {
      "text/html": [
       "<div>\n",
       "<style scoped>\n",
       "    .dataframe tbody tr th:only-of-type {\n",
       "        vertical-align: middle;\n",
       "    }\n",
       "\n",
       "    .dataframe tbody tr th {\n",
       "        vertical-align: top;\n",
       "    }\n",
       "\n",
       "    .dataframe thead th {\n",
       "        text-align: right;\n",
       "    }\n",
       "</style>\n",
       "<table border=\"1\" class=\"dataframe\">\n",
       "  <thead>\n",
       "    <tr style=\"text-align: right;\">\n",
       "      <th></th>\n",
       "      <th>ROW_ID</th>\n",
       "      <th>SUBJECT_ID</th>\n",
       "      <th>HADM_ID</th>\n",
       "      <th>SEQ_NUM</th>\n",
       "      <th>ICD9_CODE</th>\n",
       "    </tr>\n",
       "  </thead>\n",
       "  <tbody>\n",
       "    <tr>\n",
       "      <th>0</th>\n",
       "      <td>1297</td>\n",
       "      <td>109</td>\n",
       "      <td>172335</td>\n",
       "      <td>1.0</td>\n",
       "      <td>40301</td>\n",
       "    </tr>\n",
       "    <tr>\n",
       "      <th>1</th>\n",
       "      <td>1298</td>\n",
       "      <td>109</td>\n",
       "      <td>172335</td>\n",
       "      <td>2.0</td>\n",
       "      <td>486</td>\n",
       "    </tr>\n",
       "    <tr>\n",
       "      <th>2</th>\n",
       "      <td>1299</td>\n",
       "      <td>109</td>\n",
       "      <td>172335</td>\n",
       "      <td>3.0</td>\n",
       "      <td>58281</td>\n",
       "    </tr>\n",
       "    <tr>\n",
       "      <th>3</th>\n",
       "      <td>1300</td>\n",
       "      <td>109</td>\n",
       "      <td>172335</td>\n",
       "      <td>4.0</td>\n",
       "      <td>5855</td>\n",
       "    </tr>\n",
       "    <tr>\n",
       "      <th>4</th>\n",
       "      <td>1301</td>\n",
       "      <td>109</td>\n",
       "      <td>172335</td>\n",
       "      <td>5.0</td>\n",
       "      <td>4254</td>\n",
       "    </tr>\n",
       "  </tbody>\n",
       "</table>\n",
       "</div>"
      ],
      "text/plain": [
       "   ROW_ID  SUBJECT_ID  HADM_ID  SEQ_NUM ICD9_CODE\n",
       "0    1297         109   172335      1.0     40301\n",
       "1    1298         109   172335      2.0       486\n",
       "2    1299         109   172335      3.0     58281\n",
       "3    1300         109   172335      4.0      5855\n",
       "4    1301         109   172335      5.0      4254"
      ]
     },
     "execution_count": 44,
     "metadata": {},
     "output_type": "execute_result"
    },
    {
     "data": {
      "text/plain": [
       "(651047, 5)"
      ]
     },
     "execution_count": 44,
     "metadata": {},
     "output_type": "execute_result"
    },
    {
     "data": {
      "text/plain": [
       "SUBJECT_ID    46520\n",
       "HADM_ID       58976\n",
       "ICD9_CODE      6984\n",
       "dtype: int64"
      ]
     },
     "execution_count": 44,
     "metadata": {},
     "output_type": "execute_result"
    },
    {
     "data": {
      "text/plain": [
       "SUBJECT_ID     0\n",
       "HADM_ID        0\n",
       "ICD9_CODE     47\n",
       "dtype: int64"
      ]
     },
     "execution_count": 44,
     "metadata": {},
     "output_type": "execute_result"
    },
    {
     "data": {
      "text/plain": [
       "11.038388497015735"
      ]
     },
     "execution_count": 44,
     "metadata": {},
     "output_type": "execute_result"
    },
    {
     "data": {
      "text/plain": [
       "13.993981083404988"
      ]
     },
     "execution_count": 44,
     "metadata": {},
     "output_type": "execute_result"
    }
   ],
   "source": [
    "diag = pd.read_csv('/Users/drew/Downloads/DIAGNOSES_ICD.csv.gz', compression='gzip')\n",
    "diag.head()\n",
    "diag.shape\n",
    "diag[['SUBJECT_ID', 'HADM_ID', 'ICD9_CODE']].nunique()\n",
    "diag[['SUBJECT_ID', 'HADM_ID', 'ICD9_CODE']].isna().sum()\n",
    "diag[['SUBJECT_ID', 'HADM_ID', 'ICD9_CODE']].groupby(['HADM_ID', 'SUBJECT_ID'])['ICD9_CODE'].count().mean()\n",
    "diag[['SUBJECT_ID', 'ICD9_CODE']].groupby(['SUBJECT_ID'])['ICD9_CODE'].count().mean()"
   ]
  },
  {
   "cell_type": "code",
   "execution_count": 45,
   "metadata": {
    "ExecuteTime": {
     "end_time": "2020-08-21T04:44:31.775354Z",
     "start_time": "2020-08-21T04:44:31.560107Z"
    }
   },
   "outputs": [
    {
     "data": {
      "text/html": [
       "<div>\n",
       "<style scoped>\n",
       "    .dataframe tbody tr th:only-of-type {\n",
       "        vertical-align: middle;\n",
       "    }\n",
       "\n",
       "    .dataframe tbody tr th {\n",
       "        vertical-align: top;\n",
       "    }\n",
       "\n",
       "    .dataframe thead th {\n",
       "        text-align: right;\n",
       "    }\n",
       "</style>\n",
       "<table border=\"1\" class=\"dataframe\">\n",
       "  <thead>\n",
       "    <tr style=\"text-align: right;\">\n",
       "      <th></th>\n",
       "      <th>ROW_ID</th>\n",
       "      <th>SUBJECT_ID</th>\n",
       "      <th>GENDER</th>\n",
       "      <th>DOB</th>\n",
       "      <th>DOD</th>\n",
       "      <th>DOD_HOSP</th>\n",
       "      <th>DOD_SSN</th>\n",
       "      <th>EXPIRE_FLAG</th>\n",
       "    </tr>\n",
       "  </thead>\n",
       "  <tbody>\n",
       "    <tr>\n",
       "      <th>0</th>\n",
       "      <td>234</td>\n",
       "      <td>249</td>\n",
       "      <td>F</td>\n",
       "      <td>2075-03-13 00:00:00</td>\n",
       "      <td>NaN</td>\n",
       "      <td>NaN</td>\n",
       "      <td>NaN</td>\n",
       "      <td>0</td>\n",
       "    </tr>\n",
       "    <tr>\n",
       "      <th>1</th>\n",
       "      <td>235</td>\n",
       "      <td>250</td>\n",
       "      <td>F</td>\n",
       "      <td>2164-12-27 00:00:00</td>\n",
       "      <td>2188-11-22 00:00:00</td>\n",
       "      <td>2188-11-22 00:00:00</td>\n",
       "      <td>NaN</td>\n",
       "      <td>1</td>\n",
       "    </tr>\n",
       "    <tr>\n",
       "      <th>2</th>\n",
       "      <td>236</td>\n",
       "      <td>251</td>\n",
       "      <td>M</td>\n",
       "      <td>2090-03-15 00:00:00</td>\n",
       "      <td>NaN</td>\n",
       "      <td>NaN</td>\n",
       "      <td>NaN</td>\n",
       "      <td>0</td>\n",
       "    </tr>\n",
       "    <tr>\n",
       "      <th>3</th>\n",
       "      <td>237</td>\n",
       "      <td>252</td>\n",
       "      <td>M</td>\n",
       "      <td>2078-03-06 00:00:00</td>\n",
       "      <td>NaN</td>\n",
       "      <td>NaN</td>\n",
       "      <td>NaN</td>\n",
       "      <td>0</td>\n",
       "    </tr>\n",
       "    <tr>\n",
       "      <th>4</th>\n",
       "      <td>238</td>\n",
       "      <td>253</td>\n",
       "      <td>F</td>\n",
       "      <td>2089-11-26 00:00:00</td>\n",
       "      <td>NaN</td>\n",
       "      <td>NaN</td>\n",
       "      <td>NaN</td>\n",
       "      <td>0</td>\n",
       "    </tr>\n",
       "  </tbody>\n",
       "</table>\n",
       "</div>"
      ],
      "text/plain": [
       "   ROW_ID  SUBJECT_ID GENDER                  DOB                  DOD  \\\n",
       "0     234         249      F  2075-03-13 00:00:00                  NaN   \n",
       "1     235         250      F  2164-12-27 00:00:00  2188-11-22 00:00:00   \n",
       "2     236         251      M  2090-03-15 00:00:00                  NaN   \n",
       "3     237         252      M  2078-03-06 00:00:00                  NaN   \n",
       "4     238         253      F  2089-11-26 00:00:00                  NaN   \n",
       "\n",
       "              DOD_HOSP DOD_SSN  EXPIRE_FLAG  \n",
       "0                  NaN     NaN            0  \n",
       "1  2188-11-22 00:00:00     NaN            1  \n",
       "2                  NaN     NaN            0  \n",
       "3                  NaN     NaN            0  \n",
       "4                  NaN     NaN            0  "
      ]
     },
     "execution_count": 45,
     "metadata": {},
     "output_type": "execute_result"
    },
    {
     "data": {
      "text/plain": [
       "(46520, 8)"
      ]
     },
     "execution_count": 45,
     "metadata": {},
     "output_type": "execute_result"
    },
    {
     "data": {
      "text/plain": [
       "M    0.5615\n",
       "F    0.4385\n",
       "Name: GENDER, dtype: float64"
      ]
     },
     "execution_count": 45,
     "metadata": {},
     "output_type": "execute_result"
    },
    {
     "data": {
      "text/plain": [
       "(58976, 10)"
      ]
     },
     "execution_count": 45,
     "metadata": {},
     "output_type": "execute_result"
    },
    {
     "data": {
      "text/plain": [
       "WHITE                     0.695130\n",
       "BLACK/AFRICAN AMERICAN    0.092241\n",
       "UNKNOWN/NOT SPECIFIED     0.076692\n",
       "HISPANIC OR LATINO        0.028757\n",
       "OTHER                     0.025638\n",
       "Name: ETHNICITY, dtype: float64"
      ]
     },
     "execution_count": 45,
     "metadata": {},
     "output_type": "execute_result"
    },
    {
     "data": {
      "text/plain": [
       "64.4303954150841"
      ]
     },
     "execution_count": 45,
     "metadata": {},
     "output_type": "execute_result"
    },
    {
     "data": {
      "text/plain": [
       "count    58976.000000\n",
       "mean        64.430395\n",
       "std         57.201559\n",
       "min          0.000000\n",
       "25%         43.000000\n",
       "50%         62.000000\n",
       "75%         76.000000\n",
       "max        311.000000\n",
       "Name: AGE_AT_ADMIT, dtype: float64"
      ]
     },
     "execution_count": 45,
     "metadata": {},
     "output_type": "execute_result"
    }
   ],
   "source": [
    "patients = pd.read_csv('/Users/drew/Desktop/vu-informatics/data/mimic-iii/PATIENTS.csv')\n",
    "patients.head()\n",
    "patients.shape\n",
    "patients['GENDER'].value_counts() / patients.shape[0]\n",
    "adm_dem = patients.merge(adm[['SUBJECT_ID', 'ADMITTIME', 'ETHNICITY']], on='SUBJECT_ID')\n",
    "adm_dem.shape\n",
    "adm_dem['ETHNICITY'].value_counts()[:5] / adm_dem.shape[0]\n",
    "adm_dem['AGE_AT_ADMIT'] = pd.to_numeric(adm_dem['ADMITTIME'].apply(lambda x: x[:4])) - pd.to_numeric(adm_dem['DOB'].apply(lambda x: x[:4]))\n",
    "adm_dem['AGE_AT_ADMIT'].mean()\n",
    "adm_dem['AGE_AT_ADMIT'].describe()"
   ]
  },
  {
   "cell_type": "markdown",
   "metadata": {},
   "source": [
    "## Extract ICD Co-occurrence Relations and Embed in Hyperbolic Space"
   ]
  },
  {
   "cell_type": "code",
   "execution_count": 46,
   "metadata": {
    "ExecuteTime": {
     "end_time": "2020-08-21T04:45:42.198813Z",
     "start_time": "2020-08-21T04:44:31.776715Z"
    }
   },
   "outputs": [
    {
     "name": "stdout",
     "output_type": "stream",
     "text": [
      "(172335, ['40301', '486', '58281', '5855', '4254', '2762', '7100', '2767', '7243', '45829', '2875', '28521', '28529', '27541'])\n"
     ]
    },
    {
     "data": {
      "text/plain": [
       "14"
      ]
     },
     "execution_count": 46,
     "metadata": {},
     "output_type": "execute_result"
    },
    {
     "name": "stdout",
     "output_type": "stream",
     "text": [
      "[['40301', '486'], ['58281', '40301'], ['40301', '5855'], ['40301', '4254'], ['40301', '2762']]\n"
     ]
    },
    {
     "data": {
      "text/plain": [
       "4500907"
      ]
     },
     "execution_count": 46,
     "metadata": {},
     "output_type": "execute_result"
    }
   ],
   "source": [
    "# store each admissions code list\n",
    "icd_dict = {}\n",
    "\n",
    "# within each admission, define edges for each combination of codes (u, v) with increasing sequential numbers\n",
    "edges = []\n",
    "for hadm_id in diag.HADM_ID.unique():\n",
    "    icd_list = list(diag[diag.HADM_ID == hadm_id]['ICD9_CODE'].values)\n",
    "    icd_dict[hadm_id] = icd_list\n",
    "    for i in range(len(icd_list)-1):\n",
    "        for j in range(i+1, len(icd_list)):\n",
    "            if len(icd_list[i]) <= len(icd_list[j]):\n",
    "                edges.append([icd_list[j], icd_list[i]])\n",
    "            else:\n",
    "                edges.append([icd_list[i], icd_list[j]])\n",
    "\n",
    "# examine edges      \n",
    "print(list(icd_dict.items())[0])\n",
    "len(list(icd_dict.items())[0][1])\n",
    "print(edges[:5])\n",
    "len(edges)"
   ]
  },
  {
   "cell_type": "code",
   "execution_count": 86,
   "metadata": {
    "ExecuteTime": {
     "end_time": "2020-08-21T05:36:01.140136Z",
     "start_time": "2020-08-21T05:35:53.854177Z"
    }
   },
   "outputs": [
    {
     "name": "stdout",
     "output_type": "stream",
     "text": [
      "Initial edge occurrence count quantiles:  [  1.    2.    5.   12.   23.   38.   64.  108.  200.  485.7]\n",
      "Number of final edges:  3413754\n",
      "Number of unique nodes present:  2911\n",
      "Three digit codes present:  ['042' '075' '135' '138' '185' '193' '220' '226' '243' '261' '262' '311'\n",
      " '317' '319' '325' '326' '340' '412' '430' '431' '436' '449' '452' '462'\n",
      " '481' '485' '486' '490' '496' '501' '502' '514' '515' '566' '570' '585'\n",
      " '586' '587' '591' '605' '725' '769' '920' '936' '990' 'V08']\n"
     ]
    },
    {
     "data": {
      "text/html": [
       "<div>\n",
       "<style scoped>\n",
       "    .dataframe tbody tr th:only-of-type {\n",
       "        vertical-align: middle;\n",
       "    }\n",
       "\n",
       "    .dataframe tbody tr th {\n",
       "        vertical-align: top;\n",
       "    }\n",
       "\n",
       "    .dataframe thead th {\n",
       "        text-align: right;\n",
       "    }\n",
       "</style>\n",
       "<table border=\"1\" class=\"dataframe\">\n",
       "  <thead>\n",
       "    <tr style=\"text-align: right;\">\n",
       "      <th></th>\n",
       "      <th>u</th>\n",
       "      <th>v</th>\n",
       "    </tr>\n",
       "  </thead>\n",
       "  <tbody>\n",
       "    <tr>\n",
       "      <th>0</th>\n",
       "      <td>40301</td>\n",
       "      <td>486</td>\n",
       "    </tr>\n",
       "    <tr>\n",
       "      <th>1</th>\n",
       "      <td>40301</td>\n",
       "      <td>486</td>\n",
       "    </tr>\n",
       "    <tr>\n",
       "      <th>2</th>\n",
       "      <td>40301</td>\n",
       "      <td>486</td>\n",
       "    </tr>\n",
       "    <tr>\n",
       "      <th>3</th>\n",
       "      <td>40301</td>\n",
       "      <td>486</td>\n",
       "    </tr>\n",
       "    <tr>\n",
       "      <th>4</th>\n",
       "      <td>40301</td>\n",
       "      <td>486</td>\n",
       "    </tr>\n",
       "  </tbody>\n",
       "</table>\n",
       "</div>"
      ],
      "text/plain": [
       "       u    v\n",
       "0  40301  486\n",
       "1  40301  486\n",
       "2  40301  486\n",
       "3  40301  486\n",
       "4  40301  486"
      ]
     },
     "execution_count": 86,
     "metadata": {},
     "output_type": "execute_result"
    }
   ],
   "source": [
    "# only keep edges with number of occurrences > cutoff, optionally keep repeated occurrences of edges\n",
    "from collections import Counter\n",
    "edge_count = Counter(map(tuple,edges))\n",
    "cutoff = 5\n",
    "keep_repeats = True\n",
    "final_edges = []\n",
    "for k,v in edge_count.items():\n",
    "    if v >= cutoff:\n",
    "        if keep_repeats:\n",
    "            for i in range(v):\n",
    "                final_edges.append(k)\n",
    "        else:\n",
    "            final_edges.append(k)\n",
    "print('Initial edge occurrence count quantiles: ', np.quantile(list(edge_count.values())[:1000], q=np.arange(0,1,0.1)))\n",
    "print('Number of final edges: ', len(final_edges))\n",
    "\n",
    "# define final edges as data frame\n",
    "edge_df = pd.DataFrame(final_edges, columns=['u', 'v'])\n",
    "\n",
    "# get all chapters present in icd codes\n",
    "node_list = list(set(list(edge_df.u.values) + list(edge_df.v.values)))\n",
    "observed_chapters = np.sort([node for node in node_list if len(node) == 3])\n",
    "print('Number of unique nodes present: ', len(node_list))\n",
    "print('Three digit codes present: ', observed_chapters)\n",
    "\n",
    "# optionally add edges from each chapter to highest level, center node            \n",
    "for chapter in observed_chapters:\n",
    "    final_edges.append([chapter, 'ICD-9_Diagnoses'])\n",
    "node_list.append('ICD-9_Diagnoses')\n",
    "\n",
    "# save to csv\n",
    "edge_df = pd.DataFrame(final_edges, columns=['u', 'v'])\n",
    "edge_df.head()\n",
    "edge_df.to_csv('data/mimic-iii/mortality_pred/icd_occurrence_edges.csv', index=False)"
   ]
  },
  {
   "cell_type": "code",
   "execution_count": 87,
   "metadata": {
    "ExecuteTime": {
     "end_time": "2020-08-21T05:36:46.345377Z",
     "start_time": "2020-08-21T05:36:33.138193Z"
    }
   },
   "outputs": [
    {
     "name": "stdout",
     "output_type": "stream",
     "text": [
      "Algebraic Connectivity:  0.0\n",
      "Average Clustering:  0.7779700879112841\n"
     ]
    },
    {
     "data": {
      "image/png": "[encoded data removed]",
      "text/plain": [
       "<Figure size 432x288 with 1 Axes>"
      ]
     },
     "metadata": {
      "needs_background": "light"
     },
     "output_type": "display_data"
    }
   ],
   "source": [
    "G = nx.Graph(final_edges)\n",
    "print('Algebraic Connectivity: ', nx.algebraic_connectivity(G))\n",
    "print('Average Clustering: ', nx.average_clustering(G))\n",
    "plt.plot(nx.degree_histogram(G))\n",
    "plt.title('Degree Distribution in ICD-9 Co-occurance Graph');"
   ]
  },
  {
   "cell_type": "code",
   "execution_count": 88,
   "metadata": {
    "ExecuteTime": {
     "end_time": "2020-08-21T05:36:46.778610Z",
     "start_time": "2020-08-21T05:36:46.347217Z"
    }
   },
   "outputs": [
    {
     "data": {
      "text/plain": [
       "{('Crnry athrscl natve vssl', 'Hypertension NOS'): 6844,\n",
       " ('Atrial fibrillation', 'Hypertension NOS'): 5790,\n",
       " ('Atrial fibrillation', 'CHF NOS'): 5745,\n",
       " ('DMII wo cmp nt st uncntr', 'Hypertension NOS'): 5051,\n",
       " ('Crnry athrscl natve vssl', 'CHF NOS'): 4610,\n",
       " ('Hypertension NOS', 'CHF NOS'): 4126,\n",
       " ('Hyperlipidemia NEC/NOS', 'Hypertension NOS'): 4071,\n",
       " ('Crnry athrscl natve vssl', 'Hyperlipidemia NEC/NOS'): 3702,\n",
       " ('Esophageal reflux', 'Hypertension NOS'): 3209,\n",
       " ('DMII wo cmp nt st uncntr', 'CHF NOS'): 3209}"
      ]
     },
     "execution_count": 88,
     "metadata": {},
     "output_type": "execute_result"
    }
   ],
   "source": [
    "# examine top 10 most frequent edges\n",
    "top_ix = np.array(list(edge_count.keys()))[np.argsort(list(edge_count.values()))][::-1]\n",
    "freq_edges = [[icd_code_to_name[u], icd_code_to_name[v]] for u,v in top_ix[:10]]\n",
    "dict(zip(map(tuple, freq_edges), [edge_count[tuple(x)] for x in top_ix[:10]]))"
   ]
  },
  {
   "cell_type": "code",
   "execution_count": 91,
   "metadata": {
    "ExecuteTime": {
     "end_time": "2020-08-21T05:37:35.375615Z",
     "start_time": "2020-08-21T05:37:26.848314Z"
    }
   },
   "outputs": [
    {
     "data": {
      "image/png": "[encoded data removed]",
      "text/plain": [
       "<Figure size 432x288 with 2 Axes>"
      ]
     },
     "metadata": {
      "needs_background": "light"
     },
     "output_type": "display_data"
    }
   ],
   "source": [
    "# define a co-occurence matrix where M[i,j] gives total co-occurences between node_list i,j \n",
    "M = np.zeros((len(node_list), len(node_list)))\n",
    "node_to_index = dict(zip(node_list, np.arange(len(node_list))))\n",
    "for e in final_edges:\n",
    "    M[node_to_index[e[0]], node_to_index[e[1]]] += 1\n",
    "M.shape\n",
    "sns.heatmap((M/M.max()));"
   ]
  },
  {
   "cell_type": "markdown",
   "metadata": {},
   "source": [
    "### Train poincare model on observed ICD relations"
   ]
  },
  {
   "cell_type": "code",
   "execution_count": null,
   "metadata": {
    "ExecuteTime": {
     "start_time": "2020-08-21T05:38:25.590Z"
    }
   },
   "outputs": [
    {
     "name": "stderr",
     "output_type": "stream",
     "text": [
      "INFO:gensim.models.poincare:loading relations from train data..\n",
      "INFO:gensim.models.poincare:loaded 3413801 relations from train data, 2914 nodes\n",
      "INFO:gensim.models.poincare:training model of size 2 with 1 workers on 3413801 relations for 20 epochs and 10 burn-in epochs, using lr=0.10000 burn-in lr=0.01000 negative=20\n",
      "INFO:gensim.models.poincare:starting burn-in (10 epochs)----------------------------------------\n",
      "INFO:gensim.models.poincare:training on epoch 1, examples #9980-#10000, loss: 59.91\n",
      "INFO:gensim.models.poincare:time taken for 10000 examples: 3.88 s, 2580.14 examples / s\n",
      "INFO:gensim.models.poincare:training on epoch 1, examples #19980-#20000, loss: 57.91\n",
      "INFO:gensim.models.poincare:time taken for 10000 examples: 4.05 s, 2466.67 examples / s\n",
      "INFO:gensim.models.poincare:training on epoch 1, examples #29980-#30000, loss: 56.42\n",
      "INFO:gensim.models.poincare:time taken for 10000 examples: 4.06 s, 2466.08 examples / s\n",
      "INFO:gensim.models.poincare:training on epoch 1, examples #39980-#40000, loss: 55.09\n",
      "INFO:gensim.models.poincare:time taken for 10000 examples: 4.02 s, 2487.79 examples / s\n",
      "INFO:gensim.models.poincare:training on epoch 1, examples #49980-#50000, loss: 54.10\n",
      "INFO:gensim.models.poincare:time taken for 10000 examples: 4.17 s, 2400.21 examples / s\n",
      "INFO:gensim.models.poincare:training on epoch 1, examples #59980-#60000, loss: 53.29\n",
      "INFO:gensim.models.poincare:time taken for 10000 examples: 4.14 s, 2417.28 examples / s\n",
      "INFO:gensim.models.poincare:training on epoch 1, examples #69980-#70000, loss: 52.69\n",
      "INFO:gensim.models.poincare:time taken for 10000 examples: 4.35 s, 2296.71 examples / s\n",
      "INFO:gensim.models.poincare:training on epoch 1, examples #79980-#80000, loss: 52.01\n",
      "INFO:gensim.models.poincare:time taken for 10000 examples: 4.05 s, 2469.53 examples / s\n",
      "INFO:gensim.models.poincare:training on epoch 1, examples #89980-#90000, loss: 51.57\n",
      "INFO:gensim.models.poincare:time taken for 10000 examples: 4.09 s, 2443.23 examples / s\n",
      "INFO:gensim.models.poincare:training on epoch 1, examples #99980-#100000, loss: 51.11\n",
      "INFO:gensim.models.poincare:time taken for 10000 examples: 4.41 s, 2266.11 examples / s\n",
      "INFO:gensim.models.poincare:training on epoch 1, examples #109980-#110000, loss: 50.62\n",
      "INFO:gensim.models.poincare:time taken for 10000 examples: 4.54 s, 2200.63 examples / s\n",
      "INFO:gensim.models.poincare:training on epoch 1, examples #119980-#120000, loss: 50.21\n",
      "INFO:gensim.models.poincare:time taken for 10000 examples: 4.84 s, 2066.52 examples / s\n",
      "INFO:gensim.models.poincare:training on epoch 1, examples #129980-#130000, loss: 50.14\n",
      "INFO:gensim.models.poincare:time taken for 10000 examples: 4.58 s, 2185.61 examples / s\n",
      "INFO:gensim.models.poincare:training on epoch 1, examples #139980-#140000, loss: 49.65\n",
      "INFO:gensim.models.poincare:time taken for 10000 examples: 4.53 s, 2205.51 examples / s\n",
      "INFO:gensim.models.poincare:training on epoch 1, examples #149980-#150000, loss: 49.48\n",
      "INFO:gensim.models.poincare:time taken for 10000 examples: 4.24 s, 2356.31 examples / s\n",
      "INFO:gensim.models.poincare:training on epoch 1, examples #159980-#160000, loss: 49.45\n",
      "INFO:gensim.models.poincare:time taken for 10000 examples: 4.29 s, 2332.56 examples / s\n",
      "INFO:gensim.models.poincare:training on epoch 1, examples #169980-#170000, loss: 49.10\n",
      "INFO:gensim.models.poincare:time taken for 10000 examples: 4.48 s, 2233.42 examples / s\n",
      "INFO:gensim.models.poincare:training on epoch 1, examples #179980-#180000, loss: 48.53\n",
      "INFO:gensim.models.poincare:time taken for 10000 examples: 3.99 s, 2507.24 examples / s\n",
      "INFO:gensim.models.poincare:training on epoch 1, examples #189980-#190000, loss: 48.53\n",
      "INFO:gensim.models.poincare:time taken for 10000 examples: 4.56 s, 2194.68 examples / s\n",
      "INFO:gensim.models.poincare:training on epoch 1, examples #199980-#200000, loss: 48.25\n",
      "INFO:gensim.models.poincare:time taken for 10000 examples: 4.79 s, 2089.68 examples / s\n",
      "INFO:gensim.models.poincare:training on epoch 1, examples #209980-#210000, loss: 48.24\n",
      "INFO:gensim.models.poincare:time taken for 10000 examples: 4.90 s, 2040.36 examples / s\n",
      "INFO:gensim.models.poincare:training on epoch 1, examples #219980-#220000, loss: 48.15\n",
      "INFO:gensim.models.poincare:time taken for 10000 examples: 4.81 s, 2079.56 examples / s\n",
      "INFO:gensim.models.poincare:training on epoch 1, examples #229980-#230000, loss: 47.94\n",
      "INFO:gensim.models.poincare:time taken for 10000 examples: 5.17 s, 1935.23 examples / s\n",
      "INFO:gensim.models.poincare:training on epoch 1, examples #239980-#240000, loss: 47.78\n",
      "INFO:gensim.models.poincare:time taken for 10000 examples: 4.75 s, 2103.79 examples / s\n",
      "INFO:gensim.models.poincare:training on epoch 1, examples #249980-#250000, loss: 47.66\n",
      "INFO:gensim.models.poincare:time taken for 10000 examples: 4.39 s, 2280.02 examples / s\n",
      "INFO:gensim.models.poincare:training on epoch 1, examples #259980-#260000, loss: 47.58\n",
      "INFO:gensim.models.poincare:time taken for 10000 examples: 4.17 s, 2400.02 examples / s\n",
      "INFO:gensim.models.poincare:training on epoch 1, examples #269980-#270000, loss: 47.36\n",
      "INFO:gensim.models.poincare:time taken for 10000 examples: 4.28 s, 2334.54 examples / s\n",
      "INFO:gensim.models.poincare:training on epoch 1, examples #279980-#280000, loss: 47.20\n",
      "INFO:gensim.models.poincare:time taken for 10000 examples: 4.30 s, 2324.10 examples / s\n",
      "INFO:gensim.models.poincare:training on epoch 1, examples #289980-#290000, loss: 47.14\n",
      "INFO:gensim.models.poincare:time taken for 10000 examples: 4.23 s, 2365.53 examples / s\n",
      "INFO:gensim.models.poincare:training on epoch 1, examples #299980-#300000, loss: 46.72\n",
      "INFO:gensim.models.poincare:time taken for 10000 examples: 4.02 s, 2485.97 examples / s\n",
      "INFO:gensim.models.poincare:training on epoch 1, examples #309980-#310000, loss: 46.90\n",
      "INFO:gensim.models.poincare:time taken for 10000 examples: 4.22 s, 2372.07 examples / s\n",
      "INFO:gensim.models.poincare:training on epoch 1, examples #319980-#320000, loss: 46.92\n",
      "INFO:gensim.models.poincare:time taken for 10000 examples: 4.32 s, 2314.47 examples / s\n",
      "INFO:gensim.models.poincare:training on epoch 1, examples #329980-#330000, loss: 46.65\n",
      "INFO:gensim.models.poincare:time taken for 10000 examples: 4.26 s, 2349.97 examples / s\n",
      "INFO:gensim.models.poincare:training on epoch 1, examples #339980-#340000, loss: 46.47\n",
      "INFO:gensim.models.poincare:time taken for 10000 examples: 4.23 s, 2362.90 examples / s\n",
      "INFO:gensim.models.poincare:training on epoch 1, examples #349980-#350000, loss: 46.46\n",
      "INFO:gensim.models.poincare:time taken for 10000 examples: 4.42 s, 2264.21 examples / s\n",
      "INFO:gensim.models.poincare:training on epoch 1, examples #359980-#360000, loss: 46.68\n",
      "INFO:gensim.models.poincare:time taken for 10000 examples: 4.38 s, 2284.22 examples / s\n",
      "INFO:gensim.models.poincare:training on epoch 1, examples #369980-#370000, loss: 46.47\n",
      "INFO:gensim.models.poincare:time taken for 10000 examples: 4.30 s, 2324.72 examples / s\n",
      "INFO:gensim.models.poincare:training on epoch 1, examples #379980-#380000, loss: 46.31\n",
      "INFO:gensim.models.poincare:time taken for 10000 examples: 4.13 s, 2422.42 examples / s\n",
      "INFO:gensim.models.poincare:training on epoch 1, examples #389980-#390000, loss: 46.23\n",
      "INFO:gensim.models.poincare:time taken for 10000 examples: 4.26 s, 2345.31 examples / s\n",
      "INFO:gensim.models.poincare:training on epoch 1, examples #399980-#400000, loss: 45.96\n",
      "INFO:gensim.models.poincare:time taken for 10000 examples: 4.55 s, 2197.70 examples / s\n",
      "INFO:gensim.models.poincare:training on epoch 1, examples #409980-#410000, loss: 46.03\n",
      "INFO:gensim.models.poincare:time taken for 10000 examples: 4.33 s, 2311.55 examples / s\n",
      "INFO:gensim.models.poincare:training on epoch 1, examples #419980-#420000, loss: 45.79\n",
      "INFO:gensim.models.poincare:time taken for 10000 examples: 4.06 s, 2465.81 examples / s\n",
      "INFO:gensim.models.poincare:training on epoch 1, examples #429980-#430000, loss: 45.97\n",
      "INFO:gensim.models.poincare:time taken for 10000 examples: 4.26 s, 2346.93 examples / s\n",
      "INFO:gensim.models.poincare:training on epoch 1, examples #439980-#440000, loss: 45.94\n",
      "INFO:gensim.models.poincare:time taken for 10000 examples: 4.25 s, 2353.64 examples / s\n",
      "INFO:gensim.models.poincare:training on epoch 1, examples #449980-#450000, loss: 45.87\n",
      "INFO:gensim.models.poincare:time taken for 10000 examples: 4.16 s, 2404.36 examples / s\n"
     ]
    },
    {
     "name": "stderr",
     "output_type": "stream",
     "text": [
      "INFO:gensim.models.poincare:training on epoch 1, examples #459980-#460000, loss: 45.73\n",
      "INFO:gensim.models.poincare:time taken for 10000 examples: 4.26 s, 2345.42 examples / s\n",
      "INFO:gensim.models.poincare:training on epoch 1, examples #469980-#470000, loss: 45.67\n",
      "INFO:gensim.models.poincare:time taken for 10000 examples: 4.57 s, 2188.49 examples / s\n",
      "INFO:gensim.models.poincare:training on epoch 1, examples #479980-#480000, loss: 45.60\n",
      "INFO:gensim.models.poincare:time taken for 10000 examples: 4.47 s, 2238.37 examples / s\n",
      "INFO:gensim.models.poincare:training on epoch 1, examples #489980-#490000, loss: 45.58\n",
      "INFO:gensim.models.poincare:time taken for 10000 examples: 4.13 s, 2419.02 examples / s\n",
      "INFO:gensim.models.poincare:training on epoch 1, examples #499980-#500000, loss: 45.50\n",
      "INFO:gensim.models.poincare:time taken for 10000 examples: 4.16 s, 2401.47 examples / s\n",
      "INFO:gensim.models.poincare:training on epoch 1, examples #509980-#510000, loss: 45.62\n",
      "INFO:gensim.models.poincare:time taken for 10000 examples: 4.16 s, 2403.28 examples / s\n"
     ]
    }
   ],
   "source": [
    "# import modules within repository\n",
    "sys.path.append('/Users/drew/Desktop/hyperbolic-learning/utils')\n",
    "sys.path.append('/Users/drew/Desktop/hyperbolic-learning/utils/poincaré_embeddings')\n",
    "from embed import *\n",
    "\n",
    "# train poincare embeddings and save output embedding coordinates\n",
    "fin = 'data/mimic-iii/mortality_pred/icd_occurrence_edges.csv' # input path with stored relations\n",
    "fout = 'data/mimic-iii/mortality_pred/icd_occurrence_embeddings.csv' # output path to write embedding coordinates\n",
    "\n",
    "# call function to train gensim's poincare embedding model\n",
    "train_embeddings(input_path=fin, delimiter=',', output_path=fout, epochs=20, burn_in_alpha=0.01, \n",
    "                 batch_size=20, burn_in=10, alpha=0.1, negative=20)"
   ]
  },
  {
   "cell_type": "code",
   "execution_count": null,
   "metadata": {
    "ExecuteTime": {
     "start_time": "2020-08-21T05:38:49.821Z"
    }
   },
   "outputs": [],
   "source": [
    "# store code ranges for each chapter\n",
    "chapters = icd9.icd9Chapters\n",
    "drop_lettered_chapters = False\n",
    "if drop_lettered_chapters:\n",
    "    drop1 = chapters.pop('Supplementary Classification Of External Causes Of Injury And Poisoning')\n",
    "    drop2 = chapters.pop('Supplementary Classification Of Factors Influencing Health Status And Contact With Health Services')\n",
    "chapter_name_range = {}\n",
    "for k,v in chapters.items():\n",
    "    chapter_name_range[k] = v[0] + '_' + v[1]\n",
    "chapter_range_name = {v:k for k,v in chapter_name_range.items()}\n",
    "\n",
    "# define mappings between chapter name & range to integer class labels\n",
    "chapter_name_label = {}\n",
    "for i, k in enumerate(chapters.keys()):\n",
    "    chapter_name_label[k] = i\n",
    "chapter_range_label = {k:i for i, k in enumerate(chapter_range_name)}\n",
    "\n",
    "# define chapter range start and end three digit codes\n",
    "node_labels = {}\n",
    "chapter_intervals = []\n",
    "chapter_labels = []\n",
    "for k, v in chapter_range_label.items():\n",
    "    start = k[:3]\n",
    "    end = k[4:]\n",
    "    chapter_labels.append(v)\n",
    "    chapter_intervals.append([start, end])\n",
    "\n",
    "# assign each node to its chapter class label\n",
    "for node in node_list:\n",
    "    start = node[:3]\n",
    "    if start[0] == '0' or start <= '139':\n",
    "        node_labels[node] = 0\n",
    "    elif start[0] == 'V':\n",
    "        node_labels[node] = 17\n",
    "    elif start[0] == 'E':\n",
    "        node_labels[node] = 18\n",
    "    elif start == 'ICD':\n",
    "        continue\n",
    "    else:\n",
    "        for i, interval in enumerate(chapter_intervals):\n",
    "            if start >= interval[0] and start <= interval[1]:\n",
    "                node_labels[node] = i"
   ]
  },
  {
   "cell_type": "code",
   "execution_count": null,
   "metadata": {
    "ExecuteTime": {
     "start_time": "2020-08-21T05:38:52.005Z"
    }
   },
   "outputs": [],
   "source": [
    "# load embedding coordinates and prepare data for plotting in the poincare disk\n",
    "emb = load_embeddings('data/mimic-iii/mortality_pred/icd_occurrence_embeddings.csv', delim=' ')\n",
    "emb.head()\n",
    "emb_data = np.array(emb.iloc[:, 1:3])\n",
    "emb_dict = dict(zip(emb.node.values, emb_data))\n",
    "edge_list = final_edges\n",
    "labels = emb[emb.node != 'ICD-9_Diagnoses']['node'].apply(lambda x: node_labels[x]).reset_index(drop=True)\n",
    "chapter_label_range = {v:k for k,v in chapter_range_label.items()}"
   ]
  },
  {
   "cell_type": "code",
   "execution_count": null,
   "metadata": {
    "ExecuteTime": {
     "start_time": "2020-08-21T05:38:55.669Z"
    }
   },
   "outputs": [],
   "source": [
    "# import cross library module\n",
    "sys.path.append('/Users/drew/Desktop/vu-informatics/utils')\n",
    "from poincare_viz_icd import *\n",
    "\n",
    "# add labels for chapters and select only high level edges\n",
    "chapter_emb = emb[emb.node.apply(lambda x: x in observed_chapters)]\n",
    "chapter_emb_dict = dict(zip(chapter_emb.node.values, chapter_emb.iloc[:, 1:3].values))\n",
    "chapter_edges = [e for e in edge_list if e[0] in observed_chapters or e[1] in observed_chapters]\n",
    "\n",
    "plot_poincare_icd(emb, labels, edge_list=chapter_edges, add_labels=True, label_dict=chapter_emb_dict,\n",
    "                  edge_frac=0.1, plot_frac=1, label_frac=0, legend_headers=chapter_label_range,\n",
    "                  save=True, title='Learned from EHR Co-occurences');"
   ]
  },
  {
   "cell_type": "markdown",
   "metadata": {},
   "source": [
    "### Evaluate Hyperbolic Embeddings"
   ]
  },
  {
   "cell_type": "code",
   "execution_count": null,
   "metadata": {
    "ExecuteTime": {
     "start_time": "2020-08-21T05:38:57.244Z"
    }
   },
   "outputs": [],
   "source": [
    "# plot distance from center vs. node degree\n",
    "radial_dist = []\n",
    "degree_counts = []\n",
    "for node in G.nodes():\n",
    "    radial_dist.append(poincare_dist([0, 0], emb[emb['node'] == node].iloc[:,1:3]))\n",
    "    degree_counts.append(G.degree(node))\n",
    "plt.figure(figsize=(12,6))\n",
    "print('correlation: ', np.abs(np.corrcoef(degree_counts, radial_dist)[0,1]))\n",
    "plt.scatter(degree_counts, radial_dist);"
   ]
  },
  {
   "cell_type": "code",
   "execution_count": null,
   "metadata": {
    "ExecuteTime": {
     "start_time": "2020-08-21T05:38:58.156Z"
    }
   },
   "outputs": [],
   "source": [
    "def within_chapter_distances(chapter_nodes, embedding_dict):\n",
    "    # compute all pairwise hyperbolic distances\n",
    "    D = poincare_distances(np.array([embedding_dict[x] for x in chapter_nodes]))\n",
    "    mean_dist = D[D>0].mean()\n",
    "    std_dev = D[D>0].std()\n",
    "    return [mean_dist, std_dev]"
   ]
  },
  {
   "cell_type": "code",
   "execution_count": null,
   "metadata": {
    "ExecuteTime": {
     "start_time": "2020-08-21T05:38:58.718Z"
    }
   },
   "outputs": [],
   "source": [
    "def between_chapter_distances(chapter_nodes, embedding, dist_matrix):\n",
    "    # compute all pairwise hyperbolic distances\n",
    "    embedding = embedding[embedding.node != 'ICD-9_Diagnoses'].reset_index(drop=True)\n",
    "    in_group_indices = embedding[embedding.node.apply(lambda x: x in chapter_nodes)].index\n",
    "    rows = np.arange(0, dist_matrix.shape[0])\n",
    "    out_group_indices = list(set(rows).difference(in_group_indices))\n",
    "    between_dists = [dist_matrix[ix, out_group_indices] for ix in in_group_indices]\n",
    "    mean_dist = np.mean(between_dists)\n",
    "    std_dev = np.std(between_dists)\n",
    "    return [mean_dist, std_dev]"
   ]
  },
  {
   "cell_type": "code",
   "execution_count": null,
   "metadata": {
    "ExecuteTime": {
     "start_time": "2020-08-21T05:39:03.654Z"
    }
   },
   "outputs": [],
   "source": [
    "within_means = []\n",
    "within_stds = []\n",
    "between_means = []\n",
    "between_stds = []\n",
    "emb_data = np.array(list(emb_dict.values()))\n",
    "D = poincare_distances(emb_data)\n",
    "D_symm = D.T + D\n",
    "for i in range(len(np.unique(labels))):\n",
    "    chapter_nodes = emb[emb.node != 'ICD-9_Diagnoses']['node'].values[labels == i]\n",
    "    within_mean, within_std = within_chapter_distances(chapter_nodes, emb_dict)\n",
    "    within_means.append(within_mean)\n",
    "    within_stds.append(within_std)\n",
    "    between_mean, between_std = between_chapter_distances(chapter_nodes, emb, D_symm)\n",
    "    between_means.append(between_mean)\n",
    "    between_stds.append(between_std)\n",
    "np.mean(within_means)\n",
    "np.mean(within_stds)\n",
    "np.mean(between_means)\n",
    "np.mean(between_stds)\n",
    "np.mean(within_means) / np.mean(between_means)"
   ]
  },
  {
   "cell_type": "markdown",
   "metadata": {},
   "source": [
    "### Train Euclidean Embeddings"
   ]
  },
  {
   "cell_type": "markdown",
   "metadata": {},
   "source": [
    "Note: use cui2vec/R/glove_fit.R to fit GloVe embeddings with varying number of dimensions"
   ]
  },
  {
   "cell_type": "code",
   "execution_count": null,
   "metadata": {
    "ExecuteTime": {
     "start_time": "2020-08-21T05:39:07.884Z"
    }
   },
   "outputs": [],
   "source": [
    "# save data frame as co-occurrence matrix to use with GloVe (text2vec) in R\n",
    "pd.DataFrame(nx.adjacency_matrix(G).todense(), index=list(G.nodes())).to_csv('data/mimic-iii/mortality_pred/icd_occur_matrix.csv')"
   ]
  },
  {
   "cell_type": "code",
   "execution_count": 81,
   "metadata": {
    "ExecuteTime": {
     "end_time": "2020-08-21T05:25:30.590037Z",
     "start_time": "2020-08-21T05:25:30.467120Z"
    }
   },
   "outputs": [
    {
     "data": {
      "text/html": [
       "<div>\n",
       "<style scoped>\n",
       "    .dataframe tbody tr th:only-of-type {\n",
       "        vertical-align: middle;\n",
       "    }\n",
       "\n",
       "    .dataframe tbody tr th {\n",
       "        vertical-align: top;\n",
       "    }\n",
       "\n",
       "    .dataframe thead th {\n",
       "        text-align: right;\n",
       "    }\n",
       "</style>\n",
       "<table border=\"1\" class=\"dataframe\">\n",
       "  <thead>\n",
       "    <tr style=\"text-align: right;\">\n",
       "      <th></th>\n",
       "      <th>node</th>\n",
       "      <th>X1</th>\n",
       "      <th>X2</th>\n",
       "    </tr>\n",
       "  </thead>\n",
       "  <tbody>\n",
       "    <tr>\n",
       "      <th>0</th>\n",
       "      <td>40301</td>\n",
       "      <td>0.072959</td>\n",
       "      <td>0.241434</td>\n",
       "    </tr>\n",
       "    <tr>\n",
       "      <th>1</th>\n",
       "      <td>486</td>\n",
       "      <td>0.033929</td>\n",
       "      <td>0.023469</td>\n",
       "    </tr>\n",
       "    <tr>\n",
       "      <th>2</th>\n",
       "      <td>58281</td>\n",
       "      <td>0.397968</td>\n",
       "      <td>0.440246</td>\n",
       "    </tr>\n",
       "    <tr>\n",
       "      <th>3</th>\n",
       "      <td>5855</td>\n",
       "      <td>0.243230</td>\n",
       "      <td>0.001619</td>\n",
       "    </tr>\n",
       "    <tr>\n",
       "      <th>4</th>\n",
       "      <td>4254</td>\n",
       "      <td>0.143737</td>\n",
       "      <td>0.043921</td>\n",
       "    </tr>\n",
       "  </tbody>\n",
       "</table>\n",
       "</div>"
      ],
      "text/plain": [
       "    node        X1        X2\n",
       "0  40301  0.072959  0.241434\n",
       "1    486  0.033929  0.023469\n",
       "2  58281  0.397968  0.440246\n",
       "3   5855  0.243230  0.001619\n",
       "4   4254  0.143737  0.043921"
      ]
     },
     "execution_count": 81,
     "metadata": {},
     "output_type": "execute_result"
    },
    {
     "data": {
      "text/plain": [
       "(2912, 3)"
      ]
     },
     "execution_count": 81,
     "metadata": {},
     "output_type": "execute_result"
    },
    {
     "data": {
      "text/html": [
       "<div>\n",
       "<style scoped>\n",
       "    .dataframe tbody tr th:only-of-type {\n",
       "        vertical-align: middle;\n",
       "    }\n",
       "\n",
       "    .dataframe tbody tr th {\n",
       "        vertical-align: top;\n",
       "    }\n",
       "\n",
       "    .dataframe thead th {\n",
       "        text-align: right;\n",
       "    }\n",
       "</style>\n",
       "<table border=\"1\" class=\"dataframe\">\n",
       "  <thead>\n",
       "    <tr style=\"text-align: right;\">\n",
       "      <th></th>\n",
       "      <th>node</th>\n",
       "      <th>X1</th>\n",
       "      <th>X2</th>\n",
       "      <th>X3</th>\n",
       "      <th>X4</th>\n",
       "      <th>X5</th>\n",
       "      <th>X6</th>\n",
       "      <th>X7</th>\n",
       "      <th>X8</th>\n",
       "      <th>X9</th>\n",
       "      <th>X10</th>\n",
       "    </tr>\n",
       "  </thead>\n",
       "  <tbody>\n",
       "    <tr>\n",
       "      <th>0</th>\n",
       "      <td>40301</td>\n",
       "      <td>0.225529</td>\n",
       "      <td>0.210034</td>\n",
       "      <td>0.297220</td>\n",
       "      <td>0.167567</td>\n",
       "      <td>0.181666</td>\n",
       "      <td>-0.067529</td>\n",
       "      <td>0.190856</td>\n",
       "      <td>-0.394909</td>\n",
       "      <td>-0.013458</td>\n",
       "      <td>-0.051145</td>\n",
       "    </tr>\n",
       "    <tr>\n",
       "      <th>1</th>\n",
       "      <td>486</td>\n",
       "      <td>-0.038294</td>\n",
       "      <td>0.059586</td>\n",
       "      <td>0.067501</td>\n",
       "      <td>-0.069599</td>\n",
       "      <td>-0.028638</td>\n",
       "      <td>-0.030173</td>\n",
       "      <td>0.051335</td>\n",
       "      <td>0.039690</td>\n",
       "      <td>0.024108</td>\n",
       "      <td>0.038452</td>\n",
       "    </tr>\n",
       "    <tr>\n",
       "      <th>2</th>\n",
       "      <td>58281</td>\n",
       "      <td>0.254651</td>\n",
       "      <td>0.435009</td>\n",
       "      <td>0.047343</td>\n",
       "      <td>-0.240237</td>\n",
       "      <td>0.386776</td>\n",
       "      <td>0.190925</td>\n",
       "      <td>-0.110365</td>\n",
       "      <td>0.403969</td>\n",
       "      <td>0.209565</td>\n",
       "      <td>-0.315361</td>\n",
       "    </tr>\n",
       "    <tr>\n",
       "      <th>3</th>\n",
       "      <td>5855</td>\n",
       "      <td>-0.125443</td>\n",
       "      <td>-0.447050</td>\n",
       "      <td>-0.455594</td>\n",
       "      <td>0.077367</td>\n",
       "      <td>0.117318</td>\n",
       "      <td>-0.227716</td>\n",
       "      <td>0.241036</td>\n",
       "      <td>0.069007</td>\n",
       "      <td>0.026541</td>\n",
       "      <td>0.096755</td>\n",
       "    </tr>\n",
       "    <tr>\n",
       "      <th>4</th>\n",
       "      <td>4254</td>\n",
       "      <td>-0.099124</td>\n",
       "      <td>0.074327</td>\n",
       "      <td>0.117942</td>\n",
       "      <td>-0.095616</td>\n",
       "      <td>0.121855</td>\n",
       "      <td>-0.026308</td>\n",
       "      <td>0.015600</td>\n",
       "      <td>0.066173</td>\n",
       "      <td>0.014568</td>\n",
       "      <td>-0.129413</td>\n",
       "    </tr>\n",
       "  </tbody>\n",
       "</table>\n",
       "</div>"
      ],
      "text/plain": [
       "    node        X1        X2        X3        X4        X5        X6  \\\n",
       "0  40301  0.225529  0.210034  0.297220  0.167567  0.181666 -0.067529   \n",
       "1    486 -0.038294  0.059586  0.067501 -0.069599 -0.028638 -0.030173   \n",
       "2  58281  0.254651  0.435009  0.047343 -0.240237  0.386776  0.190925   \n",
       "3   5855 -0.125443 -0.447050 -0.455594  0.077367  0.117318 -0.227716   \n",
       "4   4254 -0.099124  0.074327  0.117942 -0.095616  0.121855 -0.026308   \n",
       "\n",
       "         X7        X8        X9       X10  \n",
       "0  0.190856 -0.394909 -0.013458 -0.051145  \n",
       "1  0.051335  0.039690  0.024108  0.038452  \n",
       "2 -0.110365  0.403969  0.209565 -0.315361  \n",
       "3  0.241036  0.069007  0.026541  0.096755  \n",
       "4  0.015600  0.066173  0.014568 -0.129413  "
      ]
     },
     "execution_count": 81,
     "metadata": {},
     "output_type": "execute_result"
    },
    {
     "data": {
      "text/plain": [
       "(2912, 11)"
      ]
     },
     "execution_count": 81,
     "metadata": {},
     "output_type": "execute_result"
    },
    {
     "data": {
      "text/html": [
       "<div>\n",
       "<style scoped>\n",
       "    .dataframe tbody tr th:only-of-type {\n",
       "        vertical-align: middle;\n",
       "    }\n",
       "\n",
       "    .dataframe tbody tr th {\n",
       "        vertical-align: top;\n",
       "    }\n",
       "\n",
       "    .dataframe thead th {\n",
       "        text-align: right;\n",
       "    }\n",
       "</style>\n",
       "<table border=\"1\" class=\"dataframe\">\n",
       "  <thead>\n",
       "    <tr style=\"text-align: right;\">\n",
       "      <th></th>\n",
       "      <th>node</th>\n",
       "      <th>X1</th>\n",
       "      <th>X2</th>\n",
       "      <th>X3</th>\n",
       "      <th>X4</th>\n",
       "      <th>X5</th>\n",
       "      <th>X6</th>\n",
       "      <th>X7</th>\n",
       "      <th>X8</th>\n",
       "      <th>X9</th>\n",
       "      <th>...</th>\n",
       "      <th>X91</th>\n",
       "      <th>X92</th>\n",
       "      <th>X93</th>\n",
       "      <th>X94</th>\n",
       "      <th>X95</th>\n",
       "      <th>X96</th>\n",
       "      <th>X97</th>\n",
       "      <th>X98</th>\n",
       "      <th>X99</th>\n",
       "      <th>X100</th>\n",
       "    </tr>\n",
       "  </thead>\n",
       "  <tbody>\n",
       "    <tr>\n",
       "      <th>0</th>\n",
       "      <td>40301</td>\n",
       "      <td>0.246076</td>\n",
       "      <td>-0.163092</td>\n",
       "      <td>0.187113</td>\n",
       "      <td>-0.419886</td>\n",
       "      <td>0.087278</td>\n",
       "      <td>-0.247041</td>\n",
       "      <td>-0.332622</td>\n",
       "      <td>-0.416252</td>\n",
       "      <td>-0.364196</td>\n",
       "      <td>...</td>\n",
       "      <td>0.111610</td>\n",
       "      <td>-0.217349</td>\n",
       "      <td>-0.050255</td>\n",
       "      <td>-0.363898</td>\n",
       "      <td>0.159537</td>\n",
       "      <td>0.049124</td>\n",
       "      <td>0.273226</td>\n",
       "      <td>-0.014486</td>\n",
       "      <td>0.264415</td>\n",
       "      <td>-0.339484</td>\n",
       "    </tr>\n",
       "    <tr>\n",
       "      <th>1</th>\n",
       "      <td>486</td>\n",
       "      <td>0.028838</td>\n",
       "      <td>-0.149447</td>\n",
       "      <td>0.076668</td>\n",
       "      <td>0.147266</td>\n",
       "      <td>0.035793</td>\n",
       "      <td>-0.027597</td>\n",
       "      <td>-0.011047</td>\n",
       "      <td>-0.012884</td>\n",
       "      <td>0.041530</td>\n",
       "      <td>...</td>\n",
       "      <td>-0.123064</td>\n",
       "      <td>-0.179404</td>\n",
       "      <td>-0.150439</td>\n",
       "      <td>-0.153662</td>\n",
       "      <td>-0.076157</td>\n",
       "      <td>-0.148236</td>\n",
       "      <td>0.147942</td>\n",
       "      <td>0.038622</td>\n",
       "      <td>0.037619</td>\n",
       "      <td>0.123962</td>\n",
       "    </tr>\n",
       "    <tr>\n",
       "      <th>2</th>\n",
       "      <td>58281</td>\n",
       "      <td>-0.019761</td>\n",
       "      <td>0.068480</td>\n",
       "      <td>0.091650</td>\n",
       "      <td>0.287598</td>\n",
       "      <td>0.252340</td>\n",
       "      <td>-0.220640</td>\n",
       "      <td>0.100836</td>\n",
       "      <td>-0.056052</td>\n",
       "      <td>-0.428704</td>\n",
       "      <td>...</td>\n",
       "      <td>0.299836</td>\n",
       "      <td>0.014091</td>\n",
       "      <td>0.023331</td>\n",
       "      <td>-0.264018</td>\n",
       "      <td>0.198802</td>\n",
       "      <td>-0.347939</td>\n",
       "      <td>-0.324437</td>\n",
       "      <td>0.221079</td>\n",
       "      <td>0.270497</td>\n",
       "      <td>-0.085286</td>\n",
       "    </tr>\n",
       "    <tr>\n",
       "      <th>3</th>\n",
       "      <td>5855</td>\n",
       "      <td>0.239056</td>\n",
       "      <td>-0.345874</td>\n",
       "      <td>0.168877</td>\n",
       "      <td>0.132425</td>\n",
       "      <td>0.280265</td>\n",
       "      <td>0.267206</td>\n",
       "      <td>0.426090</td>\n",
       "      <td>-0.187866</td>\n",
       "      <td>-0.260666</td>\n",
       "      <td>...</td>\n",
       "      <td>-0.135454</td>\n",
       "      <td>-0.186808</td>\n",
       "      <td>-0.182770</td>\n",
       "      <td>0.409403</td>\n",
       "      <td>0.065099</td>\n",
       "      <td>-0.199538</td>\n",
       "      <td>-0.358427</td>\n",
       "      <td>0.301667</td>\n",
       "      <td>-0.198078</td>\n",
       "      <td>0.281448</td>\n",
       "    </tr>\n",
       "    <tr>\n",
       "      <th>4</th>\n",
       "      <td>4254</td>\n",
       "      <td>-0.286886</td>\n",
       "      <td>0.142627</td>\n",
       "      <td>-0.070064</td>\n",
       "      <td>0.134789</td>\n",
       "      <td>-0.131317</td>\n",
       "      <td>-0.264538</td>\n",
       "      <td>-0.169140</td>\n",
       "      <td>0.049800</td>\n",
       "      <td>0.100532</td>\n",
       "      <td>...</td>\n",
       "      <td>0.065720</td>\n",
       "      <td>0.070031</td>\n",
       "      <td>-0.118417</td>\n",
       "      <td>0.127201</td>\n",
       "      <td>-0.223965</td>\n",
       "      <td>0.301435</td>\n",
       "      <td>0.200001</td>\n",
       "      <td>-0.052080</td>\n",
       "      <td>0.254962</td>\n",
       "      <td>0.152952</td>\n",
       "    </tr>\n",
       "  </tbody>\n",
       "</table>\n",
       "<p>5 rows × 101 columns</p>\n",
       "</div>"
      ],
      "text/plain": [
       "    node        X1        X2        X3        X4        X5        X6  \\\n",
       "0  40301  0.246076 -0.163092  0.187113 -0.419886  0.087278 -0.247041   \n",
       "1    486  0.028838 -0.149447  0.076668  0.147266  0.035793 -0.027597   \n",
       "2  58281 -0.019761  0.068480  0.091650  0.287598  0.252340 -0.220640   \n",
       "3   5855  0.239056 -0.345874  0.168877  0.132425  0.280265  0.267206   \n",
       "4   4254 -0.286886  0.142627 -0.070064  0.134789 -0.131317 -0.264538   \n",
       "\n",
       "         X7        X8        X9  ...       X91       X92       X93       X94  \\\n",
       "0 -0.332622 -0.416252 -0.364196  ...  0.111610 -0.217349 -0.050255 -0.363898   \n",
       "1 -0.011047 -0.012884  0.041530  ... -0.123064 -0.179404 -0.150439 -0.153662   \n",
       "2  0.100836 -0.056052 -0.428704  ...  0.299836  0.014091  0.023331 -0.264018   \n",
       "3  0.426090 -0.187866 -0.260666  ... -0.135454 -0.186808 -0.182770  0.409403   \n",
       "4 -0.169140  0.049800  0.100532  ...  0.065720  0.070031 -0.118417  0.127201   \n",
       "\n",
       "        X95       X96       X97       X98       X99      X100  \n",
       "0  0.159537  0.049124  0.273226 -0.014486  0.264415 -0.339484  \n",
       "1 -0.076157 -0.148236  0.147942  0.038622  0.037619  0.123962  \n",
       "2  0.198802 -0.347939 -0.324437  0.221079  0.270497 -0.085286  \n",
       "3  0.065099 -0.199538 -0.358427  0.301667 -0.198078  0.281448  \n",
       "4 -0.223965  0.301435  0.200001 -0.052080  0.254962  0.152952  \n",
       "\n",
       "[5 rows x 101 columns]"
      ]
     },
     "execution_count": 81,
     "metadata": {},
     "output_type": "execute_result"
    },
    {
     "data": {
      "text/plain": [
       "(2912, 101)"
      ]
     },
     "execution_count": 81,
     "metadata": {},
     "output_type": "execute_result"
    }
   ],
   "source": [
    "# load embeddings\n",
    "glove_2 = pd.read_csv('data/mimic-iii/mortality_pred/glove_emb_2.csv')\n",
    "glove_2['Unnamed: 0'] = list(G.nodes())\n",
    "glove_2.rename(columns={'Unnamed: 0': 'node'}, inplace=True)\n",
    "glove_2.head()\n",
    "glove_2.shape\n",
    "\n",
    "glove_10 = pd.read_csv('data/mimic-iii/mortality_pred/glove_emb_10.csv')\n",
    "glove_10['Unnamed: 0'] = list(G.nodes())\n",
    "glove_10.rename(columns={'Unnamed: 0': 'node'}, inplace=True)\n",
    "glove_10.head()\n",
    "glove_10.shape\n",
    "\n",
    "glove_100 = pd.read_csv('data/mimic-iii/mortality_pred/glove_emb_100.csv')\n",
    "glove_100['Unnamed: 0'] = list(G.nodes())\n",
    "glove_100.rename(columns={'Unnamed: 0': 'node'}, inplace=True)\n",
    "glove_100.head()\n",
    "glove_100.shape"
   ]
  },
  {
   "cell_type": "code",
   "execution_count": 83,
   "metadata": {
    "ExecuteTime": {
     "end_time": "2020-08-21T05:29:52.772139Z",
     "start_time": "2020-08-21T05:29:45.983077Z"
    }
   },
   "outputs": [
    {
     "data": {
      "text/plain": [
       "1.05617213999967"
      ]
     },
     "execution_count": 83,
     "metadata": {},
     "output_type": "execute_result"
    },
    {
     "data": {
      "text/plain": [
       "0.5158026474121445"
      ]
     },
     "execution_count": 83,
     "metadata": {},
     "output_type": "execute_result"
    },
    {
     "data": {
      "text/plain": [
       "0.9549141023613378"
      ]
     },
     "execution_count": 83,
     "metadata": {},
     "output_type": "execute_result"
    },
    {
     "data": {
      "text/plain": [
       "0.4608663662207197"
      ]
     },
     "execution_count": 83,
     "metadata": {},
     "output_type": "execute_result"
    },
    {
     "data": {
      "text/plain": [
       "1.1060388964703092"
      ]
     },
     "execution_count": 83,
     "metadata": {},
     "output_type": "execute_result"
    }
   ],
   "source": [
    "from sklearn.metrics import pairwise_distances\n",
    "emb = glove_2\n",
    "emb_data = np.array(glove_2.iloc[:, 1:3])\n",
    "emb_dict = dict(zip(glove_2.node.values, emb_data))\n",
    "within_means = []\n",
    "within_stds = []\n",
    "between_means = []\n",
    "between_stds = []\n",
    "emb_data = np.array(list(emb_dict.values()))\n",
    "D = pairwise_distances(emb_data)\n",
    "D_symm = D.T + D\n",
    "for i in range(len(np.unique(labels))):\n",
    "    chapter_nodes = emb[emb.node != 'ICD-9_Diagnoses']['node'].values[labels == i]\n",
    "    within_mean, within_std = within_chapter_distances(chapter_nodes, emb_dict)\n",
    "    within_means.append(within_mean)\n",
    "    within_stds.append(within_std)\n",
    "    between_mean, between_std = between_chapter_distances(chapter_nodes, emb, D_symm)\n",
    "    between_means.append(between_mean)\n",
    "    between_stds.append(between_std)\n",
    "np.mean(within_means)\n",
    "np.mean(within_stds)\n",
    "np.mean(between_means)\n",
    "np.mean(between_stds)\n",
    "np.mean(within_means) / np.mean(between_means)"
   ]
  },
  {
   "cell_type": "code",
   "execution_count": 84,
   "metadata": {
    "ExecuteTime": {
     "end_time": "2020-08-21T05:31:11.459709Z",
     "start_time": "2020-08-21T05:31:04.663471Z"
    }
   },
   "outputs": [
    {
     "data": {
      "text/plain": [
       "1.0724517450351896"
      ]
     },
     "execution_count": 84,
     "metadata": {},
     "output_type": "execute_result"
    },
    {
     "data": {
      "text/plain": [
       "0.5245278383479026"
      ]
     },
     "execution_count": 84,
     "metadata": {},
     "output_type": "execute_result"
    },
    {
     "data": {
      "text/plain": [
       "0.9621125495058325"
      ]
     },
     "execution_count": 84,
     "metadata": {},
     "output_type": "execute_result"
    },
    {
     "data": {
      "text/plain": [
       "0.464574838705821"
      ]
     },
     "execution_count": 84,
     "metadata": {},
     "output_type": "execute_result"
    },
    {
     "data": {
      "text/plain": [
       "1.1146842909242067"
      ]
     },
     "execution_count": 84,
     "metadata": {},
     "output_type": "execute_result"
    }
   ],
   "source": [
    "emb = glove_10\n",
    "emb_data = np.array(emb.iloc[:, 1:3])\n",
    "emb_dict = dict(zip(emb.node.values, emb_data))\n",
    "within_means = []\n",
    "within_stds = []\n",
    "between_means = []\n",
    "between_stds = []\n",
    "emb_data = np.array(list(emb_dict.values()))\n",
    "D = pairwise_distances(emb_data)\n",
    "D_symm = D.T + D\n",
    "for i in range(len(np.unique(labels))):\n",
    "    chapter_nodes = emb[emb.node != 'ICD-9_Diagnoses']['node'].values[labels == i]\n",
    "    within_mean, within_std = within_chapter_distances(chapter_nodes, emb_dict)\n",
    "    within_means.append(within_mean)\n",
    "    within_stds.append(within_std)\n",
    "    between_mean, between_std = between_chapter_distances(chapter_nodes, emb, D_symm)\n",
    "    between_means.append(between_mean)\n",
    "    between_stds.append(between_std)\n",
    "np.mean(within_means)\n",
    "np.mean(within_stds)\n",
    "np.mean(between_means)\n",
    "np.mean(between_stds)\n",
    "np.mean(within_means) / np.mean(between_means)"
   ]
  },
  {
   "cell_type": "code",
   "execution_count": 85,
   "metadata": {
    "ExecuteTime": {
     "end_time": "2020-08-21T05:31:49.748751Z",
     "start_time": "2020-08-21T05:31:43.071074Z"
    }
   },
   "outputs": [
    {
     "data": {
      "text/plain": [
       "1.0806251744933904"
      ]
     },
     "execution_count": 85,
     "metadata": {},
     "output_type": "execute_result"
    },
    {
     "data": {
      "text/plain": [
       "0.5237114651117992"
      ]
     },
     "execution_count": 85,
     "metadata": {},
     "output_type": "execute_result"
    },
    {
     "data": {
      "text/plain": [
       "0.9761443918048751"
      ]
     },
     "execution_count": 85,
     "metadata": {},
     "output_type": "execute_result"
    },
    {
     "data": {
      "text/plain": [
       "0.4693012657609822"
      ]
     },
     "execution_count": 85,
     "metadata": {},
     "output_type": "execute_result"
    },
    {
     "data": {
      "text/plain": [
       "1.107034147371714"
      ]
     },
     "execution_count": 85,
     "metadata": {},
     "output_type": "execute_result"
    }
   ],
   "source": [
    "emb = glove_100\n",
    "emb_data = np.array(emb.iloc[:, 1:3])\n",
    "emb_dict = dict(zip(emb.node.values, emb_data))\n",
    "within_means = []\n",
    "within_stds = []\n",
    "between_means = []\n",
    "between_stds = []\n",
    "emb_data = np.array(list(emb_dict.values()))\n",
    "D = pairwise_distances(emb_data)\n",
    "D_symm = D.T + D\n",
    "for i in range(len(np.unique(labels))):\n",
    "    chapter_nodes = emb[emb.node != 'ICD-9_Diagnoses']['node'].values[labels == i]\n",
    "    within_mean, within_std = within_chapter_distances(chapter_nodes, emb_dict)\n",
    "    within_means.append(within_mean)\n",
    "    within_stds.append(within_std)\n",
    "    between_mean, between_std = between_chapter_distances(chapter_nodes, emb, D_symm)\n",
    "    between_means.append(between_mean)\n",
    "    between_stds.append(between_std)\n",
    "np.mean(within_means)\n",
    "np.mean(within_stds)\n",
    "np.mean(between_means)\n",
    "np.mean(between_stds)\n",
    "np.mean(within_means) / np.mean(between_means)"
   ]
  }
 ],
 "metadata": {
  "kernelspec": {
   "display_name": "Python 3",
   "language": "python",
   "name": "python3"
  },
  "language_info": {
   "codemirror_mode": {
    "name": "ipython",
    "version": 3
   },
   "file_extension": ".py",
   "mimetype": "text/x-python",
   "name": "python",
   "nbconvert_exporter": "python",
   "pygments_lexer": "ipython3",
   "version": "3.8.3"
  }
 },
 "nbformat": 4,
 "nbformat_minor": 4
}
