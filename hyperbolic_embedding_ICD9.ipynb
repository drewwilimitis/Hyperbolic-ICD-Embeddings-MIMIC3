{
 "cells": [
  {
   "cell_type": "markdown",
   "metadata": {},
   "source": [
    "# Hyperbolic Embedding Methods for Medical Ontology Networks\n",
    "<br>\n",
    "\n",
    "\n",
    "**Drew Wilimitis** <br> \n",
    "Department of Biomedical Informatics, Vanderbilt University Medical Center"
   ]
  },
  {
   "cell_type": "markdown",
   "metadata": {
    "cell_style": "center"
   },
   "source": [
    "![title](images/three_models.png)"
   ]
  },
  {
   "cell_type": "markdown",
   "metadata": {},
   "source": [
    "## Writing/Research Project Outline <br>\n",
    "\n",
    "____\n",
    "<br>\n",
    "\n",
    "### Abstract :\n",
    "<br>\n",
    " \n",
    "\n",
    "<br>\n",
    "\n",
    "### 1. Intro: Broader Introduction and Contextual Framing  of My Investigation\n",
    "<br>\n",
    "<br>\n",
    "As discussed in a recent survey of representation learning for Electronic Health Records, there is currently a vast, disparate set of clinical data sources through which we attempt to understand a multi-layered, incredibly complex social network of patient-clinician interactions. In addition, the prevalence of high-throughput genomics data and cross-collaboration with clinical research is incredibly promising towards a more complete scientific understanding of biomedicine as it currently exists. However, to understand the dynamical processes involved in this system will significantly complicate the challenge of learning meaningful, informative data representations.\n",
    "<br>\n",
    "<br>\n",
    "\n",
    "This problem of representation learning challenges the progression of biomedical informatics and clinical science not only in the potential to build less accurate predictive models, but also to potentially erode any human interpretation or explainability of these algorithms. Given that many SOTA methods for representation learning are highly sophisticated deep-learning algorithms, and also because these SOTA methods involve immensely expensive transfer learning, converging to potentially hundreds of millions of parameters like BERT, despite its undeniable success in NLP tasks.<br>\n",
    "\n",
    "<br>\n",
    "\n",
    "### 2. Background Overview of Hyperbolic Geometry: <br>\n",
    "<br>\n",
    "<br>\n",
    "\n",
    "\n",
    "### 3.1-3.4: Methodology Outline <br>\n",
    "\n",
    "- Method 1: Apply the Poincare Embedding Algorithm\n",
    "\n",
    "- Method 2: Apply Lorentz Embedding\n",
    "\n",
    "- Method 3: Lorentzian Distance Learning??\n",
    "\n",
    "\n",
    "### 4.  Evaluation (to Euclidean & Earlier Approach) <br>\n",
    "<br>\n",
    "\n",
    "### 5. Apply Hyperbolic KMeans/Clustering?<br>\n",
    "<br>\n",
    "\n",
    "### 6. Conclusion/Discussion <br>\n",
    "<br>\n",
    "<br>\n"
   ]
  },
  {
   "cell_type": "markdown",
   "metadata": {},
   "source": [
    "___\n",
    "### Resources: <br>\n",
    "\n",
    "Top FB AI poincare compare approaches with ICD: https://arxiv.org/pdf/1902.00913.pdf\n",
    "\n",
    "Snomed2Vec and Poincaré Embeddings of a Clinical Knowledge Base for Healthcare Analytics: https://arxiv.org/pdf/1907.08650.pdf\n",
    "\n",
    "gave public access to their results/embeddings/data: https://drive.google.com/drive/folders/1zre60Kd0nmQubgQO4iaf0TtWpVLaEKZO\n",
    "\n",
    "Learning Electronic Health Records through Hyperbolic\n",
    "Embedding of Medical Ontologies: https://dl.acm.org/doi/pdf/10.1145/3307339.3342148\n",
    "\n",
    "independent ICD embedding resarcher: \n",
    "also came up with these embedding 3d visuals and provides his data sources:\n",
    "\n",
    "http://projector.tensorflow.org/?config=https://raw.githubusercontent.com/aaronteoh/icd-embeddings/master/projector-config.json\n",
    "https://tech.aaronteoh.com/medical-diagnosis-codes-embeddings/\n",
    "https://raw.githubusercontent.com/aaronteoh/icd-embeddings/master/meta_desc.tsv\n",
    "<br>\n",
    "\n",
    "___"
   ]
  },
  {
   "cell_type": "markdown",
   "metadata": {},
   "source": [
    "# Initial Data and Process Exploration "
   ]
  },
  {
   "cell_type": "code",
   "execution_count": 1,
   "metadata": {
    "ExecuteTime": {
     "end_time": "2020-06-18T03:36:57.444303Z",
     "start_time": "2020-06-18T03:36:54.867595Z"
    }
   },
   "outputs": [],
   "source": [
    "# import libraries\n",
    "import numpy as np\n",
    "import pandas as pd\n",
    "import matplotlib.pyplot as plt\n",
    "import seaborn as sns\n",
    "plt.style.use('seaborn')\n",
    "%matplotlib inline\n",
    "import networkx as nx\n",
    "import sys\n",
    "import os\n",
    "\n",
    "# import modules within repository\n",
    "#my_path = 'C:\\\\Users\\\\dreww\\\\Desktop\\\\hyperbolic-learning\\\\utils' # path to utils folder\n",
    "#sys.path.append(my_path)\n",
    "#from utils import *\n",
    "#from embed import train_embeddings, load_embeddings, evaluate_model\n",
    "#from hkmeans import HyperbolicKMeans, plot_clusters\n",
    "\n",
    "# ignore warnings\n",
    "import warnings\n",
    "warnings.filterwarnings('ignore');\n",
    "\n",
    "# display multiple outputs within a cell\n",
    "from IPython.core.interactiveshell import InteractiveShell\n",
    "InteractiveShell.ast_node_interactivity = \"all\";"
   ]
  },
  {
   "cell_type": "code",
   "execution_count": 2,
   "metadata": {
    "ExecuteTime": {
     "end_time": "2020-06-18T03:37:02.373550Z",
     "start_time": "2020-06-18T03:37:02.144930Z"
    }
   },
   "outputs": [],
   "source": [
    "all_codes = pd.read_csv('data/tmp/allcodes.csv', sep=\"|\" , encoding='latin1', false_values=['\"'])\n",
    "majors = pd.read_csv('data/tmp/majors.csv', sep=\"|\")\n",
    "chapters = pd.read_csv('data/tmp/chapters.csv', sep=\"|\").transpose()\n",
    "sub_chapters = pd.read_csv('./data/tmp/subchapters.csv', sep=\"|\").transpose()\n",
    "\n",
    "df = pd.DataFrame(columns=['parent', 'child'])\n",
    "# print(all_codes.head(3))\n",
    "\n",
    "# handle chapters\n",
    "chapters = chapters.reset_index()\n",
    "chapters.columns = ['name', 'start', 'end']\n",
    "chapters['range'] = 'c_' + chapters['start'].map(str) + '_' + chapters['end'].map(str)\n",
    "\n",
    "chap_name_dict = dict(zip(chapters['name'], chapters['range']))\n",
    "chap_range_dict = dict(zip(chapters['range'], chapters['name']))\n",
    "\n",
    "sub_chapters = sub_chapters.reset_index()\n",
    "sub_chapters.columns = ['name', 'start', 'end']\n",
    "sub_chapters['range'] = 's_' + sub_chapters['start'].map(str) + '_' + sub_chapters['end'].map(str)\n",
    "\n",
    "subchap_name_dict = dict(zip(sub_chapters['name'], sub_chapters['range']))\n",
    "subchap_range_dict = dict(zip(sub_chapters['range'], sub_chapters['name']))"
   ]
  }
 ],
 "metadata": {
  "kernelspec": {
   "display_name": "Python 3",
   "language": "python",
   "name": "python3"
  },
  "language_info": {
   "codemirror_mode": {
    "name": "ipython",
    "version": 3
   },
   "file_extension": ".py",
   "mimetype": "text/x-python",
   "name": "python",
   "nbconvert_exporter": "python",
   "pygments_lexer": "ipython3",
   "version": "3.7.1"
  },
  "latex_envs": {
   "LaTeX_envs_menu_present": true,
   "autoclose": false,
   "autocomplete": true,
   "bibliofile": "biblio.bib",
   "cite_by": "apalike",
   "current_citInitial": 1,
   "eqLabelWithNumbers": false,
   "eqNumInitial": 1,
   "hotkeys": {
    "equation": "Ctrl-E",
    "itemize": "Ctrl-I"
   },
   "labels_anchors": false,
   "latex_user_defs": false,
   "report_style_numbering": false,
   "user_envs_cfg": false
  },
  "nbTranslate": {
   "displayLangs": [
    "*"
   ],
   "hotkey": "alt-t",
   "langInMainMenu": true,
   "sourceLang": "en",
   "targetLang": "fr",
   "useGoogleTranslate": true
  },
  "varInspector": {
   "cols": {
    "lenName": 16,
    "lenType": 16,
    "lenVar": 40
   },
   "kernels_config": {
    "python": {
     "delete_cmd_postfix": "",
     "delete_cmd_prefix": "del ",
     "library": "var_list.py",
     "varRefreshCmd": "print(var_dic_list())"
    },
    "r": {
     "delete_cmd_postfix": ") ",
     "delete_cmd_prefix": "rm(",
     "library": "var_list.r",
     "varRefreshCmd": "cat(var_dic_list()) "
    }
   },
   "types_to_exclude": [
    "module",
    "function",
    "builtin_function_or_method",
    "instance",
    "_Feature"
   ],
   "window_display": false
  }
 },
 "nbformat": 4,
 "nbformat_minor": 2
}
