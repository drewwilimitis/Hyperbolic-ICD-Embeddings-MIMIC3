{
 "cells": [
  {
   "cell_type": "markdown",
   "metadata": {},
   "source": [
    "# Hyperbolic Embedding Methods for Medical Ontology Networks\n",
    "<br>\n",
    "\n",
    "\n",
    "**Drew Wilimitis** <br> \n",
    "Department of Biomedical Informatics, Vanderbilt University Medical Center"
   ]
  },
  {
   "cell_type": "markdown",
   "metadata": {
    "cell_style": "center"
   },
   "source": [
    "![title](images/three_models.png)"
   ]
  },
  {
   "cell_type": "markdown",
   "metadata": {},
   "source": [
    "## Writing/Research Project Outline <br>\n",
    "\n",
    "____\n",
    "\n",
    "### Abstract :\n",
    "<br>\n",
    " "
   ]
  },
  {
   "cell_type": "markdown",
   "metadata": {},
   "source": [
    "### Intro: Broader Introduction and Contextual Framing  of My Investigation\n",
    "<br>\n",
    "\n",
    "As discussed in a recent survey of representation learning for Electronic Health Records **[1]**, there is currently a vast, disparate set of clinical data sources through which we attempt to understand a multi-layered, incredibly complex social network of patient-clinician interactions. In addition, the prevalence of high-throughput genomics data and cross-collaboration with clinical research is incredibly promising towards a more complete scientific understanding of biomedicine as it currently exists. However, to understand the dynamical processes involved in this system will significantly complicate the challenge of learning meaningful, informative data representations.\n",
    "<br>\n",
    "<br>\n",
    "\n",
    "This problem of representation learning challenges the progression of biomedical informatics and clinical science not only in the potential to build less accurate predictive models, but also to potentially erode any human interpretation or explainability of these algorithms. Given that many SOTA methods for representation learning are highly sophisticated deep-learning algorithms, and also because these SOTA methods involve immensely expensive transfer learning, converging to potentially hundreds of millions of parameters like BERT, despite its undeniable success in NLP tasks.<br>"
   ]
  },
  {
   "cell_type": "markdown",
   "metadata": {},
   "source": [
    "### 2. Background Overview of Hyperbolic Geometry:\n",
    "\n",
    "<br>\n",
    "\n",
    "**Note**: other datasets amenable to hyperbolic approaches: train a better and joint embedding with the hierarchy of medical ontologies, the textual descriptions of concepts, and even patients’ EHR data in the hyperbolic space\n",
    "\n",
    "### 3.1-3.4: Hyperbolic Embeddings <br>\n",
    "\n",
    "- Method 1: Apply the Poincare Embedding Algorithm\n",
    "\n",
    "- Method 2: Apply Lorentz Embedding\n",
    "\n",
    "- Method 3: Lorentzian Distance Learning??\n",
    "\n",
    "\n",
    "### 4.  Evaluation (to Euclidean & Earlier Approach) <br>\n",
    "<br>\n",
    "\n",
    "### 5. Apply Hyperbolic KMeans/Clustering?<br>\n",
    "<br>\n",
    "\n",
    "### 6. Conclusion/Discussion <br>\n",
    "<br>\n",
    "<br>"
   ]
  },
  {
   "cell_type": "markdown",
   "metadata": {},
   "source": [
    "___\n",
    "### References: <br>\n",
    "\n",
    "\n",
    "**[1]**. Weng, Wei-Hung and Peter Szolovits. “Representation Learning for Electronic Health Records.” ArXiv abs/1909.09248 (2019): n. pag.\n",
    "\n",
    "Beaulieu-Jones, Brett & Kohane, Isaac & Beam, Andrew. (2019). Learning Contextual Hierarchical Structure of Medical Concepts with Poincairé Embeddings to Clarify Phenotypes. Pacific Symposium on Biocomputing. Pacific Symposium on Biocomputing. 24. 8-17. \n",
    "\n",
    "Cao, Jiazhen. “A Case Study for Predicting in-Hospital Mortality by Utilizing the Hyperbolic Embedding of ICD-9 Medical Ontology.” (2019).\n",
    "\n",
    "Top FB AI poincare compare approaches with ICD: https://arxiv.org/pdf/1902.00913.pdf\n",
    "\n",
    "Snomed2Vec and Poincaré Embeddings of a Clinical Knowledge Base for Healthcare Analytics: https://arxiv.org/pdf/1907.08650.pdf\n",
    "\n",
    "gave public access to their results/embeddings/data: https://drive.google.com/drive/folders/1zre60Kd0nmQubgQO4iaf0TtWpVLaEKZO\n",
    "\n",
    "Learning Electronic Health Records through Hyperbolic\n",
    "Embedding of Medical Ontologies: https://dl.acm.org/doi/pdf/10.1145/3307339.3342148\n",
    "\n",
    "independent ICD embedding resarcher: \n",
    "also came up with these embedding 3d visuals and provides his data sources:\n",
    "\n",
    "http://projector.tensorflow.org/?config=https://raw.githubusercontent.com/aaronteoh/icd-embeddings/master/projector-config.json\n",
    "https://tech.aaronteoh.com/medical-diagnosis-codes-embeddings/\n",
    "https://raw.githubusercontent.com/aaronteoh/icd-embeddings/master/meta_desc.tsv\n",
    "<br>\n",
    "\n",
    "___"
   ]
  },
  {
   "cell_type": "markdown",
   "metadata": {},
   "source": [
    "# Initial Data and Process Exploration "
   ]
  },
  {
   "cell_type": "code",
   "execution_count": 1,
   "metadata": {
    "ExecuteTime": {
     "end_time": "2020-06-20T07:49:12.468874Z",
     "start_time": "2020-06-20T07:48:44.178490Z"
    }
   },
   "outputs": [],
   "source": [
    "# import libraries\n",
    "import numpy as np\n",
    "import pandas as pd\n",
    "import matplotlib.pyplot as plt\n",
    "import seaborn as sns\n",
    "plt.style.use('seaborn')\n",
    "%matplotlib inline\n",
    "import networkx as nx\n",
    "import sys\n",
    "import os\n",
    "\n",
    "# ignore warnings\n",
    "import warnings\n",
    "warnings.filterwarnings('ignore');\n",
    "\n",
    "# display multiple outputs within a cell\n",
    "from IPython.core.interactiveshell import InteractiveShell\n",
    "InteractiveShell.ast_node_interactivity = \"all\";"
   ]
  },
  {
   "cell_type": "code",
   "execution_count": 2,
   "metadata": {
    "ExecuteTime": {
     "end_time": "2020-06-20T07:49:13.132309Z",
     "start_time": "2020-06-20T07:49:12.480782Z"
    }
   },
   "outputs": [],
   "source": [
    "all_codes = pd.read_csv('data/tmp/allcodes.csv', sep=\"|\" , encoding='latin1', false_values=['\"'])\n",
    "majors = pd.read_csv('data/tmp/majors.csv', sep=\"|\")\n",
    "chapters = pd.read_csv('data/tmp/chapters.csv', sep=\"|\").transpose()\n",
    "sub_chapters = pd.read_csv('./data/tmp/subchapters.csv', sep=\"|\").transpose()\n",
    "\n",
    "df = pd.DataFrame(columns=['parent', 'child'])\n",
    "# print(all_codes.head(3))\n",
    "\n",
    "# handle chapters\n",
    "chapters = chapters.reset_index()\n",
    "chapters.columns = ['name', 'start', 'end']\n",
    "chapters['range'] = 'c_' + chapters['start'].map(str) + '_' + chapters['end'].map(str)\n",
    "\n",
    "chap_name_dict = dict(zip(chapters['name'], chapters['range']))\n",
    "chap_range_dict = dict(zip(chapters['range'], chapters['name']))\n",
    "\n",
    "sub_chapters = sub_chapters.reset_index()\n",
    "sub_chapters.columns = ['name', 'start', 'end']\n",
    "sub_chapters['range'] = 's_' + sub_chapters['start'].map(str) + '_' + sub_chapters['end'].map(str)\n",
    "\n",
    "subchap_name_dict = dict(zip(sub_chapters['name'], sub_chapters['range']))\n",
    "subchap_range_dict = dict(zip(sub_chapters['range'], sub_chapters['name']))"
   ]
  },
  {
   "cell_type": "code",
   "execution_count": 22,
   "metadata": {
    "ExecuteTime": {
     "end_time": "2020-06-20T08:04:59.837335Z",
     "start_time": "2020-06-20T08:04:59.817619Z"
    }
   },
   "outputs": [
    {
     "data": {
      "text/html": [
       "<div>\n",
       "<style scoped>\n",
       "    .dataframe tbody tr th:only-of-type {\n",
       "        vertical-align: middle;\n",
       "    }\n",
       "\n",
       "    .dataframe tbody tr th {\n",
       "        vertical-align: top;\n",
       "    }\n",
       "\n",
       "    .dataframe thead th {\n",
       "        text-align: right;\n",
       "    }\n",
       "</style>\n",
       "<table border=\"1\" class=\"dataframe\">\n",
       "  <thead>\n",
       "    <tr style=\"text-align: right;\">\n",
       "      <th></th>\n",
       "      <th>code</th>\n",
       "      <th>billable</th>\n",
       "      <th>short_desc</th>\n",
       "      <th>long_desc</th>\n",
       "      <th>three_digit</th>\n",
       "      <th>major</th>\n",
       "      <th>sub_chapter</th>\n",
       "      <th>chapter</th>\n",
       "    </tr>\n",
       "  </thead>\n",
       "  <tbody>\n",
       "    <tr>\n",
       "      <th>1</th>\n",
       "      <td>001</td>\n",
       "      <td>False</td>\n",
       "      <td>Cholera</td>\n",
       "      <td>Cholera</td>\n",
       "      <td>001</td>\n",
       "      <td>Cholera</td>\n",
       "      <td>Intestinal Infectious Diseases</td>\n",
       "      <td>Infectious And Parasitic Diseases</td>\n",
       "    </tr>\n",
       "    <tr>\n",
       "      <th>2</th>\n",
       "      <td>0010</td>\n",
       "      <td>True</td>\n",
       "      <td>Cholera d/t vib cholerae</td>\n",
       "      <td>Cholera due to vibrio cholerae</td>\n",
       "      <td>001</td>\n",
       "      <td>Cholera</td>\n",
       "      <td>Intestinal Infectious Diseases</td>\n",
       "      <td>Infectious And Parasitic Diseases</td>\n",
       "    </tr>\n",
       "    <tr>\n",
       "      <th>3</th>\n",
       "      <td>0011</td>\n",
       "      <td>True</td>\n",
       "      <td>Cholera d/t vib el tor</td>\n",
       "      <td>Cholera due to vibrio cholerae el tor</td>\n",
       "      <td>001</td>\n",
       "      <td>Cholera</td>\n",
       "      <td>Intestinal Infectious Diseases</td>\n",
       "      <td>Infectious And Parasitic Diseases</td>\n",
       "    </tr>\n",
       "    <tr>\n",
       "      <th>4</th>\n",
       "      <td>0019</td>\n",
       "      <td>True</td>\n",
       "      <td>Cholera NOS</td>\n",
       "      <td>Cholera, unspecified</td>\n",
       "      <td>001</td>\n",
       "      <td>Cholera</td>\n",
       "      <td>Intestinal Infectious Diseases</td>\n",
       "      <td>Infectious And Parasitic Diseases</td>\n",
       "    </tr>\n",
       "    <tr>\n",
       "      <th>5</th>\n",
       "      <td>002</td>\n",
       "      <td>False</td>\n",
       "      <td>Typhoid and paratyphoid fevers</td>\n",
       "      <td>Typhoid and paratyphoid fevers</td>\n",
       "      <td>002</td>\n",
       "      <td>Typhoid and paratyphoid fevers</td>\n",
       "      <td>Intestinal Infectious Diseases</td>\n",
       "      <td>Infectious And Parasitic Diseases</td>\n",
       "    </tr>\n",
       "  </tbody>\n",
       "</table>\n",
       "</div>"
      ],
      "text/plain": [
       "   code  billable                      short_desc  \\\n",
       "1   001     False                         Cholera   \n",
       "2  0010      True        Cholera d/t vib cholerae   \n",
       "3  0011      True          Cholera d/t vib el tor   \n",
       "4  0019      True                     Cholera NOS   \n",
       "5   002     False  Typhoid and paratyphoid fevers   \n",
       "\n",
       "                               long_desc three_digit  \\\n",
       "1                                Cholera         001   \n",
       "2         Cholera due to vibrio cholerae         001   \n",
       "3  Cholera due to vibrio cholerae el tor         001   \n",
       "4                   Cholera, unspecified         001   \n",
       "5         Typhoid and paratyphoid fevers         002   \n",
       "\n",
       "                            major                     sub_chapter  \\\n",
       "1                         Cholera  Intestinal Infectious Diseases   \n",
       "2                         Cholera  Intestinal Infectious Diseases   \n",
       "3                         Cholera  Intestinal Infectious Diseases   \n",
       "4                         Cholera  Intestinal Infectious Diseases   \n",
       "5  Typhoid and paratyphoid fevers  Intestinal Infectious Diseases   \n",
       "\n",
       "                             chapter  \n",
       "1  Infectious And Parasitic Diseases  \n",
       "2  Infectious And Parasitic Diseases  \n",
       "3  Infectious And Parasitic Diseases  \n",
       "4  Infectious And Parasitic Diseases  \n",
       "5  Infectious And Parasitic Diseases  "
      ]
     },
     "execution_count": 22,
     "metadata": {},
     "output_type": "execute_result"
    }
   ],
   "source": [
    "all_codes.head()"
   ]
  },
  {
   "cell_type": "code",
   "execution_count": 24,
   "metadata": {
    "ExecuteTime": {
     "end_time": "2020-06-20T08:09:39.886779Z",
     "start_time": "2020-06-20T08:09:39.849779Z"
    }
   },
   "outputs": [
    {
     "data": {
      "text/html": [
       "<div>\n",
       "<style scoped>\n",
       "    .dataframe tbody tr th:only-of-type {\n",
       "        vertical-align: middle;\n",
       "    }\n",
       "\n",
       "    .dataframe tbody tr th {\n",
       "        vertical-align: top;\n",
       "    }\n",
       "\n",
       "    .dataframe thead th {\n",
       "        text-align: right;\n",
       "    }\n",
       "</style>\n",
       "<table border=\"1\" class=\"dataframe\">\n",
       "  <thead>\n",
       "    <tr style=\"text-align: right;\">\n",
       "      <th></th>\n",
       "      <th>x</th>\n",
       "    </tr>\n",
       "  </thead>\n",
       "  <tbody>\n",
       "    <tr>\n",
       "      <th>Cholera</th>\n",
       "      <td>001</td>\n",
       "    </tr>\n",
       "    <tr>\n",
       "      <th>Typhoid and paratyphoid fevers</th>\n",
       "      <td>002</td>\n",
       "    </tr>\n",
       "    <tr>\n",
       "      <th>Other salmonella infections</th>\n",
       "      <td>003</td>\n",
       "    </tr>\n",
       "    <tr>\n",
       "      <th>Shigellosis</th>\n",
       "      <td>004</td>\n",
       "    </tr>\n",
       "    <tr>\n",
       "      <th>Other food poisoning (bacterial)</th>\n",
       "      <td>005</td>\n",
       "    </tr>\n",
       "  </tbody>\n",
       "</table>\n",
       "</div>"
      ],
      "text/plain": [
       "                                    x\n",
       "Cholera                           001\n",
       "Typhoid and paratyphoid fevers    002\n",
       "Other salmonella infections       003\n",
       "Shigellosis                       004\n",
       "Other food poisoning (bacterial)  005"
      ]
     },
     "execution_count": 24,
     "metadata": {},
     "output_type": "execute_result"
    },
    {
     "data": {
      "text/plain": [
       "(1234, 1)"
      ]
     },
     "execution_count": 24,
     "metadata": {},
     "output_type": "execute_result"
    },
    {
     "data": {
      "text/html": [
       "<div>\n",
       "<style scoped>\n",
       "    .dataframe tbody tr th:only-of-type {\n",
       "        vertical-align: middle;\n",
       "    }\n",
       "\n",
       "    .dataframe tbody tr th {\n",
       "        vertical-align: top;\n",
       "    }\n",
       "\n",
       "    .dataframe thead th {\n",
       "        text-align: right;\n",
       "    }\n",
       "</style>\n",
       "<table border=\"1\" class=\"dataframe\">\n",
       "  <thead>\n",
       "    <tr style=\"text-align: right;\">\n",
       "      <th></th>\n",
       "      <th>name</th>\n",
       "      <th>start</th>\n",
       "      <th>end</th>\n",
       "      <th>range</th>\n",
       "    </tr>\n",
       "  </thead>\n",
       "  <tbody>\n",
       "    <tr>\n",
       "      <th>0</th>\n",
       "      <td>Infectious.And.Parasitic.Diseases</td>\n",
       "      <td>1</td>\n",
       "      <td>139</td>\n",
       "      <td>c_1_139</td>\n",
       "    </tr>\n",
       "    <tr>\n",
       "      <th>1</th>\n",
       "      <td>Neoplasms</td>\n",
       "      <td>140</td>\n",
       "      <td>239</td>\n",
       "      <td>c_140_239</td>\n",
       "    </tr>\n",
       "    <tr>\n",
       "      <th>2</th>\n",
       "      <td>Endocrine..Nutritional.And.Metabolic.Diseases....</td>\n",
       "      <td>240</td>\n",
       "      <td>279</td>\n",
       "      <td>c_240_279</td>\n",
       "    </tr>\n",
       "    <tr>\n",
       "      <th>3</th>\n",
       "      <td>Diseases.Of.The.Blood.And.Blood.Forming.Organs</td>\n",
       "      <td>280</td>\n",
       "      <td>289</td>\n",
       "      <td>c_280_289</td>\n",
       "    </tr>\n",
       "    <tr>\n",
       "      <th>4</th>\n",
       "      <td>Mental.Disorders</td>\n",
       "      <td>290</td>\n",
       "      <td>319</td>\n",
       "      <td>c_290_319</td>\n",
       "    </tr>\n",
       "  </tbody>\n",
       "</table>\n",
       "</div>"
      ],
      "text/plain": [
       "                                                name start  end      range\n",
       "0                  Infectious.And.Parasitic.Diseases     1  139    c_1_139\n",
       "1                                          Neoplasms   140  239  c_140_239\n",
       "2  Endocrine..Nutritional.And.Metabolic.Diseases....   240  279  c_240_279\n",
       "3     Diseases.Of.The.Blood.And.Blood.Forming.Organs   280  289  c_280_289\n",
       "4                                   Mental.Disorders   290  319  c_290_319"
      ]
     },
     "execution_count": 24,
     "metadata": {},
     "output_type": "execute_result"
    },
    {
     "data": {
      "text/plain": [
       "(19, 4)"
      ]
     },
     "execution_count": 24,
     "metadata": {},
     "output_type": "execute_result"
    },
    {
     "data": {
      "text/html": [
       "<div>\n",
       "<style scoped>\n",
       "    .dataframe tbody tr th:only-of-type {\n",
       "        vertical-align: middle;\n",
       "    }\n",
       "\n",
       "    .dataframe tbody tr th {\n",
       "        vertical-align: top;\n",
       "    }\n",
       "\n",
       "    .dataframe thead th {\n",
       "        text-align: right;\n",
       "    }\n",
       "</style>\n",
       "<table border=\"1\" class=\"dataframe\">\n",
       "  <thead>\n",
       "    <tr style=\"text-align: right;\">\n",
       "      <th></th>\n",
       "      <th>name</th>\n",
       "      <th>start</th>\n",
       "      <th>end</th>\n",
       "      <th>range</th>\n",
       "    </tr>\n",
       "  </thead>\n",
       "  <tbody>\n",
       "    <tr>\n",
       "      <th>0</th>\n",
       "      <td>Intestinal.Infectious.Diseases</td>\n",
       "      <td>1</td>\n",
       "      <td>9</td>\n",
       "      <td>s_1_9</td>\n",
       "    </tr>\n",
       "    <tr>\n",
       "      <th>1</th>\n",
       "      <td>Tuberculosis</td>\n",
       "      <td>10</td>\n",
       "      <td>18</td>\n",
       "      <td>s_10_18</td>\n",
       "    </tr>\n",
       "    <tr>\n",
       "      <th>2</th>\n",
       "      <td>Zoonotic.Bacterial.Diseases</td>\n",
       "      <td>20</td>\n",
       "      <td>27</td>\n",
       "      <td>s_20_27</td>\n",
       "    </tr>\n",
       "    <tr>\n",
       "      <th>3</th>\n",
       "      <td>Other.Bacterial.Diseases</td>\n",
       "      <td>30</td>\n",
       "      <td>41</td>\n",
       "      <td>s_30_41</td>\n",
       "    </tr>\n",
       "    <tr>\n",
       "      <th>4</th>\n",
       "      <td>Human.Immunodeficiency.Virus..Hiv..Infection</td>\n",
       "      <td>42</td>\n",
       "      <td>42</td>\n",
       "      <td>s_42_42</td>\n",
       "    </tr>\n",
       "  </tbody>\n",
       "</table>\n",
       "</div>"
      ],
      "text/plain": [
       "                                           name start end    range\n",
       "0                Intestinal.Infectious.Diseases     1   9    s_1_9\n",
       "1                                  Tuberculosis    10  18  s_10_18\n",
       "2                   Zoonotic.Bacterial.Diseases    20  27  s_20_27\n",
       "3                      Other.Bacterial.Diseases    30  41  s_30_41\n",
       "4  Human.Immunodeficiency.Virus..Hiv..Infection    42  42  s_42_42"
      ]
     },
     "execution_count": 24,
     "metadata": {},
     "output_type": "execute_result"
    },
    {
     "data": {
      "text/plain": [
       "(164, 4)"
      ]
     },
     "execution_count": 24,
     "metadata": {},
     "output_type": "execute_result"
    }
   ],
   "source": [
    "majors.head()\n",
    "majors.shape\n",
    "chapters.head()\n",
    "chapters.shape\n",
    "sub_chapters.head()\n",
    "sub_chapters.shape"
   ]
  },
  {
   "cell_type": "code",
   "execution_count": 26,
   "metadata": {
    "ExecuteTime": {
     "end_time": "2020-06-20T09:00:27.330464Z",
     "start_time": "2020-06-20T09:00:27.321647Z"
    }
   },
   "outputs": [
    {
     "name": "stdout",
     "output_type": "stream",
     "text": [
      "(19, 4)\n",
      "(17, 4)\n",
      "(1234, 1)\n",
      "(928, 1)\n"
     ]
    }
   ],
   "source": [
    "# filter letter codes for now\n",
    "print(chapters.shape)\n",
    "chapters = chapters[:17]\n",
    "print(chapters.shape)\n",
    "\n",
    "print(majors.shape)\n",
    "majors = majors[:928]\n",
    "print(majors.shape)\n",
    "\n",
    "sub_chapters = sub_chapters[:119]"
   ]
  },
  {
   "cell_type": "code",
   "execution_count": 45,
   "metadata": {
    "ExecuteTime": {
     "end_time": "2020-06-20T11:13:29.226192Z",
     "start_time": "2020-06-20T11:13:27.154730Z"
    }
   },
   "outputs": [
    {
     "name": "stdout",
     "output_type": "stream",
     "text": [
      "[('s_590_599', 'c_580_629'), ('s_600_608', 'c_580_629'), ('s_610_612', 'c_580_629'), ('s_614_616', 'c_580_629'), ('s_617_629', 'c_580_629'), ('s_630_633', 'c_630_679'), ('s_634_639', 'c_630_679'), ('s_640_649', 'c_630_679'), ('s_650_659', 'c_630_679'), ('s_660_669', 'c_630_679'), ('s_670_677', 'c_630_679'), ('s_678_679', 'c_630_679'), ('s_680_686', 'c_680_709'), ('s_690_698', 'c_680_709'), ('s_700_709', 'c_680_709'), ('s_710_719', 'c_710_739'), ('s_720_724', 'c_710_739'), ('s_725_729', 'c_710_739'), ('s_730_739', 'c_710_739'), ('s_760_763', 'c_760_779'), ('s_764_779', 'c_760_779'), ('s_780_789', 'c_780_799'), ('s_790_796', 'c_780_799'), ('s_797_799', 'c_780_799'), ('s_800_829', 'c_800_999'), ('s_800_804', 'c_800_999'), ('s_805_809', 'c_800_999'), ('s_810_819', 'c_800_999'), ('s_820_829', 'c_800_999'), ('s_830_839', 'c_800_999'), ('s_840_848', 'c_800_999'), ('s_850_854', 'c_800_999'), ('s_860_869', 'c_800_999'), ('s_870_897', 'c_800_999'), ('s_870_879', 'c_800_999'), ('s_880_887', 'c_800_999'), ('s_890_897', 'c_800_999'), ('s_900_904', 'c_800_999'), ('s_905_909', 'c_800_999'), ('s_910_919', 'c_800_999'), ('s_920_924', 'c_800_999'), ('s_925_929', 'c_800_999'), ('s_930_939', 'c_800_999'), ('s_940_949', 'c_800_999'), ('s_950_957', 'c_800_999'), ('s_958_959', 'c_800_999'), ('s_960_979', 'c_800_999'), ('s_980_989', 'c_800_999'), ('s_990_995', 'c_800_999'), ('s_996_999', 'c_800_999')]\n",
      "1879\n"
     ]
    }
   ],
   "source": [
    "relations = []\n",
    "for i, major in majors.iterrows():\n",
    "    # chapter first\n",
    "    # then subchapter\n",
    "    relations.append((major['x'], chapters.loc[(int(major['x']) >= chapters['start'].astype(int))\n",
    "                                   & (int(major['x']) <= chapters['end'].astype(int))]['range'].values[0]))    \n",
    "    sub_chapter_formajor = sub_chapters.loc[(int(major['x']) >= sub_chapters['start'].astype(int))\n",
    "                                       & (int(major['x']) <= sub_chapters['end'].astype(int))]['range'].values\n",
    "   \n",
    "    if len(sub_chapter_formajor) == 1:\n",
    "        relations.append((major['x'], sub_chapter_formajor[0]))\n",
    "        \n",
    "\n",
    "for i, sub in sub_chapters.iterrows():\n",
    "    relations.append((sub['range'], chapters.loc[(int(sub['start']) >= chapters['start'].astype(int))\n",
    "                                   & (int(sub['start']) <= chapters['end'].astype(int))]['range'].values[0]))\n",
    "\n",
    "# why add these 'center' connections?\n",
    "#for i, chapter in chapters.iterrows():\n",
    "#    relations.append((chapter['range'], 'center'))\n",
    "\n",
    "    \n",
    "print(relations[-50:])\n",
    "print(len(relations))"
   ]
  },
  {
   "cell_type": "code",
   "execution_count": 46,
   "metadata": {
    "ExecuteTime": {
     "end_time": "2020-06-20T11:13:30.655402Z",
     "start_time": "2020-06-20T11:13:30.384165Z"
    }
   },
   "outputs": [
    {
     "data": {
      "text/plain": [
       "NodeView(('001', 'c_1_139', 's_1_9', '002', '003', '004', '005', '006', '007', '008', '009', '010', 's_10_18', '011', '012', '013', '014', '015', '016', '017', '018', '020', 's_20_27', '021', '022', '023', '024', '025', '026', '027', '030', 's_30_41', '031', '032', '033', '034', '035', '036', '037', '038', '039', '040', '041', '042', 's_42_42', '045', 's_45_49', '046', '047', '048', '049', '050', 's_50_59', '051', '052', '053', '054', '055', '056', '057', '058', '059', '060', 's_60_66', '061', '062', '063', '064', '065', '066', '070', 's_70_79', '071', '072', '073', '074', '075', '076', '077', '078', '079', '080', 's_80_88', '081', '082', '083', '084', '085', '086', '087', '088', '090', 's_90_99', '091', '092', '093', '094', '095', '096', '097', '098', '099', '100', 's_100_104', '101', '102', '103', '104', '110', 's_110_118', '111', '112', '114', '115', '116', '117', '118', '120', 's_120_129', '121', '122', '123', '124', '125', '126', '127', '128', '129', '130', 's_130_136', '131', '132', '133', '134', '135', '136', '137', 's_137_139', '138', '139', '199', 'c_140_239', 's_190_199', '209', 's_209_209', '239', 's_239_239', '140', 's_140_149', '141', '142', '143', '144', '145', '146', '147', '148', '149', '150', 's_150_159', '151', '152', '153', '154', '155', '156', '157', '158', '159', '160', 's_160_165', '161', '162', '163', '164', '165', '170', 's_170_176', '171', '172', '173', '174', '175', '176', '179', 's_179_189', '180', '181', '182', '183', '184', '185', '186', '187', '188', '189', '190', '191', '192', '193', '194', '195', '196', '197', '198', '200', 's_200_208', '201', '202', '203', '204', '205', '206', '207', '208', '210', 's_210_229', '211', '212', '213', '214', '215', '216', '217', '218', '219', '220', '221', '222', '223', '224', '225', '226', '227', '228', '229', '230', 's_230_234', '231', '232', '233', '234', '235', 's_235_238', '236', '237', '238', '240', 'c_240_279', 's_240_246', '241', '242', '243', '244', '245', '246', '249', 's_249_259', '250', '251', '252', '253', '254', '255', '256', '257', '258', '259', '260', 's_260_269', '261', '262', '263', '264', '265', '266', '267', '268', '269', '270', 's_270_279', '271', '272', '273', '274', '275', '276', '277', '278', '279', '280', 'c_280_289', '281', '282', '283', '284', '285', '286', '287', '288', '289', '290', 'c_290_319', '291', '292', '293', '294', '295', '296', '297', '298', '299', '300', 's_300_316', '301', '302', '303', '304', '305', '306', '307', '308', '309', '310', '311', '312', '313', '314', '315', '316', '317', 's_317_319', '318', '319', '320', 'c_320_389', 's_320_326', '321', '322', '323', '324', '325', '326', '327', 's_327_327', '330', 's_330_337', '331', '332', '333', '334', '335', '336', '337', '338', 's_338_338', '339', 's_339_339', '340', 's_340_349', '341', '342', '343', '344', '345', '346', '347', '348', '349', '350', 's_350_359', '351', '352', '353', '354', '355', '356', '357', '358', '359', '360', 's_360_379', '361', '362', '363', '364', '365', '366', '367', '368', '369', '370', '371', '372', '373', '374', '375', '376', '377', '378', '379', '380', 's_380_389', '381', '382', '383', '384', '385', '386', '387', '388', '389', '390', 'c_390_459', 's_390_392', '391', '392', '393', 's_393_398', '394', '395', '396', '397', '398', '401', 's_401_405', '402', '403', '404', '405', '410', 's_410_414', '411', '412', '413', '414', '415', 's_415_417', '416', '417', '420', 's_420_429', '421', '422', '423', '424', '425', '426', '427', '428', '429', '430', 's_430_438', '431', '432', '433', '434', '435', '436', '437', '438', '440', 's_440_449', '441', '442', '443', '444', '445', '446', '447', '448', '449', '451', 's_451_459', '452', '453', '454', '455', '456', '457', '458', '459', '460', 'c_460_519', 's_460_466', '461', '462', '463', '464', '465', '466', '470', 's_470_478', '471', '472', '473', '474', '475', '476', '477', '478', '480', 's_480_488', '481', '482', '483', '484', '485', '486', '487', '488', '490', 's_490_496', '491', '492', '493', '494', '495', '496', '500', 's_500_508', '501', '502', '503', '504', '505', '506', '507', '508', '510', 's_510_519', '511', '512', '513', '514', '515', '516', '517', '518', '519', '520', 'c_520_579', 's_520_529', '521', '522', '523', '524', '525', '526', '527', '528', '529', '530', 's_530_539', '531', '532', '533', '534', '535', '536', '537', '538', '539', '540', 's_540_543', '541', '542', '543', '550', 's_550_553', '551', '552', '553', '555', 's_555_558', '556', '557', '558', '560', 's_560_569', '562', '564', '565', '566', '567', '568', '569', '570', 's_570_579', '571', '572', '573', '574', '575', '576', '577', '578', '579', '580', 'c_580_629', 's_580_589', '581', '582', '583', '584', '585', '586', '587', '588', '589', '590', 's_590_599', '591', '592', '593', '594', '595', '596', '597', '598', '599', '600', 's_600_608', '601', '602', '603', '604', '605', '606', '607', '608', '610', 's_610_612', '611', '612', '614', 's_614_616', '615', '616', '617', 's_617_629', '618', '619', '620', '621', '622', '623', '624', '625', '626', '627', '628', '629', '630', 'c_630_679', 's_630_633', '631', '632', '633', '634', 's_634_639', '635', '636', '637', '638', '639', '640', 's_640_649', '641', '642', '643', '644', '645', '646', '647', '648', '649', '650', 's_650_659', '651', '652', '653', '654', '655', '656', '657', '658', '659', '660', 's_660_669', '661', '662', '663', '664', '665', '666', '667', '668', '669', '670', 's_670_677', '671', '672', '673', '674', '675', '676', '677', '678', 's_678_679', '679', '680', 'c_680_709', 's_680_686', '681', '682', '683', '684', '685', '686', '690', 's_690_698', '691', '692', '693', '694', '695', '696', '697', '698', '700', 's_700_709', '701', '702', '703', '704', '705', '706', '707', '708', '709', '710', 'c_710_739', 's_710_719', '711', '712', '713', '714', '715', '716', '717', '718', '719', '720', 's_720_724', '721', '722', '723', '724', '725', 's_725_729', '726', '727', '728', '729', '730', 's_730_739', '731', '732', '733', '734', '735', '736', '737', '738', '739', '740', 'c_740_759', '741', '742', '743', '744', '745', '746', '747', '748', '749', '750', '751', '752', '753', '754', '755', '756', '757', '758', '759', '760', 'c_760_779', 's_760_763', '761', '762', '763', '764', 's_764_779', '765', '766', '767', '768', '769', '770', '771', '772', '773', '774', '775', '776', '777', '778', '779', '780', 'c_780_799', 's_780_789', '781', '782', '783', '784', '785', '786', '787', '788', '789', '790', 's_790_796', '791', '792', '793', '794', '795', '796', '797', 's_797_799', '798', '799', '800', 'c_800_999', '801', '802', '803', '804', '805', '806', '807', '808', '809', '810', '811', '812', '813', '814', '815', '816', '817', '818', '819', '820', '821', '822', '823', '824', '825', '826', '827', '828', '829', '830', 's_830_839', '831', '832', '833', '834', '835', '836', '837', '838', '839', '840', 's_840_848', '841', '842', '843', '844', '845', '846', '847', '848', '850', 's_850_854', '851', '852', '853', '854', '860', 's_860_869', '861', '862', '863', '864', '865', '866', '867', '868', '869', '870', '871', '872', '873', '874', '875', '876', '877', '878', '879', '880', '881', '882', '883', '884', '885', '886', '887', '890', '891', '892', '893', '894', '895', '896', '897', '900', 's_900_904', '901', '902', '903', '904', '905', 's_905_909', '906', '907', '908', '909', '910', 's_910_919', '911', '912', '913', '914', '915', '916', '917', '918', '919', '920', 's_920_924', '921', '922', '923', '924', '925', 's_925_929', '926', '927', '928', '929', '930', 's_930_939', '931', '932', '933', '934', '935', '936', '937', '938', '939', '940', 's_940_949', '941', '942', '943', '944', '945', '946', '947', '948', '949', '950', 's_950_957', '951', '952', '953', '954', '955', '956', '957', '958', 's_958_959', '959', '960', 's_960_979', '961', '962', '963', '964', '965', '966', '967', '968', '969', '970', '971', '972', '973', '974', '975', '976', '977', '978', '979', '980', 's_980_989', '981', '982', '983', '984', '985', '986', '987', '988', '989', '990', 's_990_995', '991', '992', '993', '994', '995', '996', 's_996_999', '997', '998', '999', 's_290_299', 's_290_294', 's_295_299', 's_800_829', 's_800_804', 's_805_809', 's_810_819', 's_820_829', 's_870_897', 's_870_879', 's_880_887', 's_890_897'))"
      ]
     },
     "execution_count": 46,
     "metadata": {},
     "output_type": "execute_result"
    }
   ],
   "source": [
    "import networkx as nx\n",
    "G = nx.Graph()\n",
    "G.add_edges_from(relations)\n",
    "G.nodes"
   ]
  },
  {
   "cell_type": "code",
   "execution_count": 47,
   "metadata": {
    "ExecuteTime": {
     "end_time": "2020-06-20T11:13:33.895496Z",
     "start_time": "2020-06-20T11:13:33.653400Z"
    }
   },
   "outputs": [
    {
     "data": {
      "image/png": "[encoded data removed]",
      "text/plain": [
       "<Figure size 640x480 with 1 Axes>"
      ]
     },
     "metadata": {},
     "output_type": "display_data"
    }
   ],
   "source": [
    "import collections\n",
    "plt.style.use('classic')\n",
    "degree_sequence = sorted([d for n, d in G.degree()], reverse=True)  # degree sequence\n",
    "# print \"Degree sequence\", degree_sequence\n",
    "degreeCount = collections.Counter(degree_sequence)\n",
    "deg, cnt = zip(*degreeCount.items())\n",
    "\n",
    "fig, ax = plt.subplots()\n",
    "plt.bar(deg, cnt, width=0.80, color='b')\n",
    "plt.title(\"Degree Histogram\")\n",
    "plt.ylabel(\"Count\")\n",
    "plt.xlabel(\"Degree\");"
   ]
  },
  {
   "cell_type": "code",
   "execution_count": 54,
   "metadata": {
    "ExecuteTime": {
     "end_time": "2020-06-20T11:23:43.296725Z",
     "start_time": "2020-06-20T11:23:43.233896Z"
    }
   },
   "outputs": [
    {
     "data": {
      "text/plain": [
       "0.8124787447825227"
      ]
     },
     "execution_count": 54,
     "metadata": {},
     "output_type": "execute_result"
    }
   ],
   "source": [
    "# Clustering coefficient of node 0\n",
    "#print(nx.clustering(G[0]))\n",
    "# Clustering coefficient of all nodes (in a dictionary)\n",
    "clust_coefficients = nx.clustering(G)\n",
    "# Average clustering coefficient\n",
    "ccs = nx.clustering(G)\n",
    "avg_clust = sum(ccs.values()) / len(ccs)\n",
    "avg_clust"
   ]
  },
  {
   "cell_type": "code",
   "execution_count": 65,
   "metadata": {
    "ExecuteTime": {
     "end_time": "2020-06-20T11:46:21.773984Z",
     "start_time": "2020-06-20T11:46:21.763013Z"
    }
   },
   "outputs": [
    {
     "data": {
      "text/plain": [
       "[217, 140, 107, 78, 70, 58, 58, 58, 55, 43, 36, 35, 30, 24, 23, 21, 11]"
      ]
     },
     "execution_count": 65,
     "metadata": {},
     "output_type": "execute_result"
    }
   ],
   "source": [
    "[len(c) for c in sorted(nx.connected_components(G), key=len, reverse=True)]"
   ]
  },
  {
   "cell_type": "code",
   "execution_count": 75,
   "metadata": {
    "ExecuteTime": {
     "end_time": "2020-06-20T11:53:10.508614Z",
     "start_time": "2020-06-20T11:53:10.465727Z"
    }
   },
   "outputs": [
    {
     "data": {
      "text/plain": [
       "<networkx.classes.graph.Graph at 0x1cd3ad63358>"
      ]
     },
     "execution_count": 75,
     "metadata": {},
     "output_type": "execute_result"
    }
   ],
   "source": [
    "G_components = [c for c in nx.connected_components(G)]\n",
    "c = G_components[0]\n",
    "S = [G.subgraph(c).copy() for c in nx.connected_components(G)]\n",
    "S[0]"
   ]
  },
  {
   "cell_type": "code",
   "execution_count": 76,
   "metadata": {
    "ExecuteTime": {
     "end_time": "2020-06-20T11:53:22.937141Z",
     "start_time": "2020-06-20T11:53:22.732692Z"
    }
   },
   "outputs": [],
   "source": [
    "# Betweenness centrality\n",
    "bet_cen = nx.betweenness_centrality(S[0])\n",
    "# Closeness centrality\n",
    "clo_cen = nx.closeness_centrality(S[0])\n",
    "# Eigenvector centrality\n",
    "eig_cen = nx.eigenvector_centrality(S[0])"
   ]
  },
  {
   "cell_type": "code",
   "execution_count": 77,
   "metadata": {
    "ExecuteTime": {
     "end_time": "2020-06-20T11:53:36.858292Z",
     "start_time": "2020-06-20T11:53:36.842329Z"
    }
   },
   "outputs": [
    {
     "data": {
      "text/plain": [
       "{'034': 0.0,\n",
       " '018': 0.0,\n",
       " 's_10_18': 0.0018767594619956208,\n",
       " '048': 0.0,\n",
       " '087': 0.0,\n",
       " 's_60_66': 0.001094776352830779,\n",
       " '116': 0.0,\n",
       " '127': 0.0,\n",
       " '088': 0.0,\n",
       " 's_110_118': 0.0014597018037743718,\n",
       " '065': 0.0,\n",
       " '036': 0.0,\n",
       " '133': 0.0,\n",
       " '131': 0.0,\n",
       " '004': 0.0,\n",
       " '008': 0.0,\n",
       " '093': 0.0,\n",
       " 's_137_139': 0.00015639662183296842,\n",
       " '002': 0.0,\n",
       " '134': 0.0,\n",
       " '128': 0.0,\n",
       " '112': 0.0,\n",
       " '021': 0.0,\n",
       " '013': 0.0,\n",
       " '047': 0.0,\n",
       " '053': 0.0,\n",
       " '085': 0.0,\n",
       " '126': 0.0,\n",
       " '024': 0.0,\n",
       " '050': 0.0,\n",
       " '061': 0.0,\n",
       " 's_45_49': 0.0005213220727765613,\n",
       " '035': 0.0,\n",
       " '096': 0.0,\n",
       " '007': 0.0,\n",
       " '111': 0.0,\n",
       " '138': 0.0,\n",
       " '095': 0.0,\n",
       " 's_130_136': 0.001094776352830779,\n",
       " '137': 0.0,\n",
       " '082': 0.0,\n",
       " '092': 0.0,\n",
       " '006': 0.0,\n",
       " '078': 0.0,\n",
       " '033': 0.0,\n",
       " '125': 0.0,\n",
       " '135': 0.0,\n",
       " '052': 0.0,\n",
       " '062': 0.0,\n",
       " '063': 0.0,\n",
       " '066': 0.0,\n",
       " '075': 0.0,\n",
       " '058': 0.0,\n",
       " '015': 0.0,\n",
       " '102': 0.0,\n",
       " '030': 0.0,\n",
       " '025': 0.0,\n",
       " '077': 0.0,\n",
       " 's_100_104': 0.0005213220727765613,\n",
       " '012': 0.0,\n",
       " '037': 0.0,\n",
       " '026': 0.0,\n",
       " '076': 0.0,\n",
       " '080': 0.0,\n",
       " 's_80_88': 0.0018767594619956208,\n",
       " '016': 0.0,\n",
       " '005': 0.0,\n",
       " '114': 0.0,\n",
       " 'c_1_139': 0.9624126785528099,\n",
       " '124': 0.0,\n",
       " '130': 0.0,\n",
       " '046': 0.0,\n",
       " '010': 0.0,\n",
       " '003': 0.0,\n",
       " '115': 0.0,\n",
       " '129': 0.0,\n",
       " '094': 0.0,\n",
       " '027': 0.0,\n",
       " 's_70_79': 0.0023459493274945262,\n",
       " '117': 0.0,\n",
       " 's_1_9': 0.0018767594619956208,\n",
       " '057': 0.0,\n",
       " '017': 0.0,\n",
       " '064': 0.0,\n",
       " 's_42_42': 0.0,\n",
       " '011': 0.0,\n",
       " '136': 0.0,\n",
       " '001': 0.0,\n",
       " '101': 0.0,\n",
       " 's_120_129': 0.0023459493274945262,\n",
       " '084': 0.0,\n",
       " '122': 0.0,\n",
       " '118': 0.0,\n",
       " '023': 0.0,\n",
       " '081': 0.0,\n",
       " '123': 0.0,\n",
       " '022': 0.0,\n",
       " '121': 0.0,\n",
       " '009': 0.0,\n",
       " 's_20_27': 0.0014597018037743718,\n",
       " '056': 0.0,\n",
       " '090': 0.0,\n",
       " '031': 0.0,\n",
       " '049': 0.0,\n",
       " '051': 0.0,\n",
       " '079': 0.0,\n",
       " '038': 0.0,\n",
       " '070': 0.0,\n",
       " '055': 0.0,\n",
       " 's_30_41': 0.0034407256803253047,\n",
       " '014': 0.0,\n",
       " '040': 0.0,\n",
       " '100': 0.0,\n",
       " '059': 0.0,\n",
       " '098': 0.0,\n",
       " '099': 0.0,\n",
       " '083': 0.0,\n",
       " '132': 0.0,\n",
       " '054': 0.0,\n",
       " '041': 0.0,\n",
       " '139': 0.0,\n",
       " '074': 0.0,\n",
       " '020': 0.0,\n",
       " '091': 0.0,\n",
       " '103': 0.0,\n",
       " '104': 0.0,\n",
       " '042': 0.0,\n",
       " '039': 0.0,\n",
       " '097': 0.0,\n",
       " '045': 0.0,\n",
       " '060': 0.0,\n",
       " '110': 0.0,\n",
       " '086': 0.0,\n",
       " '071': 0.0,\n",
       " 's_50_59': 0.0023459493274945262,\n",
       " '032': 0.0,\n",
       " 's_90_99': 0.0023459493274945262,\n",
       " '120': 0.0,\n",
       " '072': 0.0,\n",
       " '073': 0.0}"
      ]
     },
     "execution_count": 77,
     "metadata": {},
     "output_type": "execute_result"
    },
    {
     "data": {
      "text/plain": [
       "{'034': 0.5036231884057971,\n",
       " '018': 0.5036231884057971,\n",
       " 's_10_18': 0.5186567164179104,\n",
       " '048': 0.5036231884057971,\n",
       " '087': 0.5036231884057971,\n",
       " 's_60_66': 0.5148148148148148,\n",
       " '116': 0.5036231884057971,\n",
       " '127': 0.5036231884057971,\n",
       " '088': 0.5036231884057971,\n",
       " 's_110_118': 0.516728624535316,\n",
       " '065': 0.5036231884057971,\n",
       " '036': 0.5036231884057971,\n",
       " '133': 0.5036231884057971,\n",
       " '131': 0.5036231884057971,\n",
       " '004': 0.5036231884057971,\n",
       " '008': 0.5036231884057971,\n",
       " '093': 0.5036231884057971,\n",
       " 's_137_139': 0.5072992700729927,\n",
       " '002': 0.5036231884057971,\n",
       " '134': 0.5036231884057971,\n",
       " '128': 0.5036231884057971,\n",
       " '112': 0.5036231884057971,\n",
       " '021': 0.5036231884057971,\n",
       " '013': 0.5036231884057971,\n",
       " '047': 0.5036231884057971,\n",
       " '053': 0.5036231884057971,\n",
       " '085': 0.5036231884057971,\n",
       " '126': 0.5036231884057971,\n",
       " '024': 0.5036231884057971,\n",
       " '050': 0.5036231884057971,\n",
       " '061': 0.5036231884057971,\n",
       " 's_45_49': 0.5110294117647058,\n",
       " '035': 0.5036231884057971,\n",
       " '096': 0.5036231884057971,\n",
       " '007': 0.5036231884057971,\n",
       " '111': 0.5036231884057971,\n",
       " '138': 0.5036231884057971,\n",
       " '095': 0.5036231884057971,\n",
       " 's_130_136': 0.5148148148148148,\n",
       " '137': 0.5036231884057971,\n",
       " '082': 0.5036231884057971,\n",
       " '092': 0.5036231884057971,\n",
       " '006': 0.5036231884057971,\n",
       " '078': 0.5036231884057971,\n",
       " '033': 0.5036231884057971,\n",
       " '125': 0.5036231884057971,\n",
       " '135': 0.5036231884057971,\n",
       " '052': 0.5036231884057971,\n",
       " '062': 0.5036231884057971,\n",
       " '063': 0.5036231884057971,\n",
       " '066': 0.5036231884057971,\n",
       " '075': 0.5036231884057971,\n",
       " '058': 0.5036231884057971,\n",
       " '015': 0.5036231884057971,\n",
       " '102': 0.5036231884057971,\n",
       " '030': 0.5036231884057971,\n",
       " '025': 0.5036231884057971,\n",
       " '077': 0.5036231884057971,\n",
       " 's_100_104': 0.5110294117647058,\n",
       " '012': 0.5036231884057971,\n",
       " '037': 0.5036231884057971,\n",
       " '026': 0.5036231884057971,\n",
       " '076': 0.5036231884057971,\n",
       " '080': 0.5036231884057971,\n",
       " 's_80_88': 0.5186567164179104,\n",
       " '016': 0.5036231884057971,\n",
       " '005': 0.5036231884057971,\n",
       " '114': 0.5036231884057971,\n",
       " 'c_1_139': 1.0,\n",
       " '124': 0.5036231884057971,\n",
       " '130': 0.5036231884057971,\n",
       " '046': 0.5036231884057971,\n",
       " '010': 0.5036231884057971,\n",
       " '003': 0.5036231884057971,\n",
       " '115': 0.5036231884057971,\n",
       " '129': 0.5036231884057971,\n",
       " '094': 0.5036231884057971,\n",
       " '027': 0.5036231884057971,\n",
       " 's_70_79': 0.5205992509363296,\n",
       " '117': 0.5036231884057971,\n",
       " 's_1_9': 0.5186567164179104,\n",
       " '057': 0.5036231884057971,\n",
       " '017': 0.5036231884057971,\n",
       " '064': 0.5036231884057971,\n",
       " 's_42_42': 0.5036231884057971,\n",
       " '011': 0.5036231884057971,\n",
       " '136': 0.5036231884057971,\n",
       " '001': 0.5036231884057971,\n",
       " '101': 0.5036231884057971,\n",
       " 's_120_129': 0.5205992509363296,\n",
       " '084': 0.5036231884057971,\n",
       " '122': 0.5036231884057971,\n",
       " '118': 0.5036231884057971,\n",
       " '023': 0.5036231884057971,\n",
       " '081': 0.5036231884057971,\n",
       " '123': 0.5036231884057971,\n",
       " '022': 0.5036231884057971,\n",
       " '121': 0.5036231884057971,\n",
       " '009': 0.5036231884057971,\n",
       " 's_20_27': 0.516728624535316,\n",
       " '056': 0.5036231884057971,\n",
       " '090': 0.5036231884057971,\n",
       " '031': 0.5036231884057971,\n",
       " '049': 0.5036231884057971,\n",
       " '051': 0.5036231884057971,\n",
       " '079': 0.5036231884057971,\n",
       " '038': 0.5036231884057971,\n",
       " '070': 0.5036231884057971,\n",
       " '055': 0.5036231884057971,\n",
       " 's_30_41': 0.5245283018867924,\n",
       " '014': 0.5036231884057971,\n",
       " '040': 0.5036231884057971,\n",
       " '100': 0.5036231884057971,\n",
       " '059': 0.5036231884057971,\n",
       " '098': 0.5036231884057971,\n",
       " '099': 0.5036231884057971,\n",
       " '083': 0.5036231884057971,\n",
       " '132': 0.5036231884057971,\n",
       " '054': 0.5036231884057971,\n",
       " '041': 0.5036231884057971,\n",
       " '139': 0.5036231884057971,\n",
       " '074': 0.5036231884057971,\n",
       " '020': 0.5036231884057971,\n",
       " '091': 0.5036231884057971,\n",
       " '103': 0.5036231884057971,\n",
       " '104': 0.5036231884057971,\n",
       " '042': 0.5036231884057971,\n",
       " '039': 0.5036231884057971,\n",
       " '097': 0.5036231884057971,\n",
       " '045': 0.5036231884057971,\n",
       " '060': 0.5036231884057971,\n",
       " '110': 0.5036231884057971,\n",
       " '086': 0.5036231884057971,\n",
       " '071': 0.5036231884057971,\n",
       " 's_50_59': 0.5205992509363296,\n",
       " '032': 0.5036231884057971,\n",
       " 's_90_99': 0.5205992509363296,\n",
       " '120': 0.5036231884057971,\n",
       " '072': 0.5036231884057971,\n",
       " '073': 0.5036231884057971}"
      ]
     },
     "execution_count": 77,
     "metadata": {},
     "output_type": "execute_result"
    },
    {
     "data": {
      "text/plain": [
       "{'034': 0.06021109590893399,\n",
       " '018': 0.059065685134141684,\n",
       " 's_10_18': 0.0930321445936598,\n",
       " '048': 0.05760458327743527,\n",
       " '087': 0.059065685134141684,\n",
       " 's_60_66': 0.0834818013178196,\n",
       " '116': 0.05869350472284087,\n",
       " '127': 0.05944261572467123,\n",
       " '088': 0.059065685134141684,\n",
       " 's_110_118': 0.08822688413889967,\n",
       " '065': 0.058325985258411796,\n",
       " '036': 0.06021109590893399,\n",
       " '133': 0.058325985258411796,\n",
       " '131': 0.058325985258411796,\n",
       " '004': 0.059065685134141684,\n",
       " '008': 0.059065685134141684,\n",
       " '093': 0.05944261572467123,\n",
       " 's_137_139': 0.0650811901766328,\n",
       " '002': 0.059065685134141684,\n",
       " '134': 0.058325985258411796,\n",
       " '128': 0.05944261572467123,\n",
       " '112': 0.05869350472284087,\n",
       " '021': 0.05869350472284087,\n",
       " '013': 0.059065685134141684,\n",
       " '047': 0.05760458327743527,\n",
       " '053': 0.05944261572467123,\n",
       " '085': 0.059065685134141684,\n",
       " '126': 0.05944261572467123,\n",
       " '024': 0.05869350472284087,\n",
       " '050': 0.05944261572467123,\n",
       " '061': 0.058325985258411796,\n",
       " 's_45_49': 0.07416770277815915,\n",
       " '035': 0.06021109590893399,\n",
       " '096': 0.05944261572467123,\n",
       " '007': 0.059065685134141684,\n",
       " '111': 0.05869350472284087,\n",
       " '138': 0.056900808535255885,\n",
       " '095': 0.05944261572467123,\n",
       " 's_130_136': 0.0834818013178196,\n",
       " '137': 0.056900808535255885,\n",
       " '082': 0.059065685134141684,\n",
       " '092': 0.05944261572467123,\n",
       " '006': 0.059065685134141684,\n",
       " '078': 0.05944261572467123,\n",
       " '033': 0.06021109590893399,\n",
       " '125': 0.05944261572467123,\n",
       " '135': 0.058325985258411796,\n",
       " '052': 0.05944261572467123,\n",
       " '062': 0.058325985258411796,\n",
       " '063': 0.058325985258411796,\n",
       " '066': 0.058325985258411796,\n",
       " '075': 0.05944261572467123,\n",
       " '058': 0.05944261572467123,\n",
       " '015': 0.059065685134141684,\n",
       " '102': 0.05760458327743527,\n",
       " '030': 0.06021109590893399,\n",
       " '025': 0.05869350472284087,\n",
       " '077': 0.05944261572467123,\n",
       " 's_100_104': 0.07416770277815915,\n",
       " '012': 0.059065685134141684,\n",
       " '037': 0.06021109590893399,\n",
       " '026': 0.05869350472284087,\n",
       " '076': 0.05944261572467123,\n",
       " '080': 0.059065685134141684,\n",
       " 's_80_88': 0.0930321445936598,\n",
       " '016': 0.059065685134141684,\n",
       " '005': 0.059065685134141684,\n",
       " '114': 0.05869350472284087,\n",
       " 'c_1_139': 0.6695743712927668,\n",
       " '124': 0.05944261572467123,\n",
       " '130': 0.058325985258411796,\n",
       " '046': 0.05760458327743527,\n",
       " '010': 0.059065685134141684,\n",
       " '003': 0.059065685134141684,\n",
       " '115': 0.05869350472284087,\n",
       " '129': 0.05944261572467123,\n",
       " '094': 0.05944261572467123,\n",
       " '027': 0.05869350472284087,\n",
       " 's_70_79': 0.09789873475487144,\n",
       " '117': 0.05869350472284087,\n",
       " 's_1_9': 0.0930321445936598,\n",
       " '057': 0.05944261572467123,\n",
       " '017': 0.059065685134141684,\n",
       " '064': 0.058325985258411796,\n",
       " 's_42_42': 0.05621402275495657,\n",
       " '011': 0.059065685134141684,\n",
       " '136': 0.058325985258411796,\n",
       " '001': 0.059065685134141684,\n",
       " '101': 0.05760458327743527,\n",
       " 's_120_129': 0.09789873475487144,\n",
       " '084': 0.059065685134141684,\n",
       " '122': 0.05944261572467123,\n",
       " '118': 0.05869350472284087,\n",
       " '023': 0.05869350472284087,\n",
       " '081': 0.059065685134141684,\n",
       " '123': 0.05944261572467123,\n",
       " '022': 0.05869350472284087,\n",
       " '121': 0.05944261572467123,\n",
       " '009': 0.059065685134141684,\n",
       " 's_20_27': 0.08822688413889967,\n",
       " '056': 0.05944261572467123,\n",
       " '090': 0.05944261572467123,\n",
       " '031': 0.06021109590893399,\n",
       " '049': 0.05760458327743527,\n",
       " '051': 0.05944261572467123,\n",
       " '079': 0.05944261572467123,\n",
       " '038': 0.06021109590893399,\n",
       " '070': 0.05944261572467123,\n",
       " '055': 0.05944261572467123,\n",
       " 's_30_41': 0.10782066142777583,\n",
       " '014': 0.059065685134141684,\n",
       " '040': 0.06021109590893399,\n",
       " '100': 0.05760458327743527,\n",
       " '059': 0.05944261572467123,\n",
       " '098': 0.05944261572467123,\n",
       " '099': 0.05944261572467123,\n",
       " '083': 0.059065685134141684,\n",
       " '132': 0.058325985258411796,\n",
       " '054': 0.05944261572467123,\n",
       " '041': 0.06021109590893399,\n",
       " '139': 0.056900808535255885,\n",
       " '074': 0.05944261572467123,\n",
       " '020': 0.05869350472284087,\n",
       " '091': 0.05944261572467123,\n",
       " '103': 0.05760458327743527,\n",
       " '104': 0.05760458327743527,\n",
       " '042': 0.05621402275495657,\n",
       " '039': 0.06021109590893399,\n",
       " '097': 0.05944261572467123,\n",
       " '045': 0.05760458327743527,\n",
       " '060': 0.058325985258411796,\n",
       " '110': 0.05869350472284087,\n",
       " '086': 0.059065685134141684,\n",
       " '071': 0.05944261572467123,\n",
       " 's_50_59': 0.09789873475487144,\n",
       " '032': 0.06021109590893399,\n",
       " 's_90_99': 0.09789873475487144,\n",
       " '120': 0.05944261572467123,\n",
       " '072': 0.05944261572467123,\n",
       " '073': 0.05944261572467123}"
      ]
     },
     "execution_count": 77,
     "metadata": {},
     "output_type": "execute_result"
    }
   ],
   "source": [
    "bet_cen\n",
    "clo_cen\n",
    "eig_cen"
   ]
  },
  {
   "cell_type": "code",
   "execution_count": 18,
   "metadata": {
    "ExecuteTime": {
     "end_time": "2020-06-20T08:03:56.625533Z",
     "start_time": "2020-06-20T08:03:56.433635Z"
    }
   },
   "outputs": [
    {
     "data": {
      "text/html": [
       "<div>\n",
       "<style scoped>\n",
       "    .dataframe tbody tr th:only-of-type {\n",
       "        vertical-align: middle;\n",
       "    }\n",
       "\n",
       "    .dataframe tbody tr th {\n",
       "        vertical-align: top;\n",
       "    }\n",
       "\n",
       "    .dataframe thead th {\n",
       "        text-align: right;\n",
       "    }\n",
       "</style>\n",
       "<table border=\"1\" class=\"dataframe\">\n",
       "  <thead>\n",
       "    <tr style=\"text-align: right;\">\n",
       "      <th></th>\n",
       "      <th>0</th>\n",
       "      <th>1</th>\n",
       "    </tr>\n",
       "  </thead>\n",
       "  <tbody>\n",
       "    <tr>\n",
       "      <th>0</th>\n",
       "      <td>001</td>\n",
       "      <td>c_1_139</td>\n",
       "    </tr>\n",
       "    <tr>\n",
       "      <th>1</th>\n",
       "      <td>001</td>\n",
       "      <td>s_1_9</td>\n",
       "    </tr>\n",
       "    <tr>\n",
       "      <th>2</th>\n",
       "      <td>002</td>\n",
       "      <td>c_1_139</td>\n",
       "    </tr>\n",
       "    <tr>\n",
       "      <th>3</th>\n",
       "      <td>002</td>\n",
       "      <td>s_1_9</td>\n",
       "    </tr>\n",
       "    <tr>\n",
       "      <th>4</th>\n",
       "      <td>003</td>\n",
       "      <td>c_1_139</td>\n",
       "    </tr>\n",
       "    <tr>\n",
       "      <th>...</th>\n",
       "      <td>...</td>\n",
       "      <td>...</td>\n",
       "    </tr>\n",
       "    <tr>\n",
       "      <th>1891</th>\n",
       "      <td>c_710_739</td>\n",
       "      <td>center</td>\n",
       "    </tr>\n",
       "    <tr>\n",
       "      <th>1892</th>\n",
       "      <td>c_740_759</td>\n",
       "      <td>center</td>\n",
       "    </tr>\n",
       "    <tr>\n",
       "      <th>1893</th>\n",
       "      <td>c_760_779</td>\n",
       "      <td>center</td>\n",
       "    </tr>\n",
       "    <tr>\n",
       "      <th>1894</th>\n",
       "      <td>c_780_799</td>\n",
       "      <td>center</td>\n",
       "    </tr>\n",
       "    <tr>\n",
       "      <th>1895</th>\n",
       "      <td>c_800_999</td>\n",
       "      <td>center</td>\n",
       "    </tr>\n",
       "  </tbody>\n",
       "</table>\n",
       "<p>1896 rows × 2 columns</p>\n",
       "</div>"
      ],
      "text/plain": [
       "              0        1\n",
       "0           001  c_1_139\n",
       "1           001    s_1_9\n",
       "2           002  c_1_139\n",
       "3           002    s_1_9\n",
       "4           003  c_1_139\n",
       "...         ...      ...\n",
       "1891  c_710_739   center\n",
       "1892  c_740_759   center\n",
       "1893  c_760_779   center\n",
       "1894  c_780_799   center\n",
       "1895  c_800_999   center\n",
       "\n",
       "[1896 rows x 2 columns]"
      ]
     },
     "execution_count": 18,
     "metadata": {},
     "output_type": "execute_result"
    }
   ],
   "source": [
    "pd.read_csv('data/icd_data/icd.tsv', sep='\\t', header=None, cols=[])"
   ]
  }
 ],
 "metadata": {
  "kernelspec": {
   "display_name": "Python 3",
   "language": "python",
   "name": "python3"
  },
  "language_info": {
   "codemirror_mode": {
    "name": "ipython",
    "version": 3
   },
   "file_extension": ".py",
   "mimetype": "text/x-python",
   "name": "python",
   "nbconvert_exporter": "python",
   "pygments_lexer": "ipython3",
   "version": "3.7.1"
  },
  "latex_envs": {
   "LaTeX_envs_menu_present": true,
   "autoclose": false,
   "autocomplete": true,
   "bibliofile": "biblio.bib",
   "cite_by": "apalike",
   "current_citInitial": 1,
   "eqLabelWithNumbers": false,
   "eqNumInitial": 1,
   "hotkeys": {
    "equation": "Ctrl-E",
    "itemize": "Ctrl-I"
   },
   "labels_anchors": false,
   "latex_user_defs": false,
   "report_style_numbering": false,
   "user_envs_cfg": false
  },
  "nbTranslate": {
   "displayLangs": [
    "*"
   ],
   "hotkey": "alt-t",
   "langInMainMenu": true,
   "sourceLang": "en",
   "targetLang": "fr",
   "useGoogleTranslate": true
  },
  "varInspector": {
   "cols": {
    "lenName": 16,
    "lenType": 16,
    "lenVar": 40
   },
   "kernels_config": {
    "python": {
     "delete_cmd_postfix": "",
     "delete_cmd_prefix": "del ",
     "library": "var_list.py",
     "varRefreshCmd": "print(var_dic_list())"
    },
    "r": {
     "delete_cmd_postfix": ") ",
     "delete_cmd_prefix": "rm(",
     "library": "var_list.r",
     "varRefreshCmd": "cat(var_dic_list()) "
    }
   },
   "types_to_exclude": [
    "module",
    "function",
    "builtin_function_or_method",
    "instance",
    "_Feature"
   ],
   "window_display": false
  }
 },
 "nbformat": 4,
 "nbformat_minor": 2
}
