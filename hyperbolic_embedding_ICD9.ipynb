{
 "cells": [
  {
   "cell_type": "markdown",
   "metadata": {},
   "source": [
    "# Embedding ICD-9 Hierarchies \n",
    "`Drew Wilimitis`"
   ]
  },
  {
   "cell_type": "markdown",
   "metadata": {},
   "source": [
    "### Load libraries and helper functions"
   ]
  },
  {
   "cell_type": "code",
   "execution_count": 22,
   "metadata": {
    "ExecuteTime": {
     "end_time": "2020-06-17T03:11:26.586783Z",
     "start_time": "2020-06-17T03:11:26.571824Z"
    }
   },
   "outputs": [],
   "source": [
    "# import libraries\n",
    "import numpy as np\n",
    "import pandas as pd\n",
    "import matplotlib.pyplot as plt\n",
    "import seaborn as sns\n",
    "plt.style.use('seaborn')\n",
    "%matplotlib inline\n",
    "import networkx as nx\n",
    "import sys\n",
    "import os\n",
    "\n",
    "# import modules within repository\n",
    "#my_path = 'C:\\\\Users\\\\dreww\\\\Desktop\\\\hyperbolic-learning\\\\utils' # path to utils folder\n",
    "#sys.path.append(my_path)\n",
    "#from utils import *\n",
    "#from embed import train_embeddings, load_embeddings, evaluate_model\n",
    "#from hkmeans import HyperbolicKMeans, plot_clusters\n",
    "\n",
    "# ignore warnings\n",
    "import warnings\n",
    "warnings.filterwarnings('ignore');\n",
    "\n",
    "# display multiple outputs within a cell\n",
    "from IPython.core.interactiveshell import InteractiveShell\n",
    "InteractiveShell.ast_node_interactivity = \"all\";"
   ]
  },
  {
   "cell_type": "markdown",
   "metadata": {},
   "source": [
    "### Format output given by R script"
   ]
  },
  {
   "cell_type": "code",
   "execution_count": 26,
   "metadata": {
    "ExecuteTime": {
     "end_time": "2020-06-17T03:20:15.733678Z",
     "start_time": "2020-06-17T03:20:15.401540Z"
    }
   },
   "outputs": [],
   "source": [
    "all_codes = pd.read_csv('data/tmp/allcodes.csv', sep=\"|\", encoding='latin1', false_values=['\"'])\n",
    "majors = pd.read_csv('data/tmp/majors.csv', sep=\"|\")\n",
    "chapters = pd.read_csv('data/tmp/chapters.csv', sep=\"|\").transpose()\n",
    "sub_chapters = pd.read_csv('./data/tmp/subchapters.csv', sep=\"|\").transpose()\n",
    "\n",
    "df = pd.DataFrame(columns=['parent', 'child'])\n",
    "# print(all_codes.head(3))\n",
    "\n",
    "# handle chapters\n",
    "chapters = chapters.reset_index()\n",
    "chapters.columns = ['name', 'start', 'end']\n",
    "chapters['range'] = 'c_' + chapters['start'].map(str) + '_' + chapters['end'].map(str)\n",
    "\n",
    "chap_name_dict = dict(zip(chapters['name'], chapters['range']))\n",
    "chap_range_dict = dict(zip(chapters['range'], chapters['name']))\n",
    "\n",
    "sub_chapters = sub_chapters.reset_index()\n",
    "sub_chapters.columns = ['name', 'start', 'end']\n",
    "sub_chapters['range'] = 's_' + sub_chapters['start'].map(str) + '_' + sub_chapters['end'].map(str)\n",
    "\n",
    "subchap_name_dict = dict(zip(sub_chapters['name'], sub_chapters['range']))\n",
    "subchap_range_dict = dict(zip(sub_chapters['range'], sub_chapters['name']))"
   ]
  }
 ],
 "metadata": {
  "kernelspec": {
   "display_name": "Python 3",
   "language": "python",
   "name": "python3"
  },
  "language_info": {
   "codemirror_mode": {
    "name": "ipython",
    "version": 3
   },
   "file_extension": ".py",
   "mimetype": "text/x-python",
   "name": "python",
   "nbconvert_exporter": "python",
   "pygments_lexer": "ipython3",
   "version": "3.7.1"
  },
  "latex_envs": {
   "LaTeX_envs_menu_present": true,
   "autoclose": false,
   "autocomplete": true,
   "bibliofile": "biblio.bib",
   "cite_by": "apalike",
   "current_citInitial": 1,
   "eqLabelWithNumbers": false,
   "eqNumInitial": 1,
   "hotkeys": {
    "equation": "Ctrl-E",
    "itemize": "Ctrl-I"
   },
   "labels_anchors": false,
   "latex_user_defs": false,
   "report_style_numbering": false,
   "user_envs_cfg": false
  },
  "nbTranslate": {
   "displayLangs": [
    "*"
   ],
   "hotkey": "alt-t",
   "langInMainMenu": true,
   "sourceLang": "en",
   "targetLang": "fr",
   "useGoogleTranslate": true
  },
  "varInspector": {
   "cols": {
    "lenName": 16,
    "lenType": 16,
    "lenVar": 40
   },
   "kernels_config": {
    "python": {
     "delete_cmd_postfix": "",
     "delete_cmd_prefix": "del ",
     "library": "var_list.py",
     "varRefreshCmd": "print(var_dic_list())"
    },
    "r": {
     "delete_cmd_postfix": ") ",
     "delete_cmd_prefix": "rm(",
     "library": "var_list.r",
     "varRefreshCmd": "cat(var_dic_list()) "
    }
   },
   "types_to_exclude": [
    "module",
    "function",
    "builtin_function_or_method",
    "instance",
    "_Feature"
   ],
   "window_display": false
  }
 },
 "nbformat": 4,
 "nbformat_minor": 2
}
