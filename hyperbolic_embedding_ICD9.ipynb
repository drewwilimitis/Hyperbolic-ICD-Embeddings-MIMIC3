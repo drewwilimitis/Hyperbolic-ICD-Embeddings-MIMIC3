{
 "cells": [
  {
   "cell_type": "markdown",
   "metadata": {},
   "source": [
    "# Hyperbolic K-Means Clustering\n",
    "`Drew Wilimitis`"
   ]
  },
  {
   "cell_type": "markdown",
   "metadata": {},
   "source": [
    "In this notebook, I apply hyperbolic k-means clustering to network data embedded in the Poincaré disk. To generate the embeddings, I use the poincare model provided by the `gensim` library. <br>\n",
    "\n",
    "If class labels are also known for these networks datasets, a modified approach is used to perform supervised learning. K-means clustering is applied to a training set to partition the embedding space by ground truth labels, and then predictions are made on a separate test set by assigning the class label corresponding to the nearest centroid.   \n",
    "<br>\n",
    "\n",
    "**Note:** the poincare model embeds **unweighted**, **undirected** graphs."
   ]
  },
  {
   "cell_type": "markdown",
   "metadata": {},
   "source": [
    "### Algorithm Outline\n",
    "\n",
    "Given data in the Poincare disk $x_1, \\ldots , x_N \\in \\mathcal{B}^{d}$, partition the $N$ observations into k sets denoted by $\\mathbf{S}=\\left\\{S_{1}, S_{2}, \\ldots, S_{k}\\right\\}$, where we have $k$ centroids or means $\\left\\{\\boldsymbol{m}_{i}^{(t)}\\right\\}_{i=1}^{k}$ at each iteration $t$. <br>\n",
    "<br>\n",
    "The basic steps in Hyperbolic k-means are: <br>\n",
    "1. **Initialization step**: initialize k random centroids $\\left\\{\\boldsymbol{m}_{i}^{(t)}\\right\\}_{i=1}^{k} \\in \\mathcal{B}^{d}$<br>\n",
    "2. **Assignment step**: assign each $x_p$ to nearest centroid with smallest poincare distance<br>\n",
    "3. **Project to H**: project to hyperboloid model<br>\n",
    "4. **Update step**: calculate new means with optimization in Hyperboloid model <br>\n",
    "5. **Project back to Poincare disk**: map back into poincare disk model\n",
    "6. **Repeat steps 2-5 until stopping criteria** <br>\n",
    "7. **Return:** cluster labels for all $x_i$ and cluster means $\\left\\{\\boldsymbol{m}_{i}\\right\\}_{i=1}^{k}$"
   ]
  },
  {
   "cell_type": "markdown",
   "metadata": {},
   "source": [
    "### Load libraries and helper functions"
   ]
  },
  {
   "cell_type": "code",
   "execution_count": 1,
   "metadata": {
    "ExecuteTime": {
     "end_time": "2019-12-28T01:51:32.651865Z",
     "start_time": "2019-12-28T01:51:30.554622Z"
    }
   },
   "outputs": [],
   "source": [
    "# import libraries\n",
    "import numpy as np\n",
    "import pandas as pd\n",
    "import matplotlib.pyplot as plt\n",
    "import seaborn as sns\n",
    "plt.style.use('seaborn')\n",
    "%matplotlib inline\n",
    "import networkx as nx\n",
    "import sys\n",
    "import os\n",
    "\n",
    "# import modules within repository\n",
    "my_path = 'C:\\\\Users\\\\dreww\\\\Desktop\\\\hyperbolic-learning\\\\utils' # path to utils folder\n",
    "sys.path.append(my_path)\n",
    "from utils import *\n",
    "from embed import train_embeddings, load_embeddings, evaluate_model\n",
    "from hkmeans import HyperbolicKMeans, plot_clusters\n",
    "\n",
    "# ignore warnings\n",
    "import warnings\n",
    "warnings.filterwarnings('ignore');\n",
    "\n",
    "# display multiple outputs within a cell\n",
    "from IPython.core.interactiveshell import InteractiveShell\n",
    "InteractiveShell.ast_node_interactivity = \"all\";"
   ]
  },
  {
   "cell_type": "code",
   "execution_count": null,
   "metadata": {},
   "outputs": [],
   "source": []
  }
 ],
 "metadata": {
  "kernelspec": {
   "display_name": "Python 3",
   "language": "python",
   "name": "python3"
  },
  "language_info": {
   "codemirror_mode": {
    "name": "ipython",
    "version": 3
   },
   "file_extension": ".py",
   "mimetype": "text/x-python",
   "name": "python",
   "nbconvert_exporter": "python",
   "pygments_lexer": "ipython3",
   "version": "3.7.1"
  },
  "latex_envs": {
   "LaTeX_envs_menu_present": true,
   "autoclose": false,
   "autocomplete": true,
   "bibliofile": "biblio.bib",
   "cite_by": "apalike",
   "current_citInitial": 1,
   "eqLabelWithNumbers": false,
   "eqNumInitial": 1,
   "hotkeys": {
    "equation": "Ctrl-E",
    "itemize": "Ctrl-I"
   },
   "labels_anchors": false,
   "latex_user_defs": false,
   "report_style_numbering": false,
   "user_envs_cfg": false
  },
  "nbTranslate": {
   "displayLangs": [
    "*"
   ],
   "hotkey": "alt-t",
   "langInMainMenu": true,
   "sourceLang": "en",
   "targetLang": "fr",
   "useGoogleTranslate": true
  },
  "varInspector": {
   "cols": {
    "lenName": 16,
    "lenType": 16,
    "lenVar": 40
   },
   "kernels_config": {
    "python": {
     "delete_cmd_postfix": "",
     "delete_cmd_prefix": "del ",
     "library": "var_list.py",
     "varRefreshCmd": "print(var_dic_list())"
    },
    "r": {
     "delete_cmd_postfix": ") ",
     "delete_cmd_prefix": "rm(",
     "library": "var_list.r",
     "varRefreshCmd": "cat(var_dic_list()) "
    }
   },
   "types_to_exclude": [
    "module",
    "function",
    "builtin_function_or_method",
    "instance",
    "_Feature"
   ],
   "window_display": false
  }
 },
 "nbformat": 4,
 "nbformat_minor": 2
}
