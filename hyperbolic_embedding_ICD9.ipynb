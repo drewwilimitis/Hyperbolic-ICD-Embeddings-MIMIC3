{
 "cells": [
  {
   "cell_type": "markdown",
   "metadata": {},
   "source": [
    "# Hyperbolic Embedding of ICD-9 Mappings \n",
    "<br>\n",
    "`Drew Wilimitis`\n"
   ]
  },
  {
   "cell_type": "markdown",
   "metadata": {},
   "source": [
    "## Writing/Research Project Outline\n",
    "___"
   ]
  },
  {
   "cell_type": "markdown",
   "metadata": {},
   "source": [
    "### Abstract \n",
    "\n",
    "As discussed in a recent survey of representation learning for Electronic Health Records, there is currently a vast, disparate set of clinical data sources that reflect a multi-layered, incredibly complex network of interactions occuring between social actors (patients and clinicians), but also between medical ontologies and the growing promise in collaboration with modern genetics."
   ]
  },
  {
   "cell_type": "markdown",
   "metadata": {},
   "source": [
    "### Introduction"
   ]
  },
  {
   "cell_type": "markdown",
   "metadata": {},
   "source": [
    "This problem of representation learning challenges the progression of biomedical informatics and clinical science not only in the potential to build less accurate predictive models, but also to potentially erode any human interpretation or explainability of these algorithms. Given that many SOTA methods for representation learning are highly sophisticated deep-learning algorithms, and also because these SOTA methods involve immensely expensive transfer learning, converging to potentially hundreds of millions of parameters like BERT, despite its undeniable success in NLP tasks."
   ]
  },
  {
   "cell_type": "markdown",
   "metadata": {},
   "source": [
    "Weng, Wei-Hung and Peter Szolovits. “Representation Learning for Electronic Health Records.” ArXiv abs/1909.09248 (2019): n. pag."
   ]
  },
  {
   "cell_type": "markdown",
   "metadata": {},
   "source": [
    "Learning Contextual Hierarchical Structure of Medical Concepts with PoincairéEmbeddings to Clarify PhenotypesBrett K. Beaulieu-Jones, Isaac S. Kohane and Andrew L. Beam†Department of Biomedical Informatics, Harvard Medical School"
   ]
  },
  {
   "cell_type": "markdown",
   "metadata": {},
   "source": [
    "### Brief Background: Hyperbolic Geometry"
   ]
  },
  {
   "cell_type": "markdown",
   "metadata": {},
   "source": [
    "### Method 1: Apply the Poincare Embedding Algorithm"
   ]
  },
  {
   "cell_type": "markdown",
   "metadata": {},
   "source": [
    "### Method 2: Apply Lorentz Embedding"
   ]
  },
  {
   "cell_type": "markdown",
   "metadata": {},
   "source": [
    "### Method 3: Lorentzian Distance Learning??"
   ]
  },
  {
   "cell_type": "markdown",
   "metadata": {},
   "source": [
    "### Evaluation (to Euclidean & Earlier Approach)"
   ]
  },
  {
   "cell_type": "markdown",
   "metadata": {},
   "source": [
    "### Load libraries and helper functions"
   ]
  },
  {
   "cell_type": "code",
   "execution_count": 1,
   "metadata": {
    "ExecuteTime": {
     "end_time": "2020-06-17T21:06:31.504354Z",
     "start_time": "2020-06-17T21:06:29.164640Z"
    }
   },
   "outputs": [],
   "source": [
    "# import libraries\n",
    "import numpy as np\n",
    "import pandas as pd\n",
    "import matplotlib.pyplot as plt\n",
    "import seaborn as sns\n",
    "plt.style.use('seaborn')\n",
    "%matplotlib inline\n",
    "import networkx as nx\n",
    "import sys\n",
    "import os\n",
    "\n",
    "# import modules within repository\n",
    "#my_path = 'C:\\\\Users\\\\dreww\\\\Desktop\\\\hyperbolic-learning\\\\utils' # path to utils folder\n",
    "#sys.path.append(my_path)\n",
    "#from utils import *\n",
    "#from embed import train_embeddings, load_embeddings, evaluate_model\n",
    "#from hkmeans import HyperbolicKMeans, plot_clusters\n",
    "\n",
    "# ignore warnings\n",
    "import warnings\n",
    "warnings.filterwarnings('ignore');\n",
    "\n",
    "# display multiple outputs within a cell\n",
    "from IPython.core.interactiveshell import InteractiveShell\n",
    "InteractiveShell.ast_node_interactivity = \"all\";"
   ]
  },
  {
   "cell_type": "markdown",
   "metadata": {},
   "source": [
    "### Format output given by R script"
   ]
  },
  {
   "cell_type": "code",
   "execution_count": 2,
   "metadata": {
    "ExecuteTime": {
     "end_time": "2020-06-17T21:06:31.678010Z",
     "start_time": "2020-06-17T21:06:31.507344Z"
    }
   },
   "outputs": [],
   "source": [
    "all_codes = pd.read_csv('data/tmp/allcodes.csv', sep=\"|\" , encoding='latin1', false_values=['\"'])\n",
    "majors = pd.read_csv('data/tmp/majors.csv', sep=\"|\")\n",
    "chapters = pd.read_csv('data/tmp/chapters.csv', sep=\"|\").transpose()\n",
    "sub_chapters = pd.read_csv('./data/tmp/subchapters.csv', sep=\"|\").transpose()\n",
    "\n",
    "df = pd.DataFrame(columns=['parent', 'child'])\n",
    "# print(all_codes.head(3))\n",
    "\n",
    "# handle chapters\n",
    "chapters = chapters.reset_index()\n",
    "chapters.columns = ['name', 'start', 'end']\n",
    "chapters['range'] = 'c_' + chapters['start'].map(str) + '_' + chapters['end'].map(str)\n",
    "\n",
    "chap_name_dict = dict(zip(chapters['name'], chapters['range']))\n",
    "chap_range_dict = dict(zip(chapters['range'], chapters['name']))\n",
    "\n",
    "sub_chapters = sub_chapters.reset_index()\n",
    "sub_chapters.columns = ['name', 'start', 'end']\n",
    "sub_chapters['range'] = 's_' + sub_chapters['start'].map(str) + '_' + sub_chapters['end'].map(str)\n",
    "\n",
    "subchap_name_dict = dict(zip(sub_chapters['name'], sub_chapters['range']))\n",
    "subchap_range_dict = dict(zip(sub_chapters['range'], sub_chapters['name']))"
   ]
  },
  {
   "cell_type": "markdown",
   "metadata": {},
   "source": [
    "## Issue with template formatting"
   ]
  },
  {
   "cell_type": "code",
   "execution_count": 3,
   "metadata": {
    "ExecuteTime": {
     "end_time": "2020-06-17T21:06:31.688978Z",
     "start_time": "2020-06-17T21:06:31.679998Z"
    }
   },
   "outputs": [
    {
     "data": {
      "text/html": [
       "<style>div.cell.text_cell.selected::before, .edit_mode div.cell.text_cell.selected:before, div.cell.text_cell.selected:before, div.cell.text_cell.selected.jupyter-soft-selected:before {background: #ffffff !important; background-color: #ffffff !important; border-color: #f2f2f2 !important;} </style>"
      ],
      "text/plain": [
       "<IPython.core.display.HTML object>"
      ]
     },
     "metadata": {},
     "output_type": "display_data"
    }
   ],
   "source": [
    "from IPython.core.display import display, HTML\n",
    "#display(HTML(\"<style>.container { width:100% !important; }</style>\"))\n",
    "#display(HTML('<style>'\n",
    "#                 'div.text_cell_selected { border-left: 5px solid #ff0000 !important; border-radius: 3px; }'\n",
    "#             '</style>'\n",
    "#\n",
    "display(HTML('<style>'\n",
    "                 'div.cell.text_cell.selected::before, .edit_mode div.cell.text_cell.selected:before, '\n",
    "                 'div.cell.text_cell.selected:before, div.cell.text_cell.selected.jupyter-soft-selected:before {background: #ffffff !important; background-color: #ffffff !important; border-color: #f2f2f2 !important;} '\n",
    "             '</style>'\n",
    "))                  "
   ]
  },
  {
   "cell_type": "code",
   "execution_count": 4,
   "metadata": {
    "ExecuteTime": {
     "end_time": "2020-06-17T21:06:31.792696Z",
     "start_time": "2020-06-17T21:06:31.692966Z"
    }
   },
   "outputs": [
    {
     "data": {
      "text/html": [
       "<style>div.text_cell_render{width:100%; margin-left:3%; margin-right:auto; } </style>"
      ],
      "text/plain": [
       "<IPython.core.display.HTML object>"
      ]
     },
     "metadata": {},
     "output_type": "display_data"
    }
   ],
   "source": [
    "from IPython.core.display import display, HTML\n",
    "display(HTML(\n",
    "    '<style>'\n",
    "         'div.text_cell_render{width:100%; margin-left:3%; margin-right:auto; } '\n",
    "    '</style>'\n",
    "))"
   ]
  }
 ],
 "metadata": {
  "kernelspec": {
   "display_name": "Python 3",
   "language": "python",
   "name": "python3"
  },
  "language_info": {
   "codemirror_mode": {
    "name": "ipython",
    "version": 3
   },
   "file_extension": ".py",
   "mimetype": "text/x-python",
   "name": "python",
   "nbconvert_exporter": "python",
   "pygments_lexer": "ipython3",
   "version": "3.7.1"
  },
  "latex_envs": {
   "LaTeX_envs_menu_present": true,
   "autoclose": false,
   "autocomplete": true,
   "bibliofile": "biblio.bib",
   "cite_by": "apalike",
   "current_citInitial": 1,
   "eqLabelWithNumbers": false,
   "eqNumInitial": 1,
   "hotkeys": {
    "equation": "Ctrl-E",
    "itemize": "Ctrl-I"
   },
   "labels_anchors": false,
   "latex_user_defs": false,
   "report_style_numbering": false,
   "user_envs_cfg": false
  },
  "nbTranslate": {
   "displayLangs": [
    "*"
   ],
   "hotkey": "alt-t",
   "langInMainMenu": true,
   "sourceLang": "en",
   "targetLang": "fr",
   "useGoogleTranslate": true
  },
  "varInspector": {
   "cols": {
    "lenName": 16,
    "lenType": 16,
    "lenVar": 40
   },
   "kernels_config": {
    "python": {
     "delete_cmd_postfix": "",
     "delete_cmd_prefix": "del ",
     "library": "var_list.py",
     "varRefreshCmd": "print(var_dic_list())"
    },
    "r": {
     "delete_cmd_postfix": ") ",
     "delete_cmd_prefix": "rm(",
     "library": "var_list.r",
     "varRefreshCmd": "cat(var_dic_list()) "
    }
   },
   "types_to_exclude": [
    "module",
    "function",
    "builtin_function_or_method",
    "instance",
    "_Feature"
   ],
   "window_display": false
  }
 },
 "nbformat": 4,
 "nbformat_minor": 2
}
