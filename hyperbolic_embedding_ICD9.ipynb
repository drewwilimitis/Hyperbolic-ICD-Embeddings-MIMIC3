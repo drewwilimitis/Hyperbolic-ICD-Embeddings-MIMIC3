{
 "cells": [
  {
   "cell_type": "markdown",
   "metadata": {},
   "source": [
    "# Hyperbolic Embedding Methods for Medical Ontology Networks\n",
    "<br>\n",
    "\n",
    "\n",
    "**Drew Wilimitis** <br> \n",
    "Department of Biomedical Informatics, Vanderbilt University Medical Center"
   ]
  },
  {
   "cell_type": "markdown",
   "metadata": {
    "cell_style": "center"
   },
   "source": [
    "![title](images/three_models.png)"
   ]
  },
  {
   "cell_type": "markdown",
   "metadata": {},
   "source": [
    "## Writing/Research Project Outline <br>\n",
    "\n",
    "____\n",
    "\n",
    "### Abstract :\n",
    "<br>\n",
    " "
   ]
  },
  {
   "cell_type": "markdown",
   "metadata": {},
   "source": [
    "### Intro: Broader Introduction and Contextual Framing  of My Investigation\n",
    "<br>\n",
    "\n",
    "As discussed in a recent survey of representation learning for Electronic Health Records **[1]**, there is currently a vast, disparate set of clinical data sources through which we attempt to understand a multi-layered, incredibly complex social network of patient-clinician interactions. In addition, the prevalence of high-throughput genomics data and cross-collaboration with clinical research is incredibly promising towards a more complete scientific understanding of biomedicine as it currently exists. However, to understand the dynamical processes involved in this system will significantly complicate the challenge of learning meaningful, informative data representations.\n",
    "<br>\n",
    "<br>\n",
    "\n",
    "This problem of representation learning challenges the progression of biomedical informatics and clinical science not only in the potential to build less accurate predictive models, but also to potentially erode any human interpretation or explainability of these algorithms. Given that many SOTA methods for representation learning are highly sophisticated deep-learning algorithms, and also because these SOTA methods involve immensely expensive transfer learning, converging to potentially hundreds of millions of parameters like BERT, despite its undeniable success in NLP tasks.<br>"
   ]
  },
  {
   "cell_type": "markdown",
   "metadata": {},
   "source": [
    "### 2. Background Overview of Hyperbolic Geometry:\n",
    "\n",
    "<br>\n",
    "\n",
    "**Note**: other datasets amenable to hyperbolic approaches: train a better and joint embedding with the hierarchy of medical ontologies, the textual descriptions of concepts, and even patients’ EHR data in the hyperbolic space\n",
    "\n",
    "### 3.1-3.4: Hyperbolic Embeddings <br>\n",
    "\n",
    "- Method 1: Apply the Poincare Embedding Algorithm\n",
    "\n",
    "- Method 2: Apply Lorentz Embedding\n",
    "\n",
    "- Method 3: Lorentzian Distance Learning??\n",
    "\n",
    "\n",
    "### 4.  Evaluation (to Euclidean & Earlier Approach) <br>\n",
    "<br>\n",
    "\n",
    "### 5. Apply Hyperbolic KMeans/Clustering?<br>\n",
    "<br>\n",
    "\n",
    "### 6. Conclusion/Discussion <br>\n",
    "<br>\n",
    "<br>"
   ]
  },
  {
   "cell_type": "markdown",
   "metadata": {},
   "source": [
    "___\n",
    "### References: <br>\n",
    "\n",
    "\n",
    "**[1]**. Weng, Wei-Hung and Peter Szolovits. “Representation Learning for Electronic Health Records.” ArXiv abs/1909.09248 (2019): n. pag.\n",
    "\n",
    "Beaulieu-Jones, Brett & Kohane, Isaac & Beam, Andrew. (2019). Learning Contextual Hierarchical Structure of Medical Concepts with Poincairé Embeddings to Clarify Phenotypes. Pacific Symposium on Biocomputing. Pacific Symposium on Biocomputing. 24. 8-17. \n",
    "\n",
    "Cao, Jiazhen. “A Case Study for Predicting in-Hospital Mortality by Utilizing the Hyperbolic Embedding of ICD-9 Medical Ontology.” (2019).\n",
    "\n",
    "Top FB AI poincare compare approaches with ICD: https://arxiv.org/pdf/1902.00913.pdf\n",
    "\n",
    "Snomed2Vec and Poincaré Embeddings of a Clinical Knowledge Base for Healthcare Analytics: https://arxiv.org/pdf/1907.08650.pdf\n",
    "\n",
    "gave public access to their results/embeddings/data: https://drive.google.com/drive/folders/1zre60Kd0nmQubgQO4iaf0TtWpVLaEKZO\n",
    "\n",
    "Learning Electronic Health Records through Hyperbolic\n",
    "Embedding of Medical Ontologies: https://dl.acm.org/doi/pdf/10.1145/3307339.3342148\n",
    "\n",
    "independent ICD embedding resarcher: \n",
    "also came up with these embedding 3d visuals and provides his data sources:\n",
    "\n",
    "http://projector.tensorflow.org/?config=https://raw.githubusercontent.com/aaronteoh/icd-embeddings/master/projector-config.json\n",
    "https://tech.aaronteoh.com/medical-diagnosis-codes-embeddings/\n",
    "https://raw.githubusercontent.com/aaronteoh/icd-embeddings/master/meta_desc.tsv\n",
    "<br>\n",
    "\n",
    "___"
   ]
  },
  {
   "cell_type": "markdown",
   "metadata": {},
   "source": [
    "# Initial Data and Process Exploration "
   ]
  },
  {
   "cell_type": "code",
   "execution_count": 1,
   "metadata": {
    "ExecuteTime": {
     "end_time": "2020-06-20T07:49:12.468874Z",
     "start_time": "2020-06-20T07:48:44.178490Z"
    }
   },
   "outputs": [],
   "source": [
    "# import libraries\n",
    "import numpy as np\n",
    "import pandas as pd\n",
    "import matplotlib.pyplot as plt\n",
    "import seaborn as sns\n",
    "plt.style.use('seaborn')\n",
    "%matplotlib inline\n",
    "import networkx as nx\n",
    "import sys\n",
    "import os\n",
    "\n",
    "# ignore warnings\n",
    "import warnings\n",
    "warnings.filterwarnings('ignore');\n",
    "\n",
    "# display multiple outputs within a cell\n",
    "from IPython.core.interactiveshell import InteractiveShell\n",
    "InteractiveShell.ast_node_interactivity = \"all\";"
   ]
  },
  {
   "cell_type": "code",
   "execution_count": 2,
   "metadata": {
    "ExecuteTime": {
     "end_time": "2020-06-20T07:49:13.132309Z",
     "start_time": "2020-06-20T07:49:12.480782Z"
    }
   },
   "outputs": [],
   "source": [
    "all_codes = pd.read_csv('data/tmp/allcodes.csv', sep=\"|\" , encoding='latin1', false_values=['\"'])\n",
    "majors = pd.read_csv('data/tmp/majors.csv', sep=\"|\")\n",
    "chapters = pd.read_csv('data/tmp/chapters.csv', sep=\"|\").transpose()\n",
    "sub_chapters = pd.read_csv('./data/tmp/subchapters.csv', sep=\"|\").transpose()\n",
    "\n",
    "df = pd.DataFrame(columns=['parent', 'child'])\n",
    "# print(all_codes.head(3))\n",
    "\n",
    "# handle chapters\n",
    "chapters = chapters.reset_index()\n",
    "chapters.columns = ['name', 'start', 'end']\n",
    "chapters['range'] = 'c_' + chapters['start'].map(str) + '_' + chapters['end'].map(str)\n",
    "\n",
    "chap_name_dict = dict(zip(chapters['name'], chapters['range']))\n",
    "chap_range_dict = dict(zip(chapters['range'], chapters['name']))\n",
    "\n",
    "sub_chapters = sub_chapters.reset_index()\n",
    "sub_chapters.columns = ['name', 'start', 'end']\n",
    "sub_chapters['range'] = 's_' + sub_chapters['start'].map(str) + '_' + sub_chapters['end'].map(str)\n",
    "\n",
    "subchap_name_dict = dict(zip(sub_chapters['name'], sub_chapters['range']))\n",
    "subchap_range_dict = dict(zip(sub_chapters['range'], sub_chapters['name']))"
   ]
  },
  {
   "cell_type": "code",
   "execution_count": 22,
   "metadata": {
    "ExecuteTime": {
     "end_time": "2020-06-20T08:04:59.837335Z",
     "start_time": "2020-06-20T08:04:59.817619Z"
    }
   },
   "outputs": [
    {
     "data": {
      "text/html": [
       "<div>\n",
       "<style scoped>\n",
       "    .dataframe tbody tr th:only-of-type {\n",
       "        vertical-align: middle;\n",
       "    }\n",
       "\n",
       "    .dataframe tbody tr th {\n",
       "        vertical-align: top;\n",
       "    }\n",
       "\n",
       "    .dataframe thead th {\n",
       "        text-align: right;\n",
       "    }\n",
       "</style>\n",
       "<table border=\"1\" class=\"dataframe\">\n",
       "  <thead>\n",
       "    <tr style=\"text-align: right;\">\n",
       "      <th></th>\n",
       "      <th>code</th>\n",
       "      <th>billable</th>\n",
       "      <th>short_desc</th>\n",
       "      <th>long_desc</th>\n",
       "      <th>three_digit</th>\n",
       "      <th>major</th>\n",
       "      <th>sub_chapter</th>\n",
       "      <th>chapter</th>\n",
       "    </tr>\n",
       "  </thead>\n",
       "  <tbody>\n",
       "    <tr>\n",
       "      <th>1</th>\n",
       "      <td>001</td>\n",
       "      <td>False</td>\n",
       "      <td>Cholera</td>\n",
       "      <td>Cholera</td>\n",
       "      <td>001</td>\n",
       "      <td>Cholera</td>\n",
       "      <td>Intestinal Infectious Diseases</td>\n",
       "      <td>Infectious And Parasitic Diseases</td>\n",
       "    </tr>\n",
       "    <tr>\n",
       "      <th>2</th>\n",
       "      <td>0010</td>\n",
       "      <td>True</td>\n",
       "      <td>Cholera d/t vib cholerae</td>\n",
       "      <td>Cholera due to vibrio cholerae</td>\n",
       "      <td>001</td>\n",
       "      <td>Cholera</td>\n",
       "      <td>Intestinal Infectious Diseases</td>\n",
       "      <td>Infectious And Parasitic Diseases</td>\n",
       "    </tr>\n",
       "    <tr>\n",
       "      <th>3</th>\n",
       "      <td>0011</td>\n",
       "      <td>True</td>\n",
       "      <td>Cholera d/t vib el tor</td>\n",
       "      <td>Cholera due to vibrio cholerae el tor</td>\n",
       "      <td>001</td>\n",
       "      <td>Cholera</td>\n",
       "      <td>Intestinal Infectious Diseases</td>\n",
       "      <td>Infectious And Parasitic Diseases</td>\n",
       "    </tr>\n",
       "    <tr>\n",
       "      <th>4</th>\n",
       "      <td>0019</td>\n",
       "      <td>True</td>\n",
       "      <td>Cholera NOS</td>\n",
       "      <td>Cholera, unspecified</td>\n",
       "      <td>001</td>\n",
       "      <td>Cholera</td>\n",
       "      <td>Intestinal Infectious Diseases</td>\n",
       "      <td>Infectious And Parasitic Diseases</td>\n",
       "    </tr>\n",
       "    <tr>\n",
       "      <th>5</th>\n",
       "      <td>002</td>\n",
       "      <td>False</td>\n",
       "      <td>Typhoid and paratyphoid fevers</td>\n",
       "      <td>Typhoid and paratyphoid fevers</td>\n",
       "      <td>002</td>\n",
       "      <td>Typhoid and paratyphoid fevers</td>\n",
       "      <td>Intestinal Infectious Diseases</td>\n",
       "      <td>Infectious And Parasitic Diseases</td>\n",
       "    </tr>\n",
       "  </tbody>\n",
       "</table>\n",
       "</div>"
      ],
      "text/plain": [
       "   code  billable                      short_desc  \\\n",
       "1   001     False                         Cholera   \n",
       "2  0010      True        Cholera d/t vib cholerae   \n",
       "3  0011      True          Cholera d/t vib el tor   \n",
       "4  0019      True                     Cholera NOS   \n",
       "5   002     False  Typhoid and paratyphoid fevers   \n",
       "\n",
       "                               long_desc three_digit  \\\n",
       "1                                Cholera         001   \n",
       "2         Cholera due to vibrio cholerae         001   \n",
       "3  Cholera due to vibrio cholerae el tor         001   \n",
       "4                   Cholera, unspecified         001   \n",
       "5         Typhoid and paratyphoid fevers         002   \n",
       "\n",
       "                            major                     sub_chapter  \\\n",
       "1                         Cholera  Intestinal Infectious Diseases   \n",
       "2                         Cholera  Intestinal Infectious Diseases   \n",
       "3                         Cholera  Intestinal Infectious Diseases   \n",
       "4                         Cholera  Intestinal Infectious Diseases   \n",
       "5  Typhoid and paratyphoid fevers  Intestinal Infectious Diseases   \n",
       "\n",
       "                             chapter  \n",
       "1  Infectious And Parasitic Diseases  \n",
       "2  Infectious And Parasitic Diseases  \n",
       "3  Infectious And Parasitic Diseases  \n",
       "4  Infectious And Parasitic Diseases  \n",
       "5  Infectious And Parasitic Diseases  "
      ]
     },
     "execution_count": 22,
     "metadata": {},
     "output_type": "execute_result"
    }
   ],
   "source": [
    "all_codes.head()"
   ]
  },
  {
   "cell_type": "code",
   "execution_count": 24,
   "metadata": {
    "ExecuteTime": {
     "end_time": "2020-06-20T08:09:39.886779Z",
     "start_time": "2020-06-20T08:09:39.849779Z"
    }
   },
   "outputs": [
    {
     "data": {
      "text/html": [
       "<div>\n",
       "<style scoped>\n",
       "    .dataframe tbody tr th:only-of-type {\n",
       "        vertical-align: middle;\n",
       "    }\n",
       "\n",
       "    .dataframe tbody tr th {\n",
       "        vertical-align: top;\n",
       "    }\n",
       "\n",
       "    .dataframe thead th {\n",
       "        text-align: right;\n",
       "    }\n",
       "</style>\n",
       "<table border=\"1\" class=\"dataframe\">\n",
       "  <thead>\n",
       "    <tr style=\"text-align: right;\">\n",
       "      <th></th>\n",
       "      <th>x</th>\n",
       "    </tr>\n",
       "  </thead>\n",
       "  <tbody>\n",
       "    <tr>\n",
       "      <th>Cholera</th>\n",
       "      <td>001</td>\n",
       "    </tr>\n",
       "    <tr>\n",
       "      <th>Typhoid and paratyphoid fevers</th>\n",
       "      <td>002</td>\n",
       "    </tr>\n",
       "    <tr>\n",
       "      <th>Other salmonella infections</th>\n",
       "      <td>003</td>\n",
       "    </tr>\n",
       "    <tr>\n",
       "      <th>Shigellosis</th>\n",
       "      <td>004</td>\n",
       "    </tr>\n",
       "    <tr>\n",
       "      <th>Other food poisoning (bacterial)</th>\n",
       "      <td>005</td>\n",
       "    </tr>\n",
       "  </tbody>\n",
       "</table>\n",
       "</div>"
      ],
      "text/plain": [
       "                                    x\n",
       "Cholera                           001\n",
       "Typhoid and paratyphoid fevers    002\n",
       "Other salmonella infections       003\n",
       "Shigellosis                       004\n",
       "Other food poisoning (bacterial)  005"
      ]
     },
     "execution_count": 24,
     "metadata": {},
     "output_type": "execute_result"
    },
    {
     "data": {
      "text/plain": [
       "(1234, 1)"
      ]
     },
     "execution_count": 24,
     "metadata": {},
     "output_type": "execute_result"
    },
    {
     "data": {
      "text/html": [
       "<div>\n",
       "<style scoped>\n",
       "    .dataframe tbody tr th:only-of-type {\n",
       "        vertical-align: middle;\n",
       "    }\n",
       "\n",
       "    .dataframe tbody tr th {\n",
       "        vertical-align: top;\n",
       "    }\n",
       "\n",
       "    .dataframe thead th {\n",
       "        text-align: right;\n",
       "    }\n",
       "</style>\n",
       "<table border=\"1\" class=\"dataframe\">\n",
       "  <thead>\n",
       "    <tr style=\"text-align: right;\">\n",
       "      <th></th>\n",
       "      <th>name</th>\n",
       "      <th>start</th>\n",
       "      <th>end</th>\n",
       "      <th>range</th>\n",
       "    </tr>\n",
       "  </thead>\n",
       "  <tbody>\n",
       "    <tr>\n",
       "      <th>0</th>\n",
       "      <td>Infectious.And.Parasitic.Diseases</td>\n",
       "      <td>1</td>\n",
       "      <td>139</td>\n",
       "      <td>c_1_139</td>\n",
       "    </tr>\n",
       "    <tr>\n",
       "      <th>1</th>\n",
       "      <td>Neoplasms</td>\n",
       "      <td>140</td>\n",
       "      <td>239</td>\n",
       "      <td>c_140_239</td>\n",
       "    </tr>\n",
       "    <tr>\n",
       "      <th>2</th>\n",
       "      <td>Endocrine..Nutritional.And.Metabolic.Diseases....</td>\n",
       "      <td>240</td>\n",
       "      <td>279</td>\n",
       "      <td>c_240_279</td>\n",
       "    </tr>\n",
       "    <tr>\n",
       "      <th>3</th>\n",
       "      <td>Diseases.Of.The.Blood.And.Blood.Forming.Organs</td>\n",
       "      <td>280</td>\n",
       "      <td>289</td>\n",
       "      <td>c_280_289</td>\n",
       "    </tr>\n",
       "    <tr>\n",
       "      <th>4</th>\n",
       "      <td>Mental.Disorders</td>\n",
       "      <td>290</td>\n",
       "      <td>319</td>\n",
       "      <td>c_290_319</td>\n",
       "    </tr>\n",
       "  </tbody>\n",
       "</table>\n",
       "</div>"
      ],
      "text/plain": [
       "                                                name start  end      range\n",
       "0                  Infectious.And.Parasitic.Diseases     1  139    c_1_139\n",
       "1                                          Neoplasms   140  239  c_140_239\n",
       "2  Endocrine..Nutritional.And.Metabolic.Diseases....   240  279  c_240_279\n",
       "3     Diseases.Of.The.Blood.And.Blood.Forming.Organs   280  289  c_280_289\n",
       "4                                   Mental.Disorders   290  319  c_290_319"
      ]
     },
     "execution_count": 24,
     "metadata": {},
     "output_type": "execute_result"
    },
    {
     "data": {
      "text/plain": [
       "(19, 4)"
      ]
     },
     "execution_count": 24,
     "metadata": {},
     "output_type": "execute_result"
    },
    {
     "data": {
      "text/html": [
       "<div>\n",
       "<style scoped>\n",
       "    .dataframe tbody tr th:only-of-type {\n",
       "        vertical-align: middle;\n",
       "    }\n",
       "\n",
       "    .dataframe tbody tr th {\n",
       "        vertical-align: top;\n",
       "    }\n",
       "\n",
       "    .dataframe thead th {\n",
       "        text-align: right;\n",
       "    }\n",
       "</style>\n",
       "<table border=\"1\" class=\"dataframe\">\n",
       "  <thead>\n",
       "    <tr style=\"text-align: right;\">\n",
       "      <th></th>\n",
       "      <th>name</th>\n",
       "      <th>start</th>\n",
       "      <th>end</th>\n",
       "      <th>range</th>\n",
       "    </tr>\n",
       "  </thead>\n",
       "  <tbody>\n",
       "    <tr>\n",
       "      <th>0</th>\n",
       "      <td>Intestinal.Infectious.Diseases</td>\n",
       "      <td>1</td>\n",
       "      <td>9</td>\n",
       "      <td>s_1_9</td>\n",
       "    </tr>\n",
       "    <tr>\n",
       "      <th>1</th>\n",
       "      <td>Tuberculosis</td>\n",
       "      <td>10</td>\n",
       "      <td>18</td>\n",
       "      <td>s_10_18</td>\n",
       "    </tr>\n",
       "    <tr>\n",
       "      <th>2</th>\n",
       "      <td>Zoonotic.Bacterial.Diseases</td>\n",
       "      <td>20</td>\n",
       "      <td>27</td>\n",
       "      <td>s_20_27</td>\n",
       "    </tr>\n",
       "    <tr>\n",
       "      <th>3</th>\n",
       "      <td>Other.Bacterial.Diseases</td>\n",
       "      <td>30</td>\n",
       "      <td>41</td>\n",
       "      <td>s_30_41</td>\n",
       "    </tr>\n",
       "    <tr>\n",
       "      <th>4</th>\n",
       "      <td>Human.Immunodeficiency.Virus..Hiv..Infection</td>\n",
       "      <td>42</td>\n",
       "      <td>42</td>\n",
       "      <td>s_42_42</td>\n",
       "    </tr>\n",
       "  </tbody>\n",
       "</table>\n",
       "</div>"
      ],
      "text/plain": [
       "                                           name start end    range\n",
       "0                Intestinal.Infectious.Diseases     1   9    s_1_9\n",
       "1                                  Tuberculosis    10  18  s_10_18\n",
       "2                   Zoonotic.Bacterial.Diseases    20  27  s_20_27\n",
       "3                      Other.Bacterial.Diseases    30  41  s_30_41\n",
       "4  Human.Immunodeficiency.Virus..Hiv..Infection    42  42  s_42_42"
      ]
     },
     "execution_count": 24,
     "metadata": {},
     "output_type": "execute_result"
    },
    {
     "data": {
      "text/plain": [
       "(164, 4)"
      ]
     },
     "execution_count": 24,
     "metadata": {},
     "output_type": "execute_result"
    }
   ],
   "source": [
    "majors.head()\n",
    "majors.shape\n",
    "chapters.head()\n",
    "chapters.shape\n",
    "sub_chapters.head()\n",
    "sub_chapters.shape"
   ]
  },
  {
   "cell_type": "code",
   "execution_count": 26,
   "metadata": {
    "ExecuteTime": {
     "end_time": "2020-06-20T09:00:27.330464Z",
     "start_time": "2020-06-20T09:00:27.321647Z"
    }
   },
   "outputs": [
    {
     "name": "stdout",
     "output_type": "stream",
     "text": [
      "(19, 4)\n",
      "(17, 4)\n",
      "(1234, 1)\n",
      "(928, 1)\n"
     ]
    }
   ],
   "source": [
    "# filter letter codes for now\n",
    "print(chapters.shape)\n",
    "chapters = chapters[:17]\n",
    "print(chapters.shape)\n",
    "\n",
    "print(majors.shape)\n",
    "majors = majors[:928]\n",
    "print(majors.shape)\n",
    "\n",
    "sub_chapters = sub_chapters[:119]"
   ]
  },
  {
   "cell_type": "code",
   "execution_count": 27,
   "metadata": {
    "ExecuteTime": {
     "end_time": "2020-06-20T09:01:19.966592Z",
     "start_time": "2020-06-20T09:01:17.642772Z"
    }
   },
   "outputs": [
    {
     "name": "stdout",
     "output_type": "stream",
     "text": [
      "[('s_725_729', 'c_710_739'), ('s_730_739', 'c_710_739'), ('s_760_763', 'c_760_779'), ('s_764_779', 'c_760_779'), ('s_780_789', 'c_780_799'), ('s_790_796', 'c_780_799'), ('s_797_799', 'c_780_799'), ('s_800_829', 'c_800_999'), ('s_800_804', 'c_800_999'), ('s_805_809', 'c_800_999'), ('s_810_819', 'c_800_999'), ('s_820_829', 'c_800_999'), ('s_830_839', 'c_800_999'), ('s_840_848', 'c_800_999'), ('s_850_854', 'c_800_999'), ('s_860_869', 'c_800_999'), ('s_870_897', 'c_800_999'), ('s_870_879', 'c_800_999'), ('s_880_887', 'c_800_999'), ('s_890_897', 'c_800_999'), ('s_900_904', 'c_800_999'), ('s_905_909', 'c_800_999'), ('s_910_919', 'c_800_999'), ('s_920_924', 'c_800_999'), ('s_925_929', 'c_800_999'), ('s_930_939', 'c_800_999'), ('s_940_949', 'c_800_999'), ('s_950_957', 'c_800_999'), ('s_958_959', 'c_800_999'), ('s_960_979', 'c_800_999'), ('s_980_989', 'c_800_999'), ('s_990_995', 'c_800_999'), ('s_996_999', 'c_800_999'), ('c_1_139', 'center'), ('c_140_239', 'center'), ('c_240_279', 'center'), ('c_280_289', 'center'), ('c_290_319', 'center'), ('c_320_389', 'center'), ('c_390_459', 'center'), ('c_460_519', 'center'), ('c_520_579', 'center'), ('c_580_629', 'center'), ('c_630_679', 'center'), ('c_680_709', 'center'), ('c_710_739', 'center'), ('c_740_759', 'center'), ('c_760_779', 'center'), ('c_780_799', 'center'), ('c_800_999', 'center')]\n",
      "1896\n"
     ]
    }
   ],
   "source": [
    "relations = []\n",
    "for i, major in majors.iterrows():\n",
    "    # chapter first\n",
    "    # then subchapter\n",
    "    relations.append((major['x'], chapters.loc[(int(major['x']) >= chapters['start'].astype(int))\n",
    "                                   & (int(major['x']) <= chapters['end'].astype(int))]['range'].values[0]))    \n",
    "    sub_chapter_formajor = sub_chapters.loc[(int(major['x']) >= sub_chapters['start'].astype(int))\n",
    "                                       & (int(major['x']) <= sub_chapters['end'].astype(int))]['range'].values\n",
    "   \n",
    "    if len(sub_chapter_formajor) == 1:\n",
    "        relations.append((major['x'], sub_chapter_formajor[0]))\n",
    "        \n",
    "\n",
    "for i, sub in sub_chapters.iterrows():\n",
    "    relations.append((sub['range'], chapters.loc[(int(sub['start']) >= chapters['start'].astype(int))\n",
    "                                   & (int(sub['start']) <= chapters['end'].astype(int))]['range'].values[0]))\n",
    "    \n",
    "for i, chapter in chapters.iterrows():\n",
    "    relations.append((chapter['range'], 'center'))\n",
    "\n",
    "    \n",
    "print(relations[-50:])\n",
    "print(len(relations))"
   ]
  },
  {
   "cell_type": "code",
   "execution_count": 18,
   "metadata": {
    "ExecuteTime": {
     "end_time": "2020-06-20T08:03:56.625533Z",
     "start_time": "2020-06-20T08:03:56.433635Z"
    }
   },
   "outputs": [
    {
     "data": {
      "text/html": [
       "<div>\n",
       "<style scoped>\n",
       "    .dataframe tbody tr th:only-of-type {\n",
       "        vertical-align: middle;\n",
       "    }\n",
       "\n",
       "    .dataframe tbody tr th {\n",
       "        vertical-align: top;\n",
       "    }\n",
       "\n",
       "    .dataframe thead th {\n",
       "        text-align: right;\n",
       "    }\n",
       "</style>\n",
       "<table border=\"1\" class=\"dataframe\">\n",
       "  <thead>\n",
       "    <tr style=\"text-align: right;\">\n",
       "      <th></th>\n",
       "      <th>0</th>\n",
       "      <th>1</th>\n",
       "    </tr>\n",
       "  </thead>\n",
       "  <tbody>\n",
       "    <tr>\n",
       "      <th>0</th>\n",
       "      <td>001</td>\n",
       "      <td>c_1_139</td>\n",
       "    </tr>\n",
       "    <tr>\n",
       "      <th>1</th>\n",
       "      <td>001</td>\n",
       "      <td>s_1_9</td>\n",
       "    </tr>\n",
       "    <tr>\n",
       "      <th>2</th>\n",
       "      <td>002</td>\n",
       "      <td>c_1_139</td>\n",
       "    </tr>\n",
       "    <tr>\n",
       "      <th>3</th>\n",
       "      <td>002</td>\n",
       "      <td>s_1_9</td>\n",
       "    </tr>\n",
       "    <tr>\n",
       "      <th>4</th>\n",
       "      <td>003</td>\n",
       "      <td>c_1_139</td>\n",
       "    </tr>\n",
       "    <tr>\n",
       "      <th>...</th>\n",
       "      <td>...</td>\n",
       "      <td>...</td>\n",
       "    </tr>\n",
       "    <tr>\n",
       "      <th>1891</th>\n",
       "      <td>c_710_739</td>\n",
       "      <td>center</td>\n",
       "    </tr>\n",
       "    <tr>\n",
       "      <th>1892</th>\n",
       "      <td>c_740_759</td>\n",
       "      <td>center</td>\n",
       "    </tr>\n",
       "    <tr>\n",
       "      <th>1893</th>\n",
       "      <td>c_760_779</td>\n",
       "      <td>center</td>\n",
       "    </tr>\n",
       "    <tr>\n",
       "      <th>1894</th>\n",
       "      <td>c_780_799</td>\n",
       "      <td>center</td>\n",
       "    </tr>\n",
       "    <tr>\n",
       "      <th>1895</th>\n",
       "      <td>c_800_999</td>\n",
       "      <td>center</td>\n",
       "    </tr>\n",
       "  </tbody>\n",
       "</table>\n",
       "<p>1896 rows × 2 columns</p>\n",
       "</div>"
      ],
      "text/plain": [
       "              0        1\n",
       "0           001  c_1_139\n",
       "1           001    s_1_9\n",
       "2           002  c_1_139\n",
       "3           002    s_1_9\n",
       "4           003  c_1_139\n",
       "...         ...      ...\n",
       "1891  c_710_739   center\n",
       "1892  c_740_759   center\n",
       "1893  c_760_779   center\n",
       "1894  c_780_799   center\n",
       "1895  c_800_999   center\n",
       "\n",
       "[1896 rows x 2 columns]"
      ]
     },
     "execution_count": 18,
     "metadata": {},
     "output_type": "execute_result"
    }
   ],
   "source": [
    "pd.read_csv('data/icd_data/icd.tsv', sep='\\t', header=None, cols=[])"
   ]
  }
 ],
 "metadata": {
  "kernelspec": {
   "display_name": "Python 3",
   "language": "python",
   "name": "python3"
  },
  "language_info": {
   "codemirror_mode": {
    "name": "ipython",
    "version": 3
   },
   "file_extension": ".py",
   "mimetype": "text/x-python",
   "name": "python",
   "nbconvert_exporter": "python",
   "pygments_lexer": "ipython3",
   "version": "3.7.1"
  },
  "latex_envs": {
   "LaTeX_envs_menu_present": true,
   "autoclose": false,
   "autocomplete": true,
   "bibliofile": "biblio.bib",
   "cite_by": "apalike",
   "current_citInitial": 1,
   "eqLabelWithNumbers": false,
   "eqNumInitial": 1,
   "hotkeys": {
    "equation": "Ctrl-E",
    "itemize": "Ctrl-I"
   },
   "labels_anchors": false,
   "latex_user_defs": false,
   "report_style_numbering": false,
   "user_envs_cfg": false
  },
  "nbTranslate": {
   "displayLangs": [
    "*"
   ],
   "hotkey": "alt-t",
   "langInMainMenu": true,
   "sourceLang": "en",
   "targetLang": "fr",
   "useGoogleTranslate": true
  },
  "varInspector": {
   "cols": {
    "lenName": 16,
    "lenType": 16,
    "lenVar": 40
   },
   "kernels_config": {
    "python": {
     "delete_cmd_postfix": "",
     "delete_cmd_prefix": "del ",
     "library": "var_list.py",
     "varRefreshCmd": "print(var_dic_list())"
    },
    "r": {
     "delete_cmd_postfix": ") ",
     "delete_cmd_prefix": "rm(",
     "library": "var_list.r",
     "varRefreshCmd": "cat(var_dic_list()) "
    }
   },
   "types_to_exclude": [
    "module",
    "function",
    "builtin_function_or_method",
    "instance",
    "_Feature"
   ],
   "window_display": false
  }
 },
 "nbformat": 4,
 "nbformat_minor": 2
}
